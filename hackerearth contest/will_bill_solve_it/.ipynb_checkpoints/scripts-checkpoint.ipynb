{
 "cells": [
  {
   "cell_type": "code",
   "execution_count": 1,
   "metadata": {
    "collapsed": true
   },
   "outputs": [],
   "source": [
    "import pandas as pd\n",
    "import seaborn as sb\n",
    "from random import shuffle\n",
    "import numpy as np\n",
    "import pickle\n",
    "import matplotlib.pyplot as plt\n",
    "%matplotlib inline "
   ]
  },
  {
   "cell_type": "code",
   "execution_count": 2,
   "metadata": {
    "collapsed": true
   },
   "outputs": [],
   "source": [
    "# For writing objects to files\n",
    "def save_object(obj, filename):\n",
    "    with open(filename, 'wb') as output:\n",
    "        pickle.dump(obj, output, pickle.HIGHEST_PROTOCOL)\n",
    "    return\n",
    "\n",
    "def load_object(filename):\n",
    "    with open(filename, 'rb') as input:\n",
    "        obj=pickle.load(input)\n",
    "    return obj"
   ]
  },
  {
   "cell_type": "code",
   "execution_count": 3,
   "metadata": {
    "collapsed": false
   },
   "outputs": [],
   "source": [
    "#reading the csv files\n",
    "df_prb=pd.read_csv(\"train/problems.csv\")\n",
    "df_sub=pd.read_csv(\"train/submissions.csv\")\n",
    "df_usr=pd.read_csv(\"train/users.csv\")"
   ]
  },
  {
   "cell_type": "code",
   "execution_count": 4,
   "metadata": {
    "collapsed": false
   },
   "outputs": [
    {
     "data": {
      "text/plain": [
       "Index([u'problem_id', u'level', u'accuracy', u'solved_count', u'error_count',\n",
       "       u'rating', u'tag1', u'tag2', u'tag3', u'tag4', u'tag5'],\n",
       "      dtype='object')"
      ]
     },
     "execution_count": 4,
     "metadata": {},
     "output_type": "execute_result"
    }
   ],
   "source": [
    "df_prb.columns"
   ]
  },
  {
   "cell_type": "code",
   "execution_count": 5,
   "metadata": {
    "collapsed": false
   },
   "outputs": [
    {
     "data": {
      "text/plain": [
       "Index([u'user_id', u'skills', u'solved_count', u'attempts', u'user_type'], dtype='object')"
      ]
     },
     "execution_count": 5,
     "metadata": {},
     "output_type": "execute_result"
    }
   ],
   "source": [
    "df_usr.columns"
   ]
  },
  {
   "cell_type": "code",
   "execution_count": 6,
   "metadata": {
    "collapsed": false
   },
   "outputs": [
    {
     "data": {
      "text/plain": [
       "Index([u'user_id', u'problem_id', u'solved_status', u'result',\n",
       "       u'language_used', u'execution_time'],\n",
       "      dtype='object')"
      ]
     },
     "execution_count": 6,
     "metadata": {},
     "output_type": "execute_result"
    }
   ],
   "source": [
    "df_sub.columns"
   ]
  },
  {
   "cell_type": "code",
   "execution_count": 7,
   "metadata": {
    "collapsed": false
   },
   "outputs": [
    {
     "data": {
      "text/html": [
       "<div>\n",
       "<table border=\"1\" class=\"dataframe\">\n",
       "  <thead>\n",
       "    <tr style=\"text-align: right;\">\n",
       "      <th></th>\n",
       "      <th>user_id</th>\n",
       "      <th>solved_count</th>\n",
       "      <th>attempts</th>\n",
       "    </tr>\n",
       "  </thead>\n",
       "  <tbody>\n",
       "    <tr>\n",
       "      <th>count</th>\n",
       "      <td>6.253000e+04</td>\n",
       "      <td>62530.00000</td>\n",
       "      <td>62530.000000</td>\n",
       "    </tr>\n",
       "    <tr>\n",
       "      <th>mean</th>\n",
       "      <td>1.126397e+06</td>\n",
       "      <td>9.16624</td>\n",
       "      <td>14.184184</td>\n",
       "    </tr>\n",
       "    <tr>\n",
       "      <th>std</th>\n",
       "      <td>1.568650e+05</td>\n",
       "      <td>23.04161</td>\n",
       "      <td>42.325201</td>\n",
       "    </tr>\n",
       "    <tr>\n",
       "      <th>min</th>\n",
       "      <td>9.036330e+05</td>\n",
       "      <td>0.00000</td>\n",
       "      <td>0.000000</td>\n",
       "    </tr>\n",
       "    <tr>\n",
       "      <th>25%</th>\n",
       "      <td>9.874055e+05</td>\n",
       "      <td>1.00000</td>\n",
       "      <td>2.000000</td>\n",
       "    </tr>\n",
       "    <tr>\n",
       "      <th>50%</th>\n",
       "      <td>1.095703e+06</td>\n",
       "      <td>3.00000</td>\n",
       "      <td>5.000000</td>\n",
       "    </tr>\n",
       "    <tr>\n",
       "      <th>75%</th>\n",
       "      <td>1.254677e+06</td>\n",
       "      <td>8.00000</td>\n",
       "      <td>15.000000</td>\n",
       "    </tr>\n",
       "    <tr>\n",
       "      <th>max</th>\n",
       "      <td>1.444693e+06</td>\n",
       "      <td>789.00000</td>\n",
       "      <td>7211.000000</td>\n",
       "    </tr>\n",
       "  </tbody>\n",
       "</table>\n",
       "</div>"
      ],
      "text/plain": [
       "            user_id  solved_count      attempts\n",
       "count  6.253000e+04   62530.00000  62530.000000\n",
       "mean   1.126397e+06       9.16624     14.184184\n",
       "std    1.568650e+05      23.04161     42.325201\n",
       "min    9.036330e+05       0.00000      0.000000\n",
       "25%    9.874055e+05       1.00000      2.000000\n",
       "50%    1.095703e+06       3.00000      5.000000\n",
       "75%    1.254677e+06       8.00000     15.000000\n",
       "max    1.444693e+06     789.00000   7211.000000"
      ]
     },
     "execution_count": 7,
     "metadata": {},
     "output_type": "execute_result"
    }
   ],
   "source": [
    "df_usr.describe()"
   ]
  },
  {
   "cell_type": "code",
   "execution_count": 8,
   "metadata": {
    "collapsed": false
   },
   "outputs": [
    {
     "data": {
      "text/html": [
       "<div>\n",
       "<table border=\"1\" class=\"dataframe\">\n",
       "  <thead>\n",
       "    <tr style=\"text-align: right;\">\n",
       "      <th></th>\n",
       "      <th>user_id</th>\n",
       "      <th>problem_id</th>\n",
       "      <th>execution_time</th>\n",
       "    </tr>\n",
       "  </thead>\n",
       "  <tbody>\n",
       "    <tr>\n",
       "      <th>count</th>\n",
       "      <td>1.198131e+06</td>\n",
       "      <td>1.198131e+06</td>\n",
       "      <td>1.198131e+06</td>\n",
       "    </tr>\n",
       "    <tr>\n",
       "      <th>mean</th>\n",
       "      <td>1.069449e+06</td>\n",
       "      <td>9.149489e+05</td>\n",
       "      <td>6.185554e+00</td>\n",
       "    </tr>\n",
       "    <tr>\n",
       "      <th>std</th>\n",
       "      <td>1.332692e+05</td>\n",
       "      <td>8.757769e+03</td>\n",
       "      <td>1.590281e+01</td>\n",
       "    </tr>\n",
       "    <tr>\n",
       "      <th>min</th>\n",
       "      <td>9.036330e+05</td>\n",
       "      <td>9.036370e+05</td>\n",
       "      <td>0.000000e+00</td>\n",
       "    </tr>\n",
       "    <tr>\n",
       "      <th>25%</th>\n",
       "      <td>9.607780e+05</td>\n",
       "      <td>9.081430e+05</td>\n",
       "      <td>7.941000e-01</td>\n",
       "    </tr>\n",
       "    <tr>\n",
       "      <th>50%</th>\n",
       "      <td>1.031925e+06</td>\n",
       "      <td>9.132520e+05</td>\n",
       "      <td>1.375200e+00</td>\n",
       "    </tr>\n",
       "    <tr>\n",
       "      <th>75%</th>\n",
       "      <td>1.149655e+06</td>\n",
       "      <td>9.191020e+05</td>\n",
       "      <td>5.001200e+00</td>\n",
       "    </tr>\n",
       "    <tr>\n",
       "      <th>max</th>\n",
       "      <td>1.444693e+06</td>\n",
       "      <td>9.379620e+05</td>\n",
       "      <td>8.113083e+02</td>\n",
       "    </tr>\n",
       "  </tbody>\n",
       "</table>\n",
       "</div>"
      ],
      "text/plain": [
       "            user_id    problem_id  execution_time\n",
       "count  1.198131e+06  1.198131e+06    1.198131e+06\n",
       "mean   1.069449e+06  9.149489e+05    6.185554e+00\n",
       "std    1.332692e+05  8.757769e+03    1.590281e+01\n",
       "min    9.036330e+05  9.036370e+05    0.000000e+00\n",
       "25%    9.607780e+05  9.081430e+05    7.941000e-01\n",
       "50%    1.031925e+06  9.132520e+05    1.375200e+00\n",
       "75%    1.149655e+06  9.191020e+05    5.001200e+00\n",
       "max    1.444693e+06  9.379620e+05    8.113083e+02"
      ]
     },
     "execution_count": 8,
     "metadata": {},
     "output_type": "execute_result"
    }
   ],
   "source": [
    "df_sub.describe()"
   ]
  },
  {
   "cell_type": "code",
   "execution_count": 9,
   "metadata": {
    "collapsed": false
   },
   "outputs": [
    {
     "data": {
      "text/html": [
       "<div>\n",
       "<table border=\"1\" class=\"dataframe\">\n",
       "  <thead>\n",
       "    <tr style=\"text-align: right;\">\n",
       "      <th></th>\n",
       "      <th>problem_id</th>\n",
       "      <th>accuracy</th>\n",
       "      <th>solved_count</th>\n",
       "      <th>error_count</th>\n",
       "      <th>rating</th>\n",
       "    </tr>\n",
       "  </thead>\n",
       "  <tbody>\n",
       "    <tr>\n",
       "      <th>count</th>\n",
       "      <td>1002.00000</td>\n",
       "      <td>1002.000000</td>\n",
       "      <td>1002.000000</td>\n",
       "      <td>1002.000000</td>\n",
       "      <td>1002.000000</td>\n",
       "    </tr>\n",
       "    <tr>\n",
       "      <th>mean</th>\n",
       "      <td>917246.96507</td>\n",
       "      <td>0.650130</td>\n",
       "      <td>256.564870</td>\n",
       "      <td>504.394212</td>\n",
       "      <td>2.521257</td>\n",
       "    </tr>\n",
       "    <tr>\n",
       "      <th>std</th>\n",
       "      <td>9773.51009</td>\n",
       "      <td>0.264183</td>\n",
       "      <td>599.753055</td>\n",
       "      <td>1004.772226</td>\n",
       "      <td>1.861138</td>\n",
       "    </tr>\n",
       "    <tr>\n",
       "      <th>min</th>\n",
       "      <td>903637.00000</td>\n",
       "      <td>0.000000</td>\n",
       "      <td>0.000000</td>\n",
       "      <td>0.000000</td>\n",
       "      <td>0.000000</td>\n",
       "    </tr>\n",
       "    <tr>\n",
       "      <th>25%</th>\n",
       "      <td>909165.50000</td>\n",
       "      <td>0.440000</td>\n",
       "      <td>32.000000</td>\n",
       "      <td>42.000000</td>\n",
       "      <td>0.000000</td>\n",
       "    </tr>\n",
       "    <tr>\n",
       "      <th>50%</th>\n",
       "      <td>915236.50000</td>\n",
       "      <td>0.720000</td>\n",
       "      <td>86.000000</td>\n",
       "      <td>161.000000</td>\n",
       "      <td>3.400000</td>\n",
       "    </tr>\n",
       "    <tr>\n",
       "      <th>75%</th>\n",
       "      <td>925529.75000</td>\n",
       "      <td>0.880000</td>\n",
       "      <td>228.750000</td>\n",
       "      <td>562.500000</td>\n",
       "      <td>3.975000</td>\n",
       "    </tr>\n",
       "    <tr>\n",
       "      <th>max</th>\n",
       "      <td>937962.00000</td>\n",
       "      <td>1.000000</td>\n",
       "      <td>8922.000000</td>\n",
       "      <td>13346.000000</td>\n",
       "      <td>5.000000</td>\n",
       "    </tr>\n",
       "  </tbody>\n",
       "</table>\n",
       "</div>"
      ],
      "text/plain": [
       "         problem_id     accuracy  solved_count   error_count       rating\n",
       "count    1002.00000  1002.000000   1002.000000   1002.000000  1002.000000\n",
       "mean   917246.96507     0.650130    256.564870    504.394212     2.521257\n",
       "std      9773.51009     0.264183    599.753055   1004.772226     1.861138\n",
       "min    903637.00000     0.000000      0.000000      0.000000     0.000000\n",
       "25%    909165.50000     0.440000     32.000000     42.000000     0.000000\n",
       "50%    915236.50000     0.720000     86.000000    161.000000     3.400000\n",
       "75%    925529.75000     0.880000    228.750000    562.500000     3.975000\n",
       "max    937962.00000     1.000000   8922.000000  13346.000000     5.000000"
      ]
     },
     "execution_count": 9,
     "metadata": {},
     "output_type": "execute_result"
    }
   ],
   "source": [
    "df_prb.describe()"
   ]
  },
  {
   "cell_type": "code",
   "execution_count": 10,
   "metadata": {
    "collapsed": false
   },
   "outputs": [],
   "source": [
    "users=df_usr['user_id'].unique()"
   ]
  },
  {
   "cell_type": "code",
   "execution_count": 11,
   "metadata": {
    "collapsed": false
   },
   "outputs": [
    {
     "name": "stdout",
     "output_type": "stream",
     "text": [
      "('Avg attempt for a user', 14.1841835918759)\n"
     ]
    }
   ],
   "source": [
    "#average attempt for a user to solve a problem\n",
    "tot_attempts=0\n",
    "for ii,row in df_usr.iterrows():\n",
    "    tot_attempts+=row['attempts']\n",
    "print(\"Avg attempt for a user\",tot_attempts/float(len(users)))"
   ]
  },
  {
   "cell_type": "code",
   "execution_count": 12,
   "metadata": {
    "collapsed": false
   },
   "outputs": [
    {
     "data": {
      "text/html": [
       "<div>\n",
       "<table border=\"1\" class=\"dataframe\">\n",
       "  <thead>\n",
       "    <tr style=\"text-align: right;\">\n",
       "      <th></th>\n",
       "      <th>problem_id</th>\n",
       "      <th>level</th>\n",
       "      <th>accuracy</th>\n",
       "      <th>solved_count</th>\n",
       "      <th>error_count</th>\n",
       "      <th>rating</th>\n",
       "      <th>tag1</th>\n",
       "      <th>tag2</th>\n",
       "      <th>tag3</th>\n",
       "      <th>tag4</th>\n",
       "      <th>tag5</th>\n",
       "    </tr>\n",
       "  </thead>\n",
       "  <tbody>\n",
       "    <tr>\n",
       "      <th>0</th>\n",
       "      <td>926159</td>\n",
       "      <td>NaN</td>\n",
       "      <td>0.93</td>\n",
       "      <td>229</td>\n",
       "      <td>31</td>\n",
       "      <td>3.1</td>\n",
       "      <td>NaN</td>\n",
       "      <td>NaN</td>\n",
       "      <td>NaN</td>\n",
       "      <td>NaN</td>\n",
       "      <td>NaN</td>\n",
       "    </tr>\n",
       "    <tr>\n",
       "      <th>1</th>\n",
       "      <td>917968</td>\n",
       "      <td>NaN</td>\n",
       "      <td>0.90</td>\n",
       "      <td>109</td>\n",
       "      <td>13</td>\n",
       "      <td>2.0</td>\n",
       "      <td>NaN</td>\n",
       "      <td>NaN</td>\n",
       "      <td>NaN</td>\n",
       "      <td>NaN</td>\n",
       "      <td>NaN</td>\n",
       "    </tr>\n",
       "    <tr>\n",
       "      <th>2</th>\n",
       "      <td>905681</td>\n",
       "      <td>E</td>\n",
       "      <td>0.33</td>\n",
       "      <td>113</td>\n",
       "      <td>261</td>\n",
       "      <td>3.5</td>\n",
       "      <td>Basic Programming</td>\n",
       "      <td>Implementation</td>\n",
       "      <td>NaN</td>\n",
       "      <td>NaN</td>\n",
       "      <td>NaN</td>\n",
       "    </tr>\n",
       "    <tr>\n",
       "      <th>3</th>\n",
       "      <td>911826</td>\n",
       "      <td>M</td>\n",
       "      <td>0.56</td>\n",
       "      <td>11</td>\n",
       "      <td>46</td>\n",
       "      <td>0.0</td>\n",
       "      <td>NaN</td>\n",
       "      <td>NaN</td>\n",
       "      <td>NaN</td>\n",
       "      <td>NaN</td>\n",
       "      <td>NaN</td>\n",
       "    </tr>\n",
       "    <tr>\n",
       "      <th>4</th>\n",
       "      <td>903637</td>\n",
       "      <td>E</td>\n",
       "      <td>0.81</td>\n",
       "      <td>312</td>\n",
       "      <td>410</td>\n",
       "      <td>4.1</td>\n",
       "      <td>Ad-Hoc</td>\n",
       "      <td>NaN</td>\n",
       "      <td>NaN</td>\n",
       "      <td>NaN</td>\n",
       "      <td>NaN</td>\n",
       "    </tr>\n",
       "  </tbody>\n",
       "</table>\n",
       "</div>"
      ],
      "text/plain": [
       "   problem_id level  accuracy  solved_count  error_count  rating  \\\n",
       "0      926159   NaN      0.93           229           31     3.1   \n",
       "1      917968   NaN      0.90           109           13     2.0   \n",
       "2      905681     E      0.33           113          261     3.5   \n",
       "3      911826     M      0.56            11           46     0.0   \n",
       "4      903637     E      0.81           312          410     4.1   \n",
       "\n",
       "                tag1            tag2 tag3 tag4 tag5  \n",
       "0                NaN             NaN  NaN  NaN  NaN  \n",
       "1                NaN             NaN  NaN  NaN  NaN  \n",
       "2  Basic Programming  Implementation  NaN  NaN  NaN  \n",
       "3                NaN             NaN  NaN  NaN  NaN  \n",
       "4             Ad-Hoc             NaN  NaN  NaN  NaN  "
      ]
     },
     "execution_count": 12,
     "metadata": {},
     "output_type": "execute_result"
    }
   ],
   "source": [
    "df_prb.head(5)"
   ]
  },
  {
   "cell_type": "code",
   "execution_count": 13,
   "metadata": {
    "collapsed": false
   },
   "outputs": [
    {
     "data": {
      "text/plain": [
       "array([nan, 'E', 'M', 'M-H', 'E-M', 'H'], dtype=object)"
      ]
     },
     "execution_count": 13,
     "metadata": {},
     "output_type": "execute_result"
    }
   ],
   "source": [
    "#checking unique values for level column\n",
    "df_prb['level'].unique()"
   ]
  },
  {
   "cell_type": "code",
   "execution_count": 14,
   "metadata": {
    "collapsed": false
   },
   "outputs": [
    {
     "data": {
      "text/plain": [
       "234"
      ]
     },
     "execution_count": 14,
     "metadata": {},
     "output_type": "execute_result"
    }
   ],
   "source": [
    "#checking for incomplete cells in problem.csv\n",
    "sum(df_prb['level'].isnull())"
   ]
  },
  {
   "cell_type": "code",
   "execution_count": 15,
   "metadata": {
    "collapsed": false
   },
   "outputs": [],
   "source": [
    "#dropping null valued rows\n",
    "df_prb_clean=df_prb.dropna(subset=['level'])"
   ]
  },
  {
   "cell_type": "code",
   "execution_count": 16,
   "metadata": {
    "collapsed": false
   },
   "outputs": [
    {
     "data": {
      "text/plain": [
       "768"
      ]
     },
     "execution_count": 16,
     "metadata": {},
     "output_type": "execute_result"
    }
   ],
   "source": [
    "len(df_prb_clean)"
   ]
  },
  {
   "cell_type": "code",
   "execution_count": 17,
   "metadata": {
    "collapsed": false
   },
   "outputs": [],
   "source": [
    "#finding average accuracy for problems per level\n",
    "level_avg_accuracy={}\n",
    "level_count={}\n",
    "for ii,row in df_prb_clean.iterrows():\n",
    "    if row['level'] not in level_avg_accuracy:\n",
    "        level_avg_accuracy[row['level']]=0\n",
    "        level_count[row['level']]=0\n",
    "    level_avg_accuracy[row['level']]+=row['accuracy']\n",
    "    level_count[row['level']]+=1\n",
    "\n",
    "for key in level_count:\n",
    "    level_avg_accuracy[key]/=level_count[key]"
   ]
  },
  {
   "cell_type": "code",
   "execution_count": 18,
   "metadata": {
    "collapsed": false
   },
   "outputs": [
    {
     "data": {
      "text/plain": [
       "{'E': 0.635225988700565,\n",
       " 'E-M': 0.5925757575757573,\n",
       " 'H': 0.5096875000000002,\n",
       " 'M': 0.5309504132231405,\n",
       " 'M-H': 0.525}"
      ]
     },
     "execution_count": 18,
     "metadata": {},
     "output_type": "execute_result"
    }
   ],
   "source": [
    "#Average accuracy per level\n",
    "level_avg_accuracy"
   ]
  },
  {
   "cell_type": "markdown",
   "metadata": {},
   "source": [
    "**Plotting average accuracy for each levels of questions**"
   ]
  },
  {
   "cell_type": "code",
   "execution_count": 19,
   "metadata": {
    "collapsed": false
   },
   "outputs": [
    {
     "data": {
      "text/plain": [
       "<matplotlib.axes._subplots.AxesSubplot at 0x7fa8d02dfc50>"
      ]
     },
     "execution_count": 19,
     "metadata": {},
     "output_type": "execute_result"
    },
    {
     "data": {
      "image/png": "[encoded data removed]",
      "text/plain": [
       "<matplotlib.figure.Figure at 0x7fa8d02b6b90>"
      ]
     },
     "metadata": {},
     "output_type": "display_data"
    }
   ],
   "source": [
    "sb.barplot(level_avg_accuracy.keys(),level_avg_accuracy.values())"
   ]
  },
  {
   "cell_type": "code",
   "execution_count": 20,
   "metadata": {
    "collapsed": false
   },
   "outputs": [
    {
     "data": {
      "text/html": [
       "<div>\n",
       "<table border=\"1\" class=\"dataframe\">\n",
       "  <thead>\n",
       "    <tr style=\"text-align: right;\">\n",
       "      <th></th>\n",
       "      <th>user_id</th>\n",
       "      <th>problem_id</th>\n",
       "      <th>solved_status</th>\n",
       "      <th>result</th>\n",
       "      <th>language_used</th>\n",
       "      <th>execution_time</th>\n",
       "    </tr>\n",
       "  </thead>\n",
       "  <tbody>\n",
       "    <tr>\n",
       "      <th>0</th>\n",
       "      <td>1056149</td>\n",
       "      <td>918786</td>\n",
       "      <td>SO</td>\n",
       "      <td>PAC</td>\n",
       "      <td>C</td>\n",
       "      <td>2.8109</td>\n",
       "    </tr>\n",
       "    <tr>\n",
       "      <th>1</th>\n",
       "      <td>1056149</td>\n",
       "      <td>918786</td>\n",
       "      <td>SO</td>\n",
       "      <td>AC</td>\n",
       "      <td>C</td>\n",
       "      <td>1.0051</td>\n",
       "    </tr>\n",
       "    <tr>\n",
       "      <th>2</th>\n",
       "      <td>1347625</td>\n",
       "      <td>909223</td>\n",
       "      <td>SO</td>\n",
       "      <td>AC</td>\n",
       "      <td>C++</td>\n",
       "      <td>3.6482</td>\n",
       "    </tr>\n",
       "    <tr>\n",
       "      <th>3</th>\n",
       "      <td>967099</td>\n",
       "      <td>936829</td>\n",
       "      <td>SO</td>\n",
       "      <td>AC</td>\n",
       "      <td>C++</td>\n",
       "      <td>1.5086</td>\n",
       "    </tr>\n",
       "    <tr>\n",
       "      <th>4</th>\n",
       "      <td>924192</td>\n",
       "      <td>916333</td>\n",
       "      <td>SO</td>\n",
       "      <td>PAC</td>\n",
       "      <td>Java</td>\n",
       "      <td>19.5771</td>\n",
       "    </tr>\n",
       "  </tbody>\n",
       "</table>\n",
       "</div>"
      ],
      "text/plain": [
       "   user_id  problem_id solved_status result language_used  execution_time\n",
       "0  1056149      918786            SO    PAC             C          2.8109\n",
       "1  1056149      918786            SO     AC             C          1.0051\n",
       "2  1347625      909223            SO     AC           C++          3.6482\n",
       "3   967099      936829            SO     AC           C++          1.5086\n",
       "4   924192      916333            SO    PAC          Java         19.5771"
      ]
     },
     "execution_count": 20,
     "metadata": {},
     "output_type": "execute_result"
    }
   ],
   "source": [
    "df_sub.head(5)"
   ]
  },
  {
   "cell_type": "code",
   "execution_count": 21,
   "metadata": {
    "collapsed": false
   },
   "outputs": [],
   "source": [
    "#groupby user_id and problem_id to see submission streak\n",
    "cols=['user_id','problem_id']\n",
    "df_grp=df_sub.groupby(cols)"
   ]
  },
  {
   "cell_type": "code",
   "execution_count": 22,
   "metadata": {
    "collapsed": false
   },
   "outputs": [],
   "source": [
    "#list of unique user_id-problem_id pair\n",
    "grp_ids=df_grp.groups"
   ]
  },
  {
   "cell_type": "code",
   "execution_count": 23,
   "metadata": {
    "collapsed": false
   },
   "outputs": [
    {
     "name": "stdout",
     "output_type": "stream",
     "text": [
      "        user_id  problem_id solved_status result language_used  execution_time\n",
      "562532  1037442      916711            SO    PAC          Java          2.2032\n",
      "562533  1037442      916711            SO     AC          Java          2.3243\n",
      "        user_id  problem_id solved_status result language_used  execution_time\n",
      "259286   967552      909306            SO    PAC        Python          1.6614\n",
      "259287   967552      909306            AT    PAC        Python          1.7115\n",
      "259288   967552      909306            AT    PAC        Python          2.5364\n",
      "259289   967552      909306            SO    PAC        Python          2.5427\n",
      "259290   967552      909306            AT    PAC        Python          2.2408\n",
      "259291   967552      909306            AT    PAC        Python          2.0345\n",
      "259292   967552      909306            SO     AC        Python          2.5140\n",
      "        user_id  problem_id solved_status result language_used  execution_time\n",
      "159163  1178898      926073            AT    PAC           C++          0.6692\n",
      "159164  1178898      926073            SO    PAC           C++          0.6883\n",
      "159165  1178898      926073            SO    PAC           C++          0.7167\n",
      "        user_id  problem_id solved_status result language_used  execution_time\n",
      "391837  1327831      925526            SO     AC          Java          2.7555\n",
      "        user_id  problem_id solved_status result language_used  execution_time\n",
      "214033   923365      907591            AT    PAC           C++          0.0000\n",
      "214034   923365      907591            AT    PAC           C++          0.6036\n",
      "        user_id  problem_id solved_status result language_used  execution_time\n",
      "840345  1372512      931661            AT    PAC           C++          1.0052\n",
      "        user_id  problem_id solved_status result language_used  execution_time\n",
      "711399   942894      908344            SO     AC          Java          1.2577\n"
     ]
    }
   ],
   "source": [
    "#printing 5 sample groups\n",
    "i=0\n",
    "for key in grp_ids:\n",
    "    print(df_grp.get_group(key))\n",
    "    if i>5:\n",
    "        break\n",
    "    i+=1"
   ]
  },
  {
   "cell_type": "code",
   "execution_count": 24,
   "metadata": {
    "collapsed": false
   },
   "outputs": [],
   "source": [
    "df_tmp=df_grp.get_group((967552,909306 ))\n",
    "#df_tmp=df_grp.get_group((1178898,926073))\n",
    "#printlen(df_tmp[df_tmp['result']=='AC'])\n",
    "#print (((df_tmp[df_tmp['result']=='AC']).head(1))['execution_time']).values[0]"
   ]
  },
  {
   "cell_type": "code",
   "execution_count": 25,
   "metadata": {
    "collapsed": false
   },
   "outputs": [
    {
     "data": {
      "text/plain": [
       "'user_time_imprv={}\\nuser_time_count={}\\ntest_grp=[(967552,909306),(1178898,926073),(1178898,926073),(1037442,916711),(1130935,913129)]\\nitr=0\\nfor key in grp_ids:\\n#for key in test_grp:\\n    print \"\\ruser \"+str(itr)+\":\"+str(key[0]),\\n    itr+=1\\n    tmp=df_grp.get_group(key)\\n    if len(tmp[tmp[\\'result\\']==\\'AC\\'])==0:\\n        continue\\n    else:\\n        best_exec_time=((tmp[tmp[\\'result\\']==\\'AC\\']).head(1)[\\'execution_time\\']).values[0]\\n    \\n    partial=tmp[tmp[\\'result\\']==\\'PAC\\']\\n    if len(partial)==0:\\n        continue\\n    res=0\\n    count=0\\n    for ii,row in partial.iterrows():\\n        run_time=row[\\'execution_time\\']\\n        if best_exec_time<run_time:\\n            res+=((run_time-best_exec_time)*100.0/best_exec_time)\\n            count+=1\\n    if count==0:\\n        continue\\n    #print   \\n    avg_res=res/count\\n    if key[0] not in user_time_imprv:\\n        user_time_imprv[key[0]]=0\\n    if key[0] not in user_time_count:\\n        user_time_count[key[0]]=0\\n    user_time_imprv[key[0]]+=avg_res\\n    user_time_count[key[0]]+=1\\n    \\n    \\nfor user in user_time_imprv:\\n    user_time_imprv[user]/=user_time_count[user]'"
      ]
     },
     "execution_count": 25,
     "metadata": {},
     "output_type": "execute_result"
    }
   ],
   "source": [
    "#code for computing users average percentage time improvements\n",
    "#uncomment for recomputing user_time_imprv object\n",
    "\"\"\"user_time_imprv={}\n",
    "user_time_count={}\n",
    "test_grp=[(967552,909306),(1178898,926073),(1178898,926073),(1037442,916711),(1130935,913129)]\n",
    "itr=0\n",
    "for key in grp_ids:\n",
    "#for key in test_grp:\n",
    "    print \"\\ruser \"+str(itr)+\":\"+str(key[0]),\n",
    "    itr+=1\n",
    "    tmp=df_grp.get_group(key)\n",
    "    if len(tmp[tmp['result']=='AC'])==0:\n",
    "        continue\n",
    "    else:\n",
    "        best_exec_time=((tmp[tmp['result']=='AC']).head(1)['execution_time']).values[0]\n",
    "    \n",
    "    partial=tmp[tmp['result']=='PAC']\n",
    "    if len(partial)==0:\n",
    "        continue\n",
    "    res=0\n",
    "    count=0\n",
    "    for ii,row in partial.iterrows():\n",
    "        run_time=row['execution_time']\n",
    "        if best_exec_time<run_time:\n",
    "            res+=((run_time-best_exec_time)*100.0/best_exec_time)\n",
    "            count+=1\n",
    "    if count==0:\n",
    "        continue\n",
    "    #print   \n",
    "    avg_res=res/count\n",
    "    if key[0] not in user_time_imprv:\n",
    "        user_time_imprv[key[0]]=0\n",
    "    if key[0] not in user_time_count:\n",
    "        user_time_count[key[0]]=0\n",
    "    user_time_imprv[key[0]]+=avg_res\n",
    "    user_time_count[key[0]]+=1\n",
    "    \n",
    "    \n",
    "for user in user_time_imprv:\n",
    "    user_time_imprv[user]/=user_time_count[user]\"\"\""
   ]
  },
  {
   "cell_type": "code",
   "execution_count": 26,
   "metadata": {
    "collapsed": false
   },
   "outputs": [],
   "source": [
    "#writing computational intensive code snippets to file\n",
    "#save_object(user_time_imprv, \"user_time_imprv.pkl\")"
   ]
  },
  {
   "cell_type": "code",
   "execution_count": 29,
   "metadata": {
    "collapsed": false
   },
   "outputs": [],
   "source": [
    "#loading pickled file into python object\n",
    "user_time_imprv=load_object(\"user_time_imprv.pkl\")"
   ]
  },
  {
   "cell_type": "code",
   "execution_count": 30,
   "metadata": {
    "collapsed": false
   },
   "outputs": [],
   "source": [
    "#user_time_imprv[967552]\n",
    "#user_time_imprv[1178898]\n",
    "#user_time_imprv[1130935]"
   ]
  },
  {
   "cell_type": "code",
   "execution_count": 31,
   "metadata": {
    "collapsed": false
   },
   "outputs": [
    {
     "name": "stdout",
     "output_type": "stream",
     "text": [
      "('user_id', '% improvement in execution time')\n",
      "(967552, 405.66527119209576)\n",
      "(1178898, 8.7020975962589322)\n",
      "(1130935, 343.08977930147847)\n",
      "(1034752, 17.311085931224564)\n"
     ]
    }
   ],
   "source": [
    "usr=[967552,1178898,1130935,1034752]\n",
    "print(\"user_id\",\"% improvement in execution time\")\n",
    "for key in usr:\n",
    "    print(key,user_time_imprv[key])"
   ]
  },
  {
   "cell_type": "code",
   "execution_count": 32,
   "metadata": {
    "collapsed": true
   },
   "outputs": [],
   "source": [
    "#why am in seeing huge improvement????\n",
    "## there are cases where the runtime is 105 for PAC and 5.18 for AC\n",
    "#df_sub[df_sub['user_id']==1130935]"
   ]
  },
  {
   "cell_type": "code",
   "execution_count": 33,
   "metadata": {
    "collapsed": false
   },
   "outputs": [
    {
     "name": "stdout",
     "output_type": "stream",
     "text": [
      "inf\n"
     ]
    }
   ],
   "source": [
    "global_avg_time_imprv=0\n",
    "for key in user_time_imprv:\n",
    "    global_avg_time_imprv+=(user_time_imprv[key])/len(user_time_imprv)\n",
    "print global_avg_time_imprv"
   ]
  },
  {
   "cell_type": "code",
   "execution_count": 34,
   "metadata": {
    "collapsed": false
   },
   "outputs": [
    {
     "name": "stdout",
     "output_type": "stream",
     "text": [
      "19497\n"
     ]
    }
   ],
   "source": [
    "print len(user_time_imprv)"
   ]
  },
  {
   "cell_type": "code",
   "execution_count": 35,
   "metadata": {
    "collapsed": false
   },
   "outputs": [],
   "source": [
    "#df_prb['tag1'].unique()"
   ]
  },
  {
   "cell_type": "code",
   "execution_count": 36,
   "metadata": {
    "collapsed": true
   },
   "outputs": [],
   "source": [
    "#removing rows with empty tag1 values\n",
    "df_prb_tag1_clean=df_prb.dropna(subset=['tag1'])"
   ]
  },
  {
   "cell_type": "code",
   "execution_count": 37,
   "metadata": {
    "collapsed": false
   },
   "outputs": [
    {
     "data": {
      "text/plain": [
       "725"
      ]
     },
     "execution_count": 37,
     "metadata": {},
     "output_type": "execute_result"
    }
   ],
   "source": [
    "len(df_prb_tag1_clean)"
   ]
  },
  {
   "cell_type": "code",
   "execution_count": 38,
   "metadata": {
    "collapsed": true
   },
   "outputs": [],
   "source": [
    "#Computing the solved count for each tag1 category of questions\n",
    "tag1_solved={}\n",
    "\n",
    "for ii,row in df_prb_tag1_clean.iterrows():\n",
    "    if row['tag1'] not in tag1_solved:\n",
    "        tag1_solved[row['tag1']]=0\n",
    "    tag1_solved[row['tag1']]+=row['solved_count']\n"
   ]
  },
  {
   "cell_type": "code",
   "execution_count": 39,
   "metadata": {
    "collapsed": false
   },
   "outputs": [
    {
     "data": {
      "text/plain": [
       "<matplotlib.axes._subplots.AxesSubplot at 0x7fa8c4182510>"
      ]
     },
     "execution_count": 39,
     "metadata": {},
     "output_type": "execute_result"
    },
    {
     "data": {
      "image/png": "[encoded data removed]",
      "text/plain": [
       "<matplotlib.figure.Figure at 0x7fa8d0177b10>"
      ]
     },
     "metadata": {},
     "output_type": "display_data"
    }
   ],
   "source": [
    "#which category of question are more solved\n",
    "#sb.boxplot(tag1_solved.keys(),tag1_solved.values())\n",
    "sb.barplot(tag1_solved.values()[0:28],tag1_solved.keys()[0:28])"
   ]
  },
  {
   "cell_type": "code",
   "execution_count": 40,
   "metadata": {
    "collapsed": false
   },
   "outputs": [
    {
     "data": {
      "image/png": "[encoded data removed]",
      "text/plain": [
       "<matplotlib.figure.Figure at 0x7fa8c2917550>"
      ]
     },
     "metadata": {},
     "output_type": "display_data"
    }
   ],
   "source": [
    "fig=sb.barplot(tag1_solved.values()[28:],tag1_solved.keys()[28:])"
   ]
  },
  {
   "cell_type": "code",
   "execution_count": 41,
   "metadata": {
    "collapsed": true
   },
   "outputs": [],
   "source": [
    "#removing rows with empty tag2 column values\n",
    "df_prb_tag2_clean=df_prb.dropna(subset=['tag2'])"
   ]
  },
  {
   "cell_type": "code",
   "execution_count": 42,
   "metadata": {
    "collapsed": false
   },
   "outputs": [
    {
     "data": {
      "text/plain": [
       "473"
      ]
     },
     "execution_count": 42,
     "metadata": {},
     "output_type": "execute_result"
    }
   ],
   "source": [
    "len(df_prb_tag2_clean)\n",
    "#df_prb_tag2_clean.head()"
   ]
  },
  {
   "cell_type": "code",
   "execution_count": 43,
   "metadata": {
    "collapsed": false
   },
   "outputs": [],
   "source": [
    "#computing the error count for each tag2 category of questions\n",
    "tag2_error={}\n",
    "for ii,row in df_prb_tag2_clean.iterrows():\n",
    "    if row['tag2'] not in tag2_error:\n",
    "        tag2_error[row['tag2']]=0\n",
    "    tag2_error[row['tag2']]+=row['error_count']"
   ]
  },
  {
   "cell_type": "code",
   "execution_count": 44,
   "metadata": {
    "collapsed": false
   },
   "outputs": [
    {
     "data": {
      "text/plain": [
       "<matplotlib.axes._subplots.AxesSubplot at 0x7fa8c25fddd0>"
      ]
     },
     "execution_count": 44,
     "metadata": {},
     "output_type": "execute_result"
    },
    {
     "data": {
      "image/png": "[encoded data removed]",
      "text/plain": [
       "<matplotlib.figure.Figure at 0x7fa8c2598190>"
      ]
     },
     "metadata": {},
     "output_type": "display_data"
    }
   ],
   "source": [
    "sb.barplot(tag2_error.values()[0:28],tag2_error.keys()[0:28])"
   ]
  },
  {
   "cell_type": "code",
   "execution_count": 45,
   "metadata": {
    "collapsed": false
   },
   "outputs": [
    {
     "data": {
      "text/plain": [
       "<matplotlib.axes._subplots.AxesSubplot at 0x7fa8c240d7d0>"
      ]
     },
     "execution_count": 45,
     "metadata": {},
     "output_type": "execute_result"
    },
    {
     "data": {
      "image/png": "[encoded data removed]",
      "text/plain": [
       "<matplotlib.figure.Figure at 0x7fa8c260fb50>"
      ]
     },
     "metadata": {},
     "output_type": "display_data"
    }
   ],
   "source": [
    "sb.barplot(tag2_error.values()[28:],tag2_error.keys()[28:])"
   ]
  },
  {
   "cell_type": "code",
   "execution_count": null,
   "metadata": {
    "collapsed": false
   },
   "outputs": [],
   "source": [
    "#Computing the total submissions count for each language\n",
    "\n",
    "popular_language={}\n",
    "for ii,row in df_sub.iterrows():\n",
    "    if row['language_used'] not in popular_language:\n",
    "        popular_language[row['language_used']]=0\n",
    "    popular_language[row['language_used']]+=1\n",
    "    "
   ]
  },
  {
   "cell_type": "code",
   "execution_count": 47,
   "metadata": {
    "collapsed": false
   },
   "outputs": [
    {
     "data": {
      "text/plain": [
       "<matplotlib.axes._subplots.AxesSubplot at 0x7fa8cd1cc3d0>"
      ]
     },
     "execution_count": 47,
     "metadata": {},
     "output_type": "execute_result"
    },
    {
     "data": {
      "image/png": "[encoded data removed]",
      "text/plain": [
       "<matplotlib.figure.Figure at 0x7fa8c260fbd0>"
      ]
     },
     "metadata": {},
     "output_type": "display_data"
    }
   ],
   "source": [
    "sb.barplot(popular_language.values(),popular_language.keys())"
   ]
  },
  {
   "cell_type": "code",
   "execution_count": 54,
   "metadata": {
    "collapsed": false
   },
   "outputs": [
    {
     "name": "stdout",
     "output_type": "stream",
     "text": [
      "7728\n",
      "26487\n"
     ]
    }
   ],
   "source": [
    "print len(df_usr[df_usr['user_type']=='S'])\n",
    "print len(df_usr[df_usr['user_type']=='W'])"
   ]
  },
  {
   "cell_type": "code",
   "execution_count": 55,
   "metadata": {
    "collapsed": false
   },
   "outputs": [
    {
     "data": {
      "text/plain": [
       "<matplotlib.axes._subplots.AxesSubplot at 0x7fa8be7d5e10>"
      ]
     },
     "execution_count": 55,
     "metadata": {},
     "output_type": "execute_result"
    },
    {
     "data": {
      "image/png": "[encoded data removed]",
      "text/plain": [
       "<matplotlib.figure.Figure at 0x7fa8be94fd50>"
      ]
     },
     "metadata": {},
     "output_type": "display_data"
    }
   ],
   "source": [
    "sb.barplot(['S','W'],[7728,26487])"
   ]
  },
  {
   "cell_type": "code",
   "execution_count": null,
   "metadata": {
    "collapsed": true
   },
   "outputs": [],
   "source": []
  }
 ],
 "metadata": {
  "kernelspec": {
   "display_name": "Python 2",
   "language": "python",
   "name": "python2"
  },
  "language_info": {
   "codemirror_mode": {
    "name": "ipython",
    "version": 2
   },
   "file_extension": ".py",
   "mimetype": "text/x-python",
   "name": "python",
   "nbconvert_exporter": "python",
   "pygments_lexer": "ipython2",
   "version": "2.7.10"
  }
 },
 "nbformat": 4,
 "nbformat_minor": 1
}
