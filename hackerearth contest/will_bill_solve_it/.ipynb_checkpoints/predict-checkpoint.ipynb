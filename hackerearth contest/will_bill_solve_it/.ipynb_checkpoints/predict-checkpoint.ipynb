{
 "cells": [
  {
   "cell_type": "code",
   "execution_count": 1,
   "metadata": {
    "collapsed": true
   },
   "outputs": [],
   "source": [
    "import pandas as pd\n",
    "import seaborn as sb\n",
    "from random import shuffle\n",
    "import numpy as np\n",
    "import pickle\n",
    "import matplotlib.pyplot as plt\n",
    "%matplotlib inline \n",
    "import os"
   ]
  },
  {
   "cell_type": "code",
   "execution_count": 2,
   "metadata": {
    "collapsed": true
   },
   "outputs": [],
   "source": [
    "# For writing objects to files\n",
    "def save_object(obj, filename):\n",
    "    with open(filename, 'wb') as output:\n",
    "        pickle.dump(obj, output, pickle.HIGHEST_PROTOCOL)\n",
    "    return\n",
    "\n",
    "def load_object(filename):\n",
    "    with open(filename, 'rb') as input:\n",
    "        obj=pickle.load(input)\n",
    "    return obj"
   ]
  },
  {
   "cell_type": "code",
   "execution_count": 3,
   "metadata": {
    "collapsed": true
   },
   "outputs": [],
   "source": [
    "#reading the csv files\n",
    "df_prb=pd.read_csv(\"train/problems.csv\")\n",
    "df_sub=pd.read_csv(\"train/submissions.csv\")\n",
    "df_usr=pd.read_csv(\"train/users.csv\")"
   ]
  },
  {
   "cell_type": "code",
   "execution_count": 4,
   "metadata": {
    "collapsed": true
   },
   "outputs": [],
   "source": [
    "#group by user_id and problem_id to see submission status\n",
    "cols=['user_id','problem_id']\n",
    "df_grp=df_sub.groupby(cols)"
   ]
  },
  {
   "cell_type": "code",
   "execution_count": 5,
   "metadata": {
    "collapsed": true
   },
   "outputs": [],
   "source": [
    "grp_ids=df_grp.groups"
   ]
  },
  {
   "cell_type": "code",
   "execution_count": 6,
   "metadata": {
    "collapsed": true
   },
   "outputs": [],
   "source": [
    "user_problem_solved={}"
   ]
  },
  {
   "cell_type": "code",
   "execution_count": 7,
   "metadata": {
    "collapsed": false
   },
   "outputs": [
    {
     "data": {
      "text/plain": [
       "array(['PAC', 'AC'], dtype=object)"
      ]
     },
     "execution_count": 7,
     "metadata": {},
     "output_type": "execute_result"
    }
   ],
   "source": [
    "#target labels PAC=-1 and AC=+1\n",
    "df_sub['result'].unique()"
   ]
  },
  {
   "cell_type": "code",
   "execution_count": 8,
   "metadata": {
    "collapsed": false
   },
   "outputs": [
    {
     "data": {
      "text/html": [
       "<div>\n",
       "<table border=\"1\" class=\"dataframe\">\n",
       "  <thead>\n",
       "    <tr style=\"text-align: right;\">\n",
       "      <th></th>\n",
       "      <th>user_id</th>\n",
       "      <th>problem_id</th>\n",
       "      <th>solved_status</th>\n",
       "      <th>result</th>\n",
       "      <th>language_used</th>\n",
       "      <th>execution_time</th>\n",
       "    </tr>\n",
       "  </thead>\n",
       "  <tbody>\n",
       "    <tr>\n",
       "      <th>159163</th>\n",
       "      <td>1178898</td>\n",
       "      <td>926073</td>\n",
       "      <td>AT</td>\n",
       "      <td>PAC</td>\n",
       "      <td>C++</td>\n",
       "      <td>0.6692</td>\n",
       "    </tr>\n",
       "    <tr>\n",
       "      <th>159164</th>\n",
       "      <td>1178898</td>\n",
       "      <td>926073</td>\n",
       "      <td>SO</td>\n",
       "      <td>PAC</td>\n",
       "      <td>C++</td>\n",
       "      <td>0.6883</td>\n",
       "    </tr>\n",
       "    <tr>\n",
       "      <th>159165</th>\n",
       "      <td>1178898</td>\n",
       "      <td>926073</td>\n",
       "      <td>SO</td>\n",
       "      <td>PAC</td>\n",
       "      <td>C++</td>\n",
       "      <td>0.7167</td>\n",
       "    </tr>\n",
       "  </tbody>\n",
       "</table>\n",
       "</div>"
      ],
      "text/plain": [
       "        user_id  problem_id solved_status result language_used  execution_time\n",
       "159163  1178898      926073            AT    PAC           C++          0.6692\n",
       "159164  1178898      926073            SO    PAC           C++          0.6883\n",
       "159165  1178898      926073            SO    PAC           C++          0.7167"
      ]
     },
     "execution_count": 8,
     "metadata": {},
     "output_type": "execute_result"
    }
   ],
   "source": [
    "#sample user_id-problem_id pair\n",
    "df_grp.get_group( (1178898, 926073))"
   ]
  },
  {
   "cell_type": "code",
   "execution_count": 9,
   "metadata": {
    "collapsed": false
   },
   "outputs": [
    {
     "data": {
      "text/plain": [
       "'user_problem_label={}\\n#test_grp=[(967552,909306),(1178898,926073),(1178898,926073),(1037442,916711),(1130935,913129)]\\nitr=0\\nfor key in grp_ids:\\n#for key in test_grp:\\n    print \"\\ruser \"+str(itr)+\":\"+str(key[0]),\\n    itr+=1\\n    tmp=df_grp.get_group(key)\\n    #check whether user has got the problem accepted\\n    if len(tmp[tmp[\\'result\\']==\\'AC\\'])==0: # partially accepted\\n        user_problem_label[key]= -1\\n    else: \\n         user_problem_label[key]= +1 #accepted'"
      ]
     },
     "execution_count": 9,
     "metadata": {},
     "output_type": "execute_result"
    }
   ],
   "source": [
    "#Computing the (user_id,problem_id,solved) dictionary where (user_id,problem_id) is the key solved(+1) or not solved(-1) is the value\n",
    "#Uncomment to recompute user_problem_label object\n",
    "\"\"\"user_problem_label={}\n",
    "#test_grp=[(967552,909306),(1178898,926073),(1178898,926073),(1037442,916711),(1130935,913129)]\n",
    "itr=0\n",
    "for key in grp_ids:\n",
    "#for key in test_grp:\n",
    "    print \"\\ruser \"+str(itr)+\":\"+str(key[0]),\n",
    "    itr+=1\n",
    "    tmp=df_grp.get_group(key)\n",
    "    #check whether user has got the problem accepted\n",
    "    if len(tmp[tmp['result']=='AC'])==0: # partially accepted\n",
    "        user_problem_label[key]= -1\n",
    "    else: \n",
    "         user_problem_label[key]= +1 #accepted\"\"\"\n",
    "\n",
    "\n",
    "\n",
    "#creating a new csv file storing (user_id,problem_id,label) where label says solved or not solved\n",
    "#uncomment to rewrite the csv file\n",
    "\"\"\"f = open('train/user_problem_labels.csv','w')\n",
    "f.write(\"user_id,problem_id,label\\n\")\n",
    "for key in user_problem_label:\n",
    "    to_write=str(key[0])+','+str(key[1])+','+str(user_problem_label[key])  \n",
    "    f.write(to_write+'\\n')    \n",
    "f.close()\"\"\""
   ]
  },
  {
   "cell_type": "code",
   "execution_count": 12,
   "metadata": {
    "collapsed": true
   },
   "outputs": [],
   "source": [
    "#reading the custom made csv file\n",
    "df_usr_prb=pd.read_csv(\"train/user_problem_labels.csv\")"
   ]
  },
  {
   "cell_type": "code",
   "execution_count": 13,
   "metadata": {
    "collapsed": false
   },
   "outputs": [
    {
     "data": {
      "text/html": [
       "<div>\n",
       "<table border=\"1\" class=\"dataframe\">\n",
       "  <thead>\n",
       "    <tr style=\"text-align: right;\">\n",
       "      <th></th>\n",
       "      <th>user_id</th>\n",
       "      <th>problem_id</th>\n",
       "      <th>label</th>\n",
       "    </tr>\n",
       "  </thead>\n",
       "  <tbody>\n",
       "    <tr>\n",
       "      <th>0</th>\n",
       "      <td>1037442</td>\n",
       "      <td>916711</td>\n",
       "      <td>1</td>\n",
       "    </tr>\n",
       "    <tr>\n",
       "      <th>1</th>\n",
       "      <td>967552</td>\n",
       "      <td>909306</td>\n",
       "      <td>1</td>\n",
       "    </tr>\n",
       "    <tr>\n",
       "      <th>2</th>\n",
       "      <td>1178898</td>\n",
       "      <td>926073</td>\n",
       "      <td>-1</td>\n",
       "    </tr>\n",
       "    <tr>\n",
       "      <th>3</th>\n",
       "      <td>1327831</td>\n",
       "      <td>925526</td>\n",
       "      <td>1</td>\n",
       "    </tr>\n",
       "    <tr>\n",
       "      <th>4</th>\n",
       "      <td>923365</td>\n",
       "      <td>907591</td>\n",
       "      <td>-1</td>\n",
       "    </tr>\n",
       "  </tbody>\n",
       "</table>\n",
       "</div>"
      ],
      "text/plain": [
       "   user_id  problem_id  label\n",
       "0  1037442      916711      1\n",
       "1   967552      909306      1\n",
       "2  1178898      926073     -1\n",
       "3  1327831      925526      1\n",
       "4   923365      907591     -1"
      ]
     },
     "execution_count": 13,
     "metadata": {},
     "output_type": "execute_result"
    }
   ],
   "source": [
    "df_usr_prb.head()"
   ]
  },
  {
   "cell_type": "code",
   "execution_count": 14,
   "metadata": {
    "collapsed": false
   },
   "outputs": [],
   "source": [
    "#joining the train dataframes\n",
    "df = pd.merge(df_prb, df_usr_prb, how='inner', on=['problem_id'])\n",
    "df_train = pd.merge(df_usr, df, how='inner', on=['user_id'])"
   ]
  },
  {
   "cell_type": "code",
   "execution_count": 15,
   "metadata": {
    "collapsed": true
   },
   "outputs": [],
   "source": [
    "#reading the test data\n",
    "df_tst_prb=pd.read_csv(\"test/problems.csv\")\n",
    "df_tst_usr=pd.read_csv(\"test/users.csv\")\n",
    "df_pred=pd.read_csv(\"test/test.csv\")"
   ]
  },
  {
   "cell_type": "code",
   "execution_count": 16,
   "metadata": {
    "collapsed": true
   },
   "outputs": [],
   "source": [
    "#joining the test dataframes\n",
    "df_t = pd.merge(df_tst_prb, df_pred, how='inner', on=['problem_id'])\n",
    "df_tst = pd.merge(df_tst_usr, df_t, how='inner', on=['user_id'])"
   ]
  },
  {
   "cell_type": "code",
   "execution_count": 17,
   "metadata": {
    "collapsed": false
   },
   "outputs": [
    {
     "data": {
      "text/html": [
       "<div>\n",
       "<table border=\"1\" class=\"dataframe\">\n",
       "  <thead>\n",
       "    <tr style=\"text-align: right;\">\n",
       "      <th></th>\n",
       "      <th>user_id</th>\n",
       "      <th>skills</th>\n",
       "      <th>solved_count_x</th>\n",
       "      <th>attempts</th>\n",
       "      <th>user_type</th>\n",
       "      <th>problem_id</th>\n",
       "      <th>level</th>\n",
       "      <th>accuracy</th>\n",
       "      <th>solved_count_y</th>\n",
       "      <th>error_count</th>\n",
       "      <th>rating</th>\n",
       "      <th>tag1</th>\n",
       "      <th>tag2</th>\n",
       "      <th>tag3</th>\n",
       "      <th>tag4</th>\n",
       "      <th>tag5</th>\n",
       "      <th>Id</th>\n",
       "    </tr>\n",
       "  </thead>\n",
       "  <tbody>\n",
       "    <tr>\n",
       "      <th>0</th>\n",
       "      <td>1444303</td>\n",
       "      <td>Python</td>\n",
       "      <td>0</td>\n",
       "      <td>5</td>\n",
       "      <td>W</td>\n",
       "      <td>940002</td>\n",
       "      <td>E</td>\n",
       "      <td>0.42</td>\n",
       "      <td>63</td>\n",
       "      <td>371</td>\n",
       "      <td>3.7</td>\n",
       "      <td>Ad-Hoc</td>\n",
       "      <td>Basic Programming</td>\n",
       "      <td>Implementation</td>\n",
       "      <td>NaN</td>\n",
       "      <td>NaN</td>\n",
       "      <td>14425</td>\n",
       "    </tr>\n",
       "    <tr>\n",
       "      <th>1</th>\n",
       "      <td>1444303</td>\n",
       "      <td>Python</td>\n",
       "      <td>0</td>\n",
       "      <td>5</td>\n",
       "      <td>W</td>\n",
       "      <td>940003</td>\n",
       "      <td>E</td>\n",
       "      <td>0.32</td>\n",
       "      <td>45</td>\n",
       "      <td>396</td>\n",
       "      <td>3.9</td>\n",
       "      <td>Prime Factorization</td>\n",
       "      <td>Math</td>\n",
       "      <td>NaN</td>\n",
       "      <td>NaN</td>\n",
       "      <td>NaN</td>\n",
       "      <td>22576</td>\n",
       "    </tr>\n",
       "  </tbody>\n",
       "</table>\n",
       "</div>"
      ],
      "text/plain": [
       "   user_id  skills  solved_count_x  attempts user_type  problem_id level  \\\n",
       "0  1444303  Python               0         5         W      940002     E   \n",
       "1  1444303  Python               0         5         W      940003     E   \n",
       "\n",
       "   accuracy  solved_count_y  error_count  rating                 tag1  \\\n",
       "0      0.42              63          371     3.7               Ad-Hoc   \n",
       "1      0.32              45          396     3.9  Prime Factorization   \n",
       "\n",
       "                tag2            tag3 tag4 tag5     Id  \n",
       "0  Basic Programming  Implementation  NaN  NaN  14425  \n",
       "1               Math             NaN  NaN  NaN  22576  "
      ]
     },
     "execution_count": 17,
     "metadata": {},
     "output_type": "execute_result"
    }
   ],
   "source": [
    "df_tst.head(2)"
   ]
  },
  {
   "cell_type": "code",
   "execution_count": 18,
   "metadata": {
    "collapsed": false
   },
   "outputs": [
    {
     "data": {
      "text/html": [
       "<div>\n",
       "<table border=\"1\" class=\"dataframe\">\n",
       "  <thead>\n",
       "    <tr style=\"text-align: right;\">\n",
       "      <th></th>\n",
       "      <th>user_id</th>\n",
       "      <th>skills</th>\n",
       "      <th>solved_count_x</th>\n",
       "      <th>attempts</th>\n",
       "      <th>user_type</th>\n",
       "      <th>problem_id</th>\n",
       "      <th>level</th>\n",
       "      <th>accuracy</th>\n",
       "      <th>solved_count_y</th>\n",
       "      <th>error_count</th>\n",
       "      <th>rating</th>\n",
       "      <th>tag1</th>\n",
       "      <th>tag2</th>\n",
       "      <th>tag3</th>\n",
       "      <th>tag4</th>\n",
       "      <th>tag5</th>\n",
       "      <th>label</th>\n",
       "    </tr>\n",
       "  </thead>\n",
       "  <tbody>\n",
       "    <tr>\n",
       "      <th>0</th>\n",
       "      <td>1427919</td>\n",
       "      <td>C++</td>\n",
       "      <td>0</td>\n",
       "      <td>11</td>\n",
       "      <td>W</td>\n",
       "      <td>913736</td>\n",
       "      <td>M</td>\n",
       "      <td>0.21</td>\n",
       "      <td>524</td>\n",
       "      <td>7868</td>\n",
       "      <td>4.0</td>\n",
       "      <td>Ad-Hoc</td>\n",
       "      <td>Dynamic Programming</td>\n",
       "      <td>Algorithms</td>\n",
       "      <td>NaN</td>\n",
       "      <td>NaN</td>\n",
       "      <td>-1</td>\n",
       "    </tr>\n",
       "    <tr>\n",
       "      <th>1</th>\n",
       "      <td>1034704</td>\n",
       "      <td>C</td>\n",
       "      <td>3</td>\n",
       "      <td>11</td>\n",
       "      <td>NaN</td>\n",
       "      <td>906741</td>\n",
       "      <td>E</td>\n",
       "      <td>0.87</td>\n",
       "      <td>503</td>\n",
       "      <td>443</td>\n",
       "      <td>3.8</td>\n",
       "      <td>Ad-Hoc</td>\n",
       "      <td>Data Structures</td>\n",
       "      <td>Math</td>\n",
       "      <td>NaN</td>\n",
       "      <td>NaN</td>\n",
       "      <td>-1</td>\n",
       "    </tr>\n",
       "  </tbody>\n",
       "</table>\n",
       "</div>"
      ],
      "text/plain": [
       "   user_id skills  solved_count_x  attempts user_type  problem_id level  \\\n",
       "0  1427919    C++               0        11         W      913736     M   \n",
       "1  1034704      C               3        11       NaN      906741     E   \n",
       "\n",
       "   accuracy  solved_count_y  error_count  rating    tag1                 tag2  \\\n",
       "0      0.21             524         7868     4.0  Ad-Hoc  Dynamic Programming   \n",
       "1      0.87             503          443     3.8  Ad-Hoc      Data Structures   \n",
       "\n",
       "         tag3 tag4 tag5  label  \n",
       "0  Algorithms  NaN  NaN     -1  \n",
       "1        Math  NaN  NaN     -1  "
      ]
     },
     "execution_count": 18,
     "metadata": {},
     "output_type": "execute_result"
    }
   ],
   "source": [
    "df_train.head(2)"
   ]
  },
  {
   "cell_type": "code",
   "execution_count": 19,
   "metadata": {
    "collapsed": false
   },
   "outputs": [
    {
     "data": {
      "text/plain": [
       "Index([u'user_id', u'skills', u'solved_count_x', u'attempts', u'user_type',\n",
       "       u'problem_id', u'level', u'accuracy', u'solved_count_y', u'error_count',\n",
       "       u'rating', u'tag1', u'tag2', u'tag3', u'tag4', u'tag5', u'label'],\n",
       "      dtype='object')"
      ]
     },
     "execution_count": 19,
     "metadata": {},
     "output_type": "execute_result"
    }
   ],
   "source": [
    "df_train.columns"
   ]
  },
  {
   "cell_type": "code",
   "execution_count": 20,
   "metadata": {
    "collapsed": false
   },
   "outputs": [
    {
     "data": {
      "text/plain": [
       "Index([u'user_id', u'skills', u'solved_count_x', u'attempts', u'user_type',\n",
       "       u'problem_id', u'level', u'accuracy', u'solved_count_y', u'error_count',\n",
       "       u'rating', u'tag1', u'tag2', u'tag3', u'tag4', u'tag5', u'Id'],\n",
       "      dtype='object')"
      ]
     },
     "execution_count": 20,
     "metadata": {},
     "output_type": "execute_result"
    }
   ],
   "source": [
    "df_tst.columns"
   ]
  },
  {
   "cell_type": "code",
   "execution_count": 21,
   "metadata": {
    "collapsed": true
   },
   "outputs": [],
   "source": [
    "#features I have decided to consider for now\n",
    "features=['solved_count_x','attempts','user_type','level','accuracy','solved_count_y','error_count','rating','tag1','tag2']"
   ]
  },
  {
   "cell_type": "code",
   "execution_count": 22,
   "metadata": {
    "collapsed": false
   },
   "outputs": [],
   "source": [
    "#filling empty cell in both test and train using forward fill approach.\n",
    "# could have tried mode too..!!\n",
    "for col in features:\n",
    "    df_train[col]=df_train[col].fillna(method='ffill')\n",
    "    df_tst[col]=df_tst[col].fillna(method='ffill')"
   ]
  },
  {
   "cell_type": "code",
   "execution_count": 23,
   "metadata": {
    "collapsed": false
   },
   "outputs": [],
   "source": [
    "#df_train.head(10)\n",
    "#Identiying categorical inputs\n",
    "categorical=['user_type','level','tag1','tag2']"
   ]
  },
  {
   "cell_type": "code",
   "execution_count": 24,
   "metadata": {
    "collapsed": false
   },
   "outputs": [
    {
     "data": {
      "text/html": [
       "<div>\n",
       "<table border=\"1\" class=\"dataframe\">\n",
       "  <thead>\n",
       "    <tr style=\"text-align: right;\">\n",
       "      <th></th>\n",
       "      <th>user_id</th>\n",
       "      <th>solved_count_x</th>\n",
       "      <th>attempts</th>\n",
       "      <th>problem_id</th>\n",
       "      <th>accuracy</th>\n",
       "      <th>solved_count_y</th>\n",
       "      <th>error_count</th>\n",
       "      <th>rating</th>\n",
       "      <th>label</th>\n",
       "    </tr>\n",
       "  </thead>\n",
       "  <tbody>\n",
       "    <tr>\n",
       "      <th>count</th>\n",
       "      <td>4.219750e+05</td>\n",
       "      <td>421975.000000</td>\n",
       "      <td>421975.000000</td>\n",
       "      <td>421975.000000</td>\n",
       "      <td>421975.000000</td>\n",
       "      <td>421975.000000</td>\n",
       "      <td>421975.000000</td>\n",
       "      <td>421975.000000</td>\n",
       "      <td>421975.000000</td>\n",
       "    </tr>\n",
       "    <tr>\n",
       "      <th>mean</th>\n",
       "      <td>1.075648e+06</td>\n",
       "      <td>56.144518</td>\n",
       "      <td>64.765586</td>\n",
       "      <td>915284.705651</td>\n",
       "      <td>0.639341</td>\n",
       "      <td>1084.113900</td>\n",
       "      <td>1557.249856</td>\n",
       "      <td>3.145151</td>\n",
       "      <td>0.072528</td>\n",
       "    </tr>\n",
       "    <tr>\n",
       "      <th>std</th>\n",
       "      <td>1.360222e+05</td>\n",
       "      <td>83.183899</td>\n",
       "      <td>110.757002</td>\n",
       "      <td>8908.973205</td>\n",
       "      <td>0.232088</td>\n",
       "      <td>1744.103088</td>\n",
       "      <td>2106.635717</td>\n",
       "      <td>1.400578</td>\n",
       "      <td>0.997368</td>\n",
       "    </tr>\n",
       "    <tr>\n",
       "      <th>min</th>\n",
       "      <td>9.036330e+05</td>\n",
       "      <td>0.000000</td>\n",
       "      <td>0.000000</td>\n",
       "      <td>903637.000000</td>\n",
       "      <td>0.030000</td>\n",
       "      <td>0.000000</td>\n",
       "      <td>0.000000</td>\n",
       "      <td>0.000000</td>\n",
       "      <td>-1.000000</td>\n",
       "    </tr>\n",
       "    <tr>\n",
       "      <th>25%</th>\n",
       "      <td>9.627420e+05</td>\n",
       "      <td>8.000000</td>\n",
       "      <td>11.000000</td>\n",
       "      <td>908159.000000</td>\n",
       "      <td>0.460000</td>\n",
       "      <td>139.000000</td>\n",
       "      <td>298.000000</td>\n",
       "      <td>3.000000</td>\n",
       "      <td>-1.000000</td>\n",
       "    </tr>\n",
       "    <tr>\n",
       "      <th>50%</th>\n",
       "      <td>1.037837e+06</td>\n",
       "      <td>26.000000</td>\n",
       "      <td>31.000000</td>\n",
       "      <td>913737.000000</td>\n",
       "      <td>0.700000</td>\n",
       "      <td>388.000000</td>\n",
       "      <td>767.000000</td>\n",
       "      <td>3.600000</td>\n",
       "      <td>1.000000</td>\n",
       "    </tr>\n",
       "    <tr>\n",
       "      <th>75%</th>\n",
       "      <td>1.158876e+06</td>\n",
       "      <td>68.000000</td>\n",
       "      <td>75.000000</td>\n",
       "      <td>920127.000000</td>\n",
       "      <td>0.840000</td>\n",
       "      <td>1216.000000</td>\n",
       "      <td>1850.000000</td>\n",
       "      <td>4.000000</td>\n",
       "      <td>1.000000</td>\n",
       "    </tr>\n",
       "    <tr>\n",
       "      <th>max</th>\n",
       "      <td>1.444693e+06</td>\n",
       "      <td>789.000000</td>\n",
       "      <td>7211.000000</td>\n",
       "      <td>937962.000000</td>\n",
       "      <td>1.000000</td>\n",
       "      <td>8922.000000</td>\n",
       "      <td>13346.000000</td>\n",
       "      <td>5.000000</td>\n",
       "      <td>1.000000</td>\n",
       "    </tr>\n",
       "  </tbody>\n",
       "</table>\n",
       "</div>"
      ],
      "text/plain": [
       "            user_id  solved_count_x       attempts     problem_id  \\\n",
       "count  4.219750e+05   421975.000000  421975.000000  421975.000000   \n",
       "mean   1.075648e+06       56.144518      64.765586  915284.705651   \n",
       "std    1.360222e+05       83.183899     110.757002    8908.973205   \n",
       "min    9.036330e+05        0.000000       0.000000  903637.000000   \n",
       "25%    9.627420e+05        8.000000      11.000000  908159.000000   \n",
       "50%    1.037837e+06       26.000000      31.000000  913737.000000   \n",
       "75%    1.158876e+06       68.000000      75.000000  920127.000000   \n",
       "max    1.444693e+06      789.000000    7211.000000  937962.000000   \n",
       "\n",
       "            accuracy  solved_count_y    error_count         rating  \\\n",
       "count  421975.000000   421975.000000  421975.000000  421975.000000   \n",
       "mean        0.639341     1084.113900    1557.249856       3.145151   \n",
       "std         0.232088     1744.103088    2106.635717       1.400578   \n",
       "min         0.030000        0.000000       0.000000       0.000000   \n",
       "25%         0.460000      139.000000     298.000000       3.000000   \n",
       "50%         0.700000      388.000000     767.000000       3.600000   \n",
       "75%         0.840000     1216.000000    1850.000000       4.000000   \n",
       "max         1.000000     8922.000000   13346.000000       5.000000   \n",
       "\n",
       "               label  \n",
       "count  421975.000000  \n",
       "mean        0.072528  \n",
       "std         0.997368  \n",
       "min        -1.000000  \n",
       "25%        -1.000000  \n",
       "50%         1.000000  \n",
       "75%         1.000000  \n",
       "max         1.000000  "
      ]
     },
     "execution_count": 24,
     "metadata": {},
     "output_type": "execute_result"
    }
   ],
   "source": [
    "df_train.describe()"
   ]
  },
  {
   "cell_type": "code",
   "execution_count": 25,
   "metadata": {
    "collapsed": true
   },
   "outputs": [],
   "source": [
    "#Label encoding categorical inputs so that classifier can use them\n",
    "from sklearn.preprocessing import LabelEncoder"
   ]
  },
  {
   "cell_type": "code",
   "execution_count": 26,
   "metadata": {
    "collapsed": false
   },
   "outputs": [],
   "source": [
    "for col in categorical:\n",
    "    enc = LabelEncoder()\n",
    "    enc.fit(df_train[col].append(df_tst[col]))\n",
    "    modified_train_col=enc.transform(df_train[col])\n",
    "    modified_tst_col=enc.transform(df_tst[col])\n",
    "    df_train[col+' enc']=modified_train_col\n",
    "    df_tst[col+' enc']=modified_tst_col"
   ]
  },
  {
   "cell_type": "code",
   "execution_count": 27,
   "metadata": {
    "collapsed": true
   },
   "outputs": [],
   "source": [
    "#processed feature columns\n",
    "features=['solved_count_x','attempts','user_type enc','level enc','accuracy','solved_count_y','error_count','rating','tag1 enc','tag2 enc']"
   ]
  },
  {
   "cell_type": "code",
   "execution_count": 53,
   "metadata": {
    "collapsed": false
   },
   "outputs": [],
   "source": [
    "#df_train[features].head()"
   ]
  },
  {
   "cell_type": "code",
   "execution_count": 29,
   "metadata": {
    "collapsed": true
   },
   "outputs": [],
   "source": [
    "######## CLASSIFICATION #### \n",
    "\n",
    "\n",
    "#from sklearn.ensemble import ExtraTreesClassifier\n",
    "#from sklearn.ensemble import BaggingClassifier\n",
    "from sklearn.ensemble import RandomForestClassifier\n",
    "#from sklearn.tree import DecisionTreeClassifier\n"
   ]
  },
  {
   "cell_type": "code",
   "execution_count": 30,
   "metadata": {
    "collapsed": false
   },
   "outputs": [],
   "source": [
    "model=RandomForestClassifier(n_estimators=150)\n",
    "#model=BaggingClassifier(n_estimators=150)\n",
    "#model=DecisionTreeClassifier()\n",
    "#model=ExtraTreesClassifier(n_estimators=150)\n"
   ]
  },
  {
   "cell_type": "code",
   "execution_count": 31,
   "metadata": {
    "collapsed": false
   },
   "outputs": [
    {
     "name": "stdout",
     "output_type": "stream",
     "text": [
      ":::learning the model::: \n"
     ]
    },
    {
     "data": {
      "text/plain": [
       "RandomForestClassifier(bootstrap=True, class_weight=None, criterion='gini',\n",
       "            max_depth=None, max_features='auto', max_leaf_nodes=None,\n",
       "            min_samples_leaf=1, min_samples_split=2,\n",
       "            min_weight_fraction_leaf=0.0, n_estimators=150, n_jobs=1,\n",
       "            oob_score=False, random_state=None, verbose=0,\n",
       "            warm_start=False)"
      ]
     },
     "execution_count": 31,
     "metadata": {},
     "output_type": "execute_result"
    }
   ],
   "source": [
    "print(\":::learning the model::: \")\n",
    "\n",
    "model.fit(df_train[features],df_train['label'])"
   ]
  },
  {
   "cell_type": "code",
   "execution_count": 48,
   "metadata": {
    "collapsed": false
   },
   "outputs": [],
   "source": [
    "print(\":::predicting for test data::: \")\n",
    "predictions=model.predict(df_tst[features])\n",
    "df_tst['prediction']=predictions\n",
    "\n",
    "#This loops to re-order the predictions w.r.t to test.csv\n",
    "d={}\n",
    "for ii,row in df_tst.iterrows():\n",
    "    d[(row['user_id'],row['problem_id'])]=row['prediction']\n",
    "t_usr=[]\n",
    "t_prb=[]\n",
    "t_pred=[]\n",
    "for ii,row in df_pred.iterrows():\n",
    "    t_usr.append(row['user_id'])\n",
    "    t_prb.append(row['problem_id'])\n",
    "    t_pred.append(d[(row['user_id'],row['problem_id'])])\n",
    "    \n",
    "result = pd.DataFrame({        \n",
    "        \"prediction\":t_pred,        \n",
    "        \"problem_id\": t_prb,\n",
    "        \"user_id\":t_usr,\n",
    "    })\n",
    "result.to_csv(\"test/predictions.csv\", index=False,columns=['user_id','problem_id','prediction'])"
   ]
  },
  {
   "cell_type": "code",
   "execution_count": 35,
   "metadata": {
    "collapsed": false
   },
   "outputs": [],
   "source": [
    "#Computing training error\n",
    "train_predictions=model.predict(df_train[features])\n",
    "df_train['prediction']=train_predictions"
   ]
  },
  {
   "cell_type": "code",
   "execution_count": 37,
   "metadata": {
    "collapsed": false
   },
   "outputs": [
    {
     "data": {
      "text/html": [
       "<div>\n",
       "<table border=\"1\" class=\"dataframe\">\n",
       "  <thead>\n",
       "    <tr style=\"text-align: right;\">\n",
       "      <th></th>\n",
       "      <th>label</th>\n",
       "      <th>prediction</th>\n",
       "    </tr>\n",
       "  </thead>\n",
       "  <tbody>\n",
       "    <tr>\n",
       "      <th>0</th>\n",
       "      <td>-1</td>\n",
       "      <td>-1</td>\n",
       "    </tr>\n",
       "    <tr>\n",
       "      <th>1</th>\n",
       "      <td>-1</td>\n",
       "      <td>-1</td>\n",
       "    </tr>\n",
       "    <tr>\n",
       "      <th>2</th>\n",
       "      <td>-1</td>\n",
       "      <td>-1</td>\n",
       "    </tr>\n",
       "    <tr>\n",
       "      <th>3</th>\n",
       "      <td>-1</td>\n",
       "      <td>-1</td>\n",
       "    </tr>\n",
       "    <tr>\n",
       "      <th>4</th>\n",
       "      <td>1</td>\n",
       "      <td>1</td>\n",
       "    </tr>\n",
       "    <tr>\n",
       "      <th>5</th>\n",
       "      <td>1</td>\n",
       "      <td>1</td>\n",
       "    </tr>\n",
       "    <tr>\n",
       "      <th>6</th>\n",
       "      <td>1</td>\n",
       "      <td>1</td>\n",
       "    </tr>\n",
       "    <tr>\n",
       "      <th>7</th>\n",
       "      <td>1</td>\n",
       "      <td>1</td>\n",
       "    </tr>\n",
       "    <tr>\n",
       "      <th>8</th>\n",
       "      <td>1</td>\n",
       "      <td>1</td>\n",
       "    </tr>\n",
       "    <tr>\n",
       "      <th>9</th>\n",
       "      <td>1</td>\n",
       "      <td>1</td>\n",
       "    </tr>\n",
       "  </tbody>\n",
       "</table>\n",
       "</div>"
      ],
      "text/plain": [
       "   label  prediction\n",
       "0     -1          -1\n",
       "1     -1          -1\n",
       "2     -1          -1\n",
       "3     -1          -1\n",
       "4      1           1\n",
       "5      1           1\n",
       "6      1           1\n",
       "7      1           1\n",
       "8      1           1\n",
       "9      1           1"
      ]
     },
     "execution_count": 37,
     "metadata": {},
     "output_type": "execute_result"
    }
   ],
   "source": [
    "df_train[['label','prediction']].head(10)"
   ]
  },
  {
   "cell_type": "code",
   "execution_count": 44,
   "metadata": {
    "collapsed": false
   },
   "outputs": [],
   "source": [
    "#Finding accuracy\n",
    "df_train['correct_prediction']=(df_train['label']==df_train['prediction'])"
   ]
  },
  {
   "cell_type": "code",
   "execution_count": 45,
   "metadata": {
    "collapsed": false
   },
   "outputs": [
    {
     "data": {
      "text/html": [
       "<div>\n",
       "<table border=\"1\" class=\"dataframe\">\n",
       "  <thead>\n",
       "    <tr style=\"text-align: right;\">\n",
       "      <th></th>\n",
       "      <th>label</th>\n",
       "      <th>prediction</th>\n",
       "      <th>correct_prediction</th>\n",
       "    </tr>\n",
       "  </thead>\n",
       "  <tbody>\n",
       "    <tr>\n",
       "      <th>0</th>\n",
       "      <td>-1</td>\n",
       "      <td>-1</td>\n",
       "      <td>True</td>\n",
       "    </tr>\n",
       "    <tr>\n",
       "      <th>1</th>\n",
       "      <td>-1</td>\n",
       "      <td>-1</td>\n",
       "      <td>True</td>\n",
       "    </tr>\n",
       "    <tr>\n",
       "      <th>2</th>\n",
       "      <td>-1</td>\n",
       "      <td>-1</td>\n",
       "      <td>True</td>\n",
       "    </tr>\n",
       "    <tr>\n",
       "      <th>3</th>\n",
       "      <td>-1</td>\n",
       "      <td>-1</td>\n",
       "      <td>True</td>\n",
       "    </tr>\n",
       "    <tr>\n",
       "      <th>4</th>\n",
       "      <td>1</td>\n",
       "      <td>1</td>\n",
       "      <td>True</td>\n",
       "    </tr>\n",
       "    <tr>\n",
       "      <th>5</th>\n",
       "      <td>1</td>\n",
       "      <td>1</td>\n",
       "      <td>True</td>\n",
       "    </tr>\n",
       "    <tr>\n",
       "      <th>6</th>\n",
       "      <td>1</td>\n",
       "      <td>1</td>\n",
       "      <td>True</td>\n",
       "    </tr>\n",
       "    <tr>\n",
       "      <th>7</th>\n",
       "      <td>1</td>\n",
       "      <td>1</td>\n",
       "      <td>True</td>\n",
       "    </tr>\n",
       "    <tr>\n",
       "      <th>8</th>\n",
       "      <td>1</td>\n",
       "      <td>1</td>\n",
       "      <td>True</td>\n",
       "    </tr>\n",
       "    <tr>\n",
       "      <th>9</th>\n",
       "      <td>1</td>\n",
       "      <td>1</td>\n",
       "      <td>True</td>\n",
       "    </tr>\n",
       "  </tbody>\n",
       "</table>\n",
       "</div>"
      ],
      "text/plain": [
       "   label  prediction correct_prediction\n",
       "0     -1          -1               True\n",
       "1     -1          -1               True\n",
       "2     -1          -1               True\n",
       "3     -1          -1               True\n",
       "4      1           1               True\n",
       "5      1           1               True\n",
       "6      1           1               True\n",
       "7      1           1               True\n",
       "8      1           1               True\n",
       "9      1           1               True"
      ]
     },
     "execution_count": 45,
     "metadata": {},
     "output_type": "execute_result"
    }
   ],
   "source": [
    "df_train[['label','prediction','correct_prediction']].head(10)"
   ]
  },
  {
   "cell_type": "code",
   "execution_count": 46,
   "metadata": {
    "collapsed": true
   },
   "outputs": [],
   "source": [
    "accuracy=sum(df_train['correct_prediction'])*100/float(len(df_train))"
   ]
  },
  {
   "cell_type": "code",
   "execution_count": 50,
   "metadata": {
    "collapsed": false
   },
   "outputs": [
    {
     "name": "stdout",
     "output_type": "stream",
     "text": [
      "('Training accuracy (%)', 97.493690384501448)\n"
     ]
    }
   ],
   "source": [
    "print(\"Training accuracy (%)\",accuracy)"
   ]
  },
  {
   "cell_type": "code",
   "execution_count": 56,
   "metadata": {
    "collapsed": false
   },
   "outputs": [],
   "source": [
    "result = pd.DataFrame({        \n",
    "        \"prediction\":t_pred,        \n",
    "    })\n",
    "result.to_csv(\"test/predictions_labels.csv\", index=False,columns=['user_id','problem_id','prediction'])"
   ]
  },
  {
   "cell_type": "code",
   "execution_count": null,
   "metadata": {
    "collapsed": true
   },
   "outputs": [],
   "source": []
  }
 ],
 "metadata": {
  "kernelspec": {
   "display_name": "Python 2",
   "language": "python",
   "name": "python2"
  },
  "language_info": {
   "codemirror_mode": {
    "name": "ipython",
    "version": 2
   },
   "file_extension": ".py",
   "mimetype": "text/x-python",
   "name": "python",
   "nbconvert_exporter": "python",
   "pygments_lexer": "ipython2",
   "version": "2.7.10"
  }
 },
 "nbformat": 4,
 "nbformat_minor": 1
}
