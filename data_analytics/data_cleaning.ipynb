{
 "cells": [
  {
   "cell_type": "code",
   "execution_count": 9,
   "metadata": {
    "collapsed": false
   },
   "outputs": [],
   "source": [
    "import pandas as pd\n",
    "import graphlab as gb\n",
    "import matplotlib.pyplot as plt\n",
    "import seaborn as sb\n",
    "get_ipython().magic(u'matplotlib inline')"
   ]
  },
  {
   "cell_type": "code",
   "execution_count": 2,
   "metadata": {
    "collapsed": false
   },
   "outputs": [
    {
     "name": "stderr",
     "output_type": "stream",
     "text": [
      "/usr/local/lib/python2.7/dist-packages/IPython/core/interactiveshell.py:2717: DtypeWarning: Columns (19,55) have mixed types. Specify dtype option on import or set low_memory=False.\n",
      "  interactivity=interactivity, compiler=compiler, result=result)\n"
     ]
    }
   ],
   "source": [
    "df_original=pd.read_csv('lending-club-loan-data-original/loan.csv')\n",
    "#df_refined=pd.read_csv('Project/lending-club-data.csv')"
   ]
  },
  {
   "cell_type": "code",
   "execution_count": 45,
   "metadata": {
    "collapsed": false
   },
   "outputs": [
    {
     "data": {
      "text/plain": [
       "array(['Fully Paid', 'Charged Off', 'Current', 'Default',\n",
       "       'Late (31-120 days)', 'In Grace Period', 'Late (16-30 days)',\n",
       "       'Does not meet the credit policy. Status:Fully Paid',\n",
       "       'Does not meet the credit policy. Status:Charged Off', 'Issued'], dtype=object)"
      ]
     },
     "execution_count": 45,
     "metadata": {},
     "output_type": "execute_result"
    }
   ],
   "source": [
    "df_original['loan_status'].unique()"
   ]
  },
  {
   "cell_type": "code",
   "execution_count": 56,
   "metadata": {
    "collapsed": true
   },
   "outputs": [],
   "source": [
    "#for prediction these matters\n",
    "st=set(['Fully Paid','Default','Charged Off'])\n",
    "def func(data):\n",
    "    return (data in st)\n"
   ]
  },
  {
   "cell_type": "code",
   "execution_count": 57,
   "metadata": {
    "collapsed": false
   },
   "outputs": [],
   "source": [
    "l=df_original['loan_status'].apply(func)"
   ]
  },
  {
   "cell_type": "code",
   "execution_count": 65,
   "metadata": {
    "collapsed": false
   },
   "outputs": [],
   "source": [
    "df_original=df_original[l]"
   ]
  },
  {
   "cell_type": "code",
   "execution_count": 66,
   "metadata": {
    "collapsed": false
   },
   "outputs": [
    {
     "data": {
      "text/plain": [
       "254190"
      ]
     },
     "execution_count": 66,
     "metadata": {},
     "output_type": "execute_result"
    }
   ],
   "source": [
    "len(df_original)"
   ]
  },
  {
   "cell_type": "code",
   "execution_count": 69,
   "metadata": {
    "collapsed": true
   },
   "outputs": [],
   "source": [
    "emptiness={}\n",
    "for col in df_original.columns:\n",
    "    empty=sum(df_original[col].isnull())\n",
    "    emptiness[col]=empty"
   ]
  },
  {
   "cell_type": "code",
   "execution_count": 77,
   "metadata": {
    "collapsed": false
   },
   "outputs": [
    {
     "name": "stdout",
     "output_type": "stream",
     "text": [
      "% emptiness of each column\n",
      "mths_since_last_delinq \t: 55.6457767811%\n",
      "il_util \t: 99.9504307801%\n",
      "inq_last_6mths \t: 0.0%\n",
      "tot_cur_bal \t: 25.0702230615%\n",
      "grade \t: 0.0%\n",
      "application_type \t: 0.0%\n",
      "last_pymnt_amnt \t: 0.0%\n",
      "open_acc_6m \t: 99.943349463%\n",
      "annual_inc \t: 0.0%\n",
      "total_acc \t: 0.0%\n",
      "total_bal_il \t: 99.943349463%\n",
      "out_prncp \t: 0.0%\n",
      "emp_length \t: 0.0%\n",
      "total_pymnt \t: 0.0%\n",
      "out_prncp_inv \t: 0.0%\n",
      "emp_title \t: 5.51044494276%\n",
      "id \t: 0.0%\n",
      "open_il_24m \t: 99.943349463%\n",
      "pub_rec \t: 0.0%\n",
      "verification_status_joint \t: 99.9996065935%\n",
      "title \t: 0.00472087808332%\n",
      "open_il_12m \t: 99.943349463%\n",
      "funded_amnt_inv \t: 0.0%\n",
      "initial_list_status \t: 0.0%\n",
      "tot_coll_amt \t: 25.0702230615%\n",
      "total_rec_prncp \t: 0.0%\n",
      "next_pymnt_d \t: 99.520437468%\n",
      "earliest_cr_line \t: 0.0%\n",
      "total_rev_hi_lim \t: 25.0702230615%\n",
      "zip_code \t: 0.0%\n",
      "last_credit_pull_d \t: 0.00826153664582%\n",
      "verification_status \t: 0.0%\n",
      "total_pymnt_inv \t: 0.0%\n",
      "open_acc \t: 0.0%\n",
      "last_pymnt_d \t: 0.210865887722%\n",
      "collections_12_mths_ex_med \t: 0.0220307643888%\n",
      "dti \t: 0.0%\n",
      "open_rv_12m \t: 99.943349463%\n",
      "sub_grade \t: 0.0%\n",
      "open_il_6m \t: 99.943349463%\n",
      "inq_fi \t: 99.943349463%\n",
      "pymnt_plan \t: 0.0%\n",
      "purpose \t: 0.0%\n",
      "addr_state \t: 0.0%\n",
      "acc_now_delinq \t: 0.0%\n",
      "dti_joint \t: 99.9996065935%\n",
      "recoveries \t: 0.0%\n",
      "mths_since_last_record \t: 87.4841653881%\n",
      "mths_since_last_major_derog \t: 81.1652700736%\n",
      "desc \t: 65.2047680869%\n",
      "all_util \t: 99.943349463%\n",
      "policy_code \t: 0.0%\n",
      "term \t: 0.0%\n",
      "revol_bal \t: 0.0%\n",
      "total_rec_int \t: 0.0%\n",
      "installment \t: 0.0%\n",
      "url \t: 0.0%\n",
      "annual_inc_joint \t: 99.9996065935%\n",
      "max_bal_bc \t: 99.943349463%\n",
      "revol_util \t: 0.0786813013887%\n",
      "total_cu_tl \t: 99.943349463%\n",
      "inq_last_12m \t: 99.943349463%\n",
      "total_rec_late_fee \t: 0.0%\n",
      "int_rate \t: 0.0%\n",
      "collection_recovery_fee \t: 0.0%\n",
      "funded_amnt \t: 0.0%\n",
      "mths_since_rcnt_il \t: 99.944923089%\n",
      "member_id \t: 0.0%\n",
      "loan_status \t: 0.0%\n",
      "home_ownership \t: 0.0%\n",
      "open_rv_24m \t: 99.943349463%\n",
      "delinq_2yrs \t: 0.0%\n",
      "loan_amnt \t: 0.0%\n",
      "issue_d \t: 0.0%\n"
     ]
    }
   ],
   "source": [
    "#sb.barplot(emptiness.values(),emptiness.keys())\n",
    "full_filled=set()\n",
    "nearly_unfilled=set()\n",
    "others=set()\n",
    "print \"% emptiness of each column\"\n",
    "for items in emptiness.items():\n",
    "    perc=items[1]*100.0/len(df_original)\n",
    "    print items[0],\"\\t:\",str(perc)+\"%\"    \n",
    "    if perc<=15:\n",
    "        full_filled.add(items[0])\n",
    "    elif perc>=75:\n",
    "        nearly_unfilled.add(items[0])\n",
    "    else:\n",
    "        others.add(items[0])"
   ]
  },
  {
   "cell_type": "code",
   "execution_count": 78,
   "metadata": {
    "collapsed": false
   },
   "outputs": [
    {
     "name": "stdout",
     "output_type": "stream",
     "text": [
      "49\n",
      "acc_now_delinq\n",
      "addr_state\n",
      "annual_inc\n",
      "application_type\n",
      "collection_recovery_fee\n",
      "collections_12_mths_ex_med\n",
      "delinq_2yrs\n",
      "dti\n",
      "earliest_cr_line\n",
      "emp_length\n",
      "emp_title\n",
      "funded_amnt\n",
      "funded_amnt_inv\n",
      "grade\n",
      "home_ownership\n",
      "id\n",
      "initial_list_status\n",
      "inq_last_6mths\n",
      "installment\n",
      "int_rate\n",
      "issue_d\n",
      "last_credit_pull_d\n",
      "last_pymnt_amnt\n",
      "last_pymnt_d\n",
      "loan_amnt\n",
      "loan_status\n",
      "member_id\n",
      "open_acc\n",
      "out_prncp\n",
      "out_prncp_inv\n",
      "policy_code\n",
      "pub_rec\n",
      "purpose\n",
      "pymnt_plan\n",
      "recoveries\n",
      "revol_bal\n",
      "revol_util\n",
      "sub_grade\n",
      "term\n",
      "title\n",
      "total_acc\n",
      "total_pymnt\n",
      "total_pymnt_inv\n",
      "total_rec_int\n",
      "total_rec_late_fee\n",
      "total_rec_prncp\n",
      "url\n",
      "verification_status\n",
      "zip_code\n"
     ]
    }
   ],
   "source": [
    "print len(full_filled)\n",
    "print \"\\n\".join(sorted(full_filled))"
   ]
  },
  {
   "cell_type": "code",
   "execution_count": 79,
   "metadata": {
    "collapsed": false,
    "scrolled": true
   },
   "outputs": [
    {
     "name": "stdout",
     "output_type": "stream",
     "text": [
      "all_util\n",
      "annual_inc_joint\n",
      "dti_joint\n",
      "il_util\n",
      "inq_fi\n",
      "inq_last_12m\n",
      "max_bal_bc\n",
      "mths_since_last_major_derog\n",
      "mths_since_last_record\n",
      "mths_since_rcnt_il\n",
      "next_pymnt_d\n",
      "open_acc_6m\n",
      "open_il_12m\n",
      "open_il_24m\n",
      "open_il_6m\n",
      "open_rv_12m\n",
      "open_rv_24m\n",
      "total_bal_il\n",
      "total_cu_tl\n",
      "verification_status_joint\n"
     ]
    }
   ],
   "source": [
    "print \"\\n\".join(sorted(nearly_unfilled))"
   ]
  },
  {
   "cell_type": "code",
   "execution_count": 80,
   "metadata": {
    "collapsed": false
   },
   "outputs": [
    {
     "name": "stdout",
     "output_type": "stream",
     "text": [
      "desc\n",
      "mths_since_last_delinq\n",
      "tot_coll_amt\n",
      "tot_cur_bal\n",
      "total_rev_hi_lim\n"
     ]
    }
   ],
   "source": [
    "print \"\\n\".join(sorted(others))"
   ]
  },
  {
   "cell_type": "code",
   "execution_count": 81,
   "metadata": {
    "collapsed": false
   },
   "outputs": [],
   "source": [
    "df_cleaned=df_original.drop(nearly_unfilled,axis=1)"
   ]
  },
  {
   "cell_type": "code",
   "execution_count": 82,
   "metadata": {
    "collapsed": false
   },
   "outputs": [
    {
     "data": {
      "text/html": [
       "<div>\n",
       "<table border=\"1\" class=\"dataframe\">\n",
       "  <thead>\n",
       "    <tr style=\"text-align: right;\">\n",
       "      <th></th>\n",
       "      <th>id</th>\n",
       "      <th>member_id</th>\n",
       "      <th>loan_amnt</th>\n",
       "      <th>funded_amnt</th>\n",
       "      <th>funded_amnt_inv</th>\n",
       "      <th>term</th>\n",
       "      <th>int_rate</th>\n",
       "      <th>installment</th>\n",
       "      <th>grade</th>\n",
       "      <th>sub_grade</th>\n",
       "      <th>...</th>\n",
       "      <th>last_pymnt_d</th>\n",
       "      <th>last_pymnt_amnt</th>\n",
       "      <th>last_credit_pull_d</th>\n",
       "      <th>collections_12_mths_ex_med</th>\n",
       "      <th>policy_code</th>\n",
       "      <th>application_type</th>\n",
       "      <th>acc_now_delinq</th>\n",
       "      <th>tot_coll_amt</th>\n",
       "      <th>tot_cur_bal</th>\n",
       "      <th>total_rev_hi_lim</th>\n",
       "    </tr>\n",
       "  </thead>\n",
       "  <tbody>\n",
       "    <tr>\n",
       "      <th>0</th>\n",
       "      <td>1077501</td>\n",
       "      <td>1296599</td>\n",
       "      <td>5000.0</td>\n",
       "      <td>5000.0</td>\n",
       "      <td>4975.0</td>\n",
       "      <td>36 months</td>\n",
       "      <td>10.65</td>\n",
       "      <td>162.87</td>\n",
       "      <td>B</td>\n",
       "      <td>B2</td>\n",
       "      <td>...</td>\n",
       "      <td>Jan-2015</td>\n",
       "      <td>171.62</td>\n",
       "      <td>Jan-2016</td>\n",
       "      <td>0.0</td>\n",
       "      <td>1.0</td>\n",
       "      <td>INDIVIDUAL</td>\n",
       "      <td>0.0</td>\n",
       "      <td>NaN</td>\n",
       "      <td>NaN</td>\n",
       "      <td>NaN</td>\n",
       "    </tr>\n",
       "    <tr>\n",
       "      <th>1</th>\n",
       "      <td>1077430</td>\n",
       "      <td>1314167</td>\n",
       "      <td>2500.0</td>\n",
       "      <td>2500.0</td>\n",
       "      <td>2500.0</td>\n",
       "      <td>60 months</td>\n",
       "      <td>15.27</td>\n",
       "      <td>59.83</td>\n",
       "      <td>C</td>\n",
       "      <td>C4</td>\n",
       "      <td>...</td>\n",
       "      <td>Apr-2013</td>\n",
       "      <td>119.66</td>\n",
       "      <td>Sep-2013</td>\n",
       "      <td>0.0</td>\n",
       "      <td>1.0</td>\n",
       "      <td>INDIVIDUAL</td>\n",
       "      <td>0.0</td>\n",
       "      <td>NaN</td>\n",
       "      <td>NaN</td>\n",
       "      <td>NaN</td>\n",
       "    </tr>\n",
       "    <tr>\n",
       "      <th>2</th>\n",
       "      <td>1077175</td>\n",
       "      <td>1313524</td>\n",
       "      <td>2400.0</td>\n",
       "      <td>2400.0</td>\n",
       "      <td>2400.0</td>\n",
       "      <td>36 months</td>\n",
       "      <td>15.96</td>\n",
       "      <td>84.33</td>\n",
       "      <td>C</td>\n",
       "      <td>C5</td>\n",
       "      <td>...</td>\n",
       "      <td>Jun-2014</td>\n",
       "      <td>649.91</td>\n",
       "      <td>Jan-2016</td>\n",
       "      <td>0.0</td>\n",
       "      <td>1.0</td>\n",
       "      <td>INDIVIDUAL</td>\n",
       "      <td>0.0</td>\n",
       "      <td>NaN</td>\n",
       "      <td>NaN</td>\n",
       "      <td>NaN</td>\n",
       "    </tr>\n",
       "    <tr>\n",
       "      <th>3</th>\n",
       "      <td>1076863</td>\n",
       "      <td>1277178</td>\n",
       "      <td>10000.0</td>\n",
       "      <td>10000.0</td>\n",
       "      <td>10000.0</td>\n",
       "      <td>36 months</td>\n",
       "      <td>13.49</td>\n",
       "      <td>339.31</td>\n",
       "      <td>C</td>\n",
       "      <td>C1</td>\n",
       "      <td>...</td>\n",
       "      <td>Jan-2015</td>\n",
       "      <td>357.48</td>\n",
       "      <td>Jan-2015</td>\n",
       "      <td>0.0</td>\n",
       "      <td>1.0</td>\n",
       "      <td>INDIVIDUAL</td>\n",
       "      <td>0.0</td>\n",
       "      <td>NaN</td>\n",
       "      <td>NaN</td>\n",
       "      <td>NaN</td>\n",
       "    </tr>\n",
       "    <tr>\n",
       "      <th>5</th>\n",
       "      <td>1075269</td>\n",
       "      <td>1311441</td>\n",
       "      <td>5000.0</td>\n",
       "      <td>5000.0</td>\n",
       "      <td>5000.0</td>\n",
       "      <td>36 months</td>\n",
       "      <td>7.90</td>\n",
       "      <td>156.46</td>\n",
       "      <td>A</td>\n",
       "      <td>A4</td>\n",
       "      <td>...</td>\n",
       "      <td>Jan-2015</td>\n",
       "      <td>161.03</td>\n",
       "      <td>Sep-2015</td>\n",
       "      <td>0.0</td>\n",
       "      <td>1.0</td>\n",
       "      <td>INDIVIDUAL</td>\n",
       "      <td>0.0</td>\n",
       "      <td>NaN</td>\n",
       "      <td>NaN</td>\n",
       "      <td>NaN</td>\n",
       "    </tr>\n",
       "  </tbody>\n",
       "</table>\n",
       "<p>5 rows × 54 columns</p>\n",
       "</div>"
      ],
      "text/plain": [
       "        id  member_id  loan_amnt  funded_amnt  funded_amnt_inv        term  \\\n",
       "0  1077501    1296599     5000.0       5000.0           4975.0   36 months   \n",
       "1  1077430    1314167     2500.0       2500.0           2500.0   60 months   \n",
       "2  1077175    1313524     2400.0       2400.0           2400.0   36 months   \n",
       "3  1076863    1277178    10000.0      10000.0          10000.0   36 months   \n",
       "5  1075269    1311441     5000.0       5000.0           5000.0   36 months   \n",
       "\n",
       "   int_rate  installment grade sub_grade       ...        last_pymnt_d  \\\n",
       "0     10.65       162.87     B        B2       ...            Jan-2015   \n",
       "1     15.27        59.83     C        C4       ...            Apr-2013   \n",
       "2     15.96        84.33     C        C5       ...            Jun-2014   \n",
       "3     13.49       339.31     C        C1       ...            Jan-2015   \n",
       "5      7.90       156.46     A        A4       ...            Jan-2015   \n",
       "\n",
       "  last_pymnt_amnt last_credit_pull_d  collections_12_mths_ex_med policy_code  \\\n",
       "0          171.62           Jan-2016                         0.0         1.0   \n",
       "1          119.66           Sep-2013                         0.0         1.0   \n",
       "2          649.91           Jan-2016                         0.0         1.0   \n",
       "3          357.48           Jan-2015                         0.0         1.0   \n",
       "5          161.03           Sep-2015                         0.0         1.0   \n",
       "\n",
       "  application_type acc_now_delinq tot_coll_amt tot_cur_bal total_rev_hi_lim  \n",
       "0       INDIVIDUAL            0.0          NaN         NaN              NaN  \n",
       "1       INDIVIDUAL            0.0          NaN         NaN              NaN  \n",
       "2       INDIVIDUAL            0.0          NaN         NaN              NaN  \n",
       "3       INDIVIDUAL            0.0          NaN         NaN              NaN  \n",
       "5       INDIVIDUAL            0.0          NaN         NaN              NaN  \n",
       "\n",
       "[5 rows x 54 columns]"
      ]
     },
     "execution_count": 82,
     "metadata": {},
     "output_type": "execute_result"
    }
   ],
   "source": [
    "df_cleaned.head()"
   ]
  },
  {
   "cell_type": "code",
   "execution_count": 84,
   "metadata": {
    "collapsed": false
   },
   "outputs": [
    {
     "data": {
      "text/plain": [
       "54"
      ]
     },
     "execution_count": 84,
     "metadata": {},
     "output_type": "execute_result"
    }
   ],
   "source": [
    "len(df_cleaned.columns)"
   ]
  },
  {
   "cell_type": "code",
   "execution_count": 96,
   "metadata": {
    "collapsed": false
   },
   "outputs": [],
   "source": [
    "numerical_cols=df_cleaned.describe().columns"
   ]
  },
  {
   "cell_type": "code",
   "execution_count": 95,
   "metadata": {
    "collapsed": false
   },
   "outputs": [
    {
     "data": {
      "text/plain": [
       "33"
      ]
     },
     "execution_count": 95,
     "metadata": {},
     "output_type": "execute_result"
    }
   ],
   "source": [
    "len(numerical_cols)"
   ]
  },
  {
   "cell_type": "code",
   "execution_count": 98,
   "metadata": {
    "collapsed": false
   },
   "outputs": [
    {
     "data": {
      "text/html": [
       "<div>\n",
       "<table border=\"1\" class=\"dataframe\">\n",
       "  <thead>\n",
       "    <tr style=\"text-align: right;\">\n",
       "      <th></th>\n",
       "      <th>id</th>\n",
       "      <th>member_id</th>\n",
       "      <th>loan_amnt</th>\n",
       "      <th>funded_amnt</th>\n",
       "      <th>funded_amnt_inv</th>\n",
       "      <th>int_rate</th>\n",
       "      <th>installment</th>\n",
       "      <th>annual_inc</th>\n",
       "      <th>dti</th>\n",
       "      <th>delinq_2yrs</th>\n",
       "      <th>...</th>\n",
       "      <th>total_rec_late_fee</th>\n",
       "      <th>recoveries</th>\n",
       "      <th>collection_recovery_fee</th>\n",
       "      <th>last_pymnt_amnt</th>\n",
       "      <th>collections_12_mths_ex_med</th>\n",
       "      <th>policy_code</th>\n",
       "      <th>acc_now_delinq</th>\n",
       "      <th>tot_coll_amt</th>\n",
       "      <th>tot_cur_bal</th>\n",
       "      <th>total_rev_hi_lim</th>\n",
       "    </tr>\n",
       "  </thead>\n",
       "  <tbody>\n",
       "    <tr>\n",
       "      <th>0</th>\n",
       "      <td>1077501</td>\n",
       "      <td>1296599</td>\n",
       "      <td>5000.0</td>\n",
       "      <td>5000.0</td>\n",
       "      <td>4975.0</td>\n",
       "      <td>10.65</td>\n",
       "      <td>162.87</td>\n",
       "      <td>24000.0</td>\n",
       "      <td>27.65</td>\n",
       "      <td>0.0</td>\n",
       "      <td>...</td>\n",
       "      <td>0.00</td>\n",
       "      <td>0.00</td>\n",
       "      <td>0.00</td>\n",
       "      <td>171.62</td>\n",
       "      <td>0.0</td>\n",
       "      <td>1.0</td>\n",
       "      <td>0.0</td>\n",
       "      <td>NaN</td>\n",
       "      <td>NaN</td>\n",
       "      <td>NaN</td>\n",
       "    </tr>\n",
       "    <tr>\n",
       "      <th>1</th>\n",
       "      <td>1077430</td>\n",
       "      <td>1314167</td>\n",
       "      <td>2500.0</td>\n",
       "      <td>2500.0</td>\n",
       "      <td>2500.0</td>\n",
       "      <td>15.27</td>\n",
       "      <td>59.83</td>\n",
       "      <td>30000.0</td>\n",
       "      <td>1.00</td>\n",
       "      <td>0.0</td>\n",
       "      <td>...</td>\n",
       "      <td>0.00</td>\n",
       "      <td>117.08</td>\n",
       "      <td>1.11</td>\n",
       "      <td>119.66</td>\n",
       "      <td>0.0</td>\n",
       "      <td>1.0</td>\n",
       "      <td>0.0</td>\n",
       "      <td>NaN</td>\n",
       "      <td>NaN</td>\n",
       "      <td>NaN</td>\n",
       "    </tr>\n",
       "    <tr>\n",
       "      <th>2</th>\n",
       "      <td>1077175</td>\n",
       "      <td>1313524</td>\n",
       "      <td>2400.0</td>\n",
       "      <td>2400.0</td>\n",
       "      <td>2400.0</td>\n",
       "      <td>15.96</td>\n",
       "      <td>84.33</td>\n",
       "      <td>12252.0</td>\n",
       "      <td>8.72</td>\n",
       "      <td>0.0</td>\n",
       "      <td>...</td>\n",
       "      <td>0.00</td>\n",
       "      <td>0.00</td>\n",
       "      <td>0.00</td>\n",
       "      <td>649.91</td>\n",
       "      <td>0.0</td>\n",
       "      <td>1.0</td>\n",
       "      <td>0.0</td>\n",
       "      <td>NaN</td>\n",
       "      <td>NaN</td>\n",
       "      <td>NaN</td>\n",
       "    </tr>\n",
       "    <tr>\n",
       "      <th>3</th>\n",
       "      <td>1076863</td>\n",
       "      <td>1277178</td>\n",
       "      <td>10000.0</td>\n",
       "      <td>10000.0</td>\n",
       "      <td>10000.0</td>\n",
       "      <td>13.49</td>\n",
       "      <td>339.31</td>\n",
       "      <td>49200.0</td>\n",
       "      <td>20.00</td>\n",
       "      <td>0.0</td>\n",
       "      <td>...</td>\n",
       "      <td>16.97</td>\n",
       "      <td>0.00</td>\n",
       "      <td>0.00</td>\n",
       "      <td>357.48</td>\n",
       "      <td>0.0</td>\n",
       "      <td>1.0</td>\n",
       "      <td>0.0</td>\n",
       "      <td>NaN</td>\n",
       "      <td>NaN</td>\n",
       "      <td>NaN</td>\n",
       "    </tr>\n",
       "    <tr>\n",
       "      <th>5</th>\n",
       "      <td>1075269</td>\n",
       "      <td>1311441</td>\n",
       "      <td>5000.0</td>\n",
       "      <td>5000.0</td>\n",
       "      <td>5000.0</td>\n",
       "      <td>7.90</td>\n",
       "      <td>156.46</td>\n",
       "      <td>36000.0</td>\n",
       "      <td>11.20</td>\n",
       "      <td>0.0</td>\n",
       "      <td>...</td>\n",
       "      <td>0.00</td>\n",
       "      <td>0.00</td>\n",
       "      <td>0.00</td>\n",
       "      <td>161.03</td>\n",
       "      <td>0.0</td>\n",
       "      <td>1.0</td>\n",
       "      <td>0.0</td>\n",
       "      <td>NaN</td>\n",
       "      <td>NaN</td>\n",
       "      <td>NaN</td>\n",
       "    </tr>\n",
       "  </tbody>\n",
       "</table>\n",
       "<p>5 rows × 33 columns</p>\n",
       "</div>"
      ],
      "text/plain": [
       "        id  member_id  loan_amnt  funded_amnt  funded_amnt_inv  int_rate  \\\n",
       "0  1077501    1296599     5000.0       5000.0           4975.0     10.65   \n",
       "1  1077430    1314167     2500.0       2500.0           2500.0     15.27   \n",
       "2  1077175    1313524     2400.0       2400.0           2400.0     15.96   \n",
       "3  1076863    1277178    10000.0      10000.0          10000.0     13.49   \n",
       "5  1075269    1311441     5000.0       5000.0           5000.0      7.90   \n",
       "\n",
       "   installment  annual_inc    dti  delinq_2yrs        ...         \\\n",
       "0       162.87     24000.0  27.65          0.0        ...          \n",
       "1        59.83     30000.0   1.00          0.0        ...          \n",
       "2        84.33     12252.0   8.72          0.0        ...          \n",
       "3       339.31     49200.0  20.00          0.0        ...          \n",
       "5       156.46     36000.0  11.20          0.0        ...          \n",
       "\n",
       "   total_rec_late_fee  recoveries  collection_recovery_fee  last_pymnt_amnt  \\\n",
       "0                0.00        0.00                     0.00           171.62   \n",
       "1                0.00      117.08                     1.11           119.66   \n",
       "2                0.00        0.00                     0.00           649.91   \n",
       "3               16.97        0.00                     0.00           357.48   \n",
       "5                0.00        0.00                     0.00           161.03   \n",
       "\n",
       "   collections_12_mths_ex_med  policy_code  acc_now_delinq  tot_coll_amt  \\\n",
       "0                         0.0          1.0             0.0           NaN   \n",
       "1                         0.0          1.0             0.0           NaN   \n",
       "2                         0.0          1.0             0.0           NaN   \n",
       "3                         0.0          1.0             0.0           NaN   \n",
       "5                         0.0          1.0             0.0           NaN   \n",
       "\n",
       "   tot_cur_bal  total_rev_hi_lim  \n",
       "0          NaN               NaN  \n",
       "1          NaN               NaN  \n",
       "2          NaN               NaN  \n",
       "3          NaN               NaN  \n",
       "5          NaN               NaN  \n",
       "\n",
       "[5 rows x 33 columns]"
      ]
     },
     "execution_count": 98,
     "metadata": {},
     "output_type": "execute_result"
    }
   ],
   "source": [
    "df_cleaned[numerical_cols].head()"
   ]
  },
  {
   "cell_type": "code",
   "execution_count": 99,
   "metadata": {
    "collapsed": false
   },
   "outputs": [
    {
     "name": "stdout",
     "output_type": "stream",
     "text": [
      "mths_since_last_delinq\n",
      "revol_util\n",
      "collections_12_mths_ex_med\n",
      "tot_coll_amt\n",
      "tot_cur_bal\n",
      "total_rev_hi_lim\n"
     ]
    }
   ],
   "source": [
    "for col in numerical_cols:\n",
    "    empty=sum(df_cleaned[col].isnull())\n",
    "    if empty>0:\n",
    "        print col"
   ]
  },
  {
   "cell_type": "code",
   "execution_count": 100,
   "metadata": {
    "collapsed": true
   },
   "outputs": [],
   "source": [
    "df_cleaned['mths_since_last_delinq']=df_cleaned[\"mths_since_last_delinq\"].fillna(0)"
   ]
  },
  {
   "cell_type": "code",
   "execution_count": 117,
   "metadata": {
    "collapsed": false
   },
   "outputs": [],
   "source": [
    "df_cleaned[\"revol_util\"]=df_cleaned[\"revol_util\"].fillna(df_cleaned['revol_util'].value_counts().index[0])"
   ]
  },
  {
   "cell_type": "code",
   "execution_count": 103,
   "metadata": {
    "collapsed": false
   },
   "outputs": [],
   "source": [
    "df_cleaned[\"collections_12_mths_ex_med\"]=df_cleaned[\"collections_12_mths_ex_med\"].fillna(df_cleaned[\"collections_12_mths_ex_med\"].median())"
   ]
  },
  {
   "cell_type": "code",
   "execution_count": 108,
   "metadata": {
    "collapsed": false
   },
   "outputs": [
    {
     "data": {
      "text/plain": [
       "18"
      ]
     },
     "execution_count": 108,
     "metadata": {},
     "output_type": "execute_result"
    }
   ],
   "source": [
    "sum(df_cleaned[df_cleaned['tot_coll_amt'].isnull()]['loan_status']=='Default')"
   ]
  },
  {
   "cell_type": "code",
   "execution_count": 109,
   "metadata": {
    "collapsed": true
   },
   "outputs": [],
   "source": [
    "df_cleaned[\"tot_coll_amt\"]=df_cleaned[\"tot_coll_amt\"].fillna(0)"
   ]
  },
  {
   "cell_type": "code",
   "execution_count": 112,
   "metadata": {
    "collapsed": false
   },
   "outputs": [
    {
     "name": "stdout",
     "output_type": "stream",
     "text": [
      "['Fully Paid' 'Charged Off' 'Default']\n",
      "18\n",
      "10019\n",
      "53689\n"
     ]
    }
   ],
   "source": [
    "print df_cleaned[df_cleaned['tot_cur_bal'].isnull()]['loan_status'].unique()\n",
    "print sum(df_cleaned[df_cleaned['tot_cur_bal'].isnull()]['loan_status']=='Default')\n",
    "print sum(df_cleaned[df_cleaned['tot_cur_bal'].isnull()]['loan_status']=='Charged Off')\n",
    "print sum(df_cleaned[df_cleaned['tot_cur_bal'].isnull()]['loan_status']=='Fully Paid')"
   ]
  },
  {
   "cell_type": "code",
   "execution_count": 113,
   "metadata": {
    "collapsed": true
   },
   "outputs": [],
   "source": [
    "df_cleaned[\"tot_cur_bal\"]=df_cleaned[\"tot_cur_bal\"].fillna(0)"
   ]
  },
  {
   "cell_type": "code",
   "execution_count": 118,
   "metadata": {
    "collapsed": true
   },
   "outputs": [],
   "source": [
    "df_cleaned[\"total_rev_hi_lim\"]=df_cleaned[\"total_rev_hi_lim\"].fillna(df_cleaned['total_rev_hi_lim'].value_counts().index[0])"
   ]
  },
  {
   "cell_type": "code",
   "execution_count": 119,
   "metadata": {
    "collapsed": false
   },
   "outputs": [],
   "source": [
    "for col in numerical_cols:\n",
    "    empty=sum(df_cleaned[col].isnull())\n",
    "    if empty>0:\n",
    "        print col"
   ]
  },
  {
   "cell_type": "code",
   "execution_count": 123,
   "metadata": {
    "collapsed": false
   },
   "outputs": [],
   "source": [
    "categorical_cols=list(set(df_cleaned.columns)-set(numerical_cols))"
   ]
  },
  {
   "cell_type": "code",
   "execution_count": 124,
   "metadata": {
    "collapsed": false
   },
   "outputs": [
    {
     "data": {
      "text/html": [
       "<div>\n",
       "<table border=\"1\" class=\"dataframe\">\n",
       "  <thead>\n",
       "    <tr style=\"text-align: right;\">\n",
       "      <th></th>\n",
       "      <th>last_credit_pull_d</th>\n",
       "      <th>verification_status</th>\n",
       "      <th>term</th>\n",
       "      <th>issue_d</th>\n",
       "      <th>title</th>\n",
       "      <th>grade</th>\n",
       "      <th>application_type</th>\n",
       "      <th>initial_list_status</th>\n",
       "      <th>loan_status</th>\n",
       "      <th>sub_grade</th>\n",
       "      <th>...</th>\n",
       "      <th>last_pymnt_d</th>\n",
       "      <th>earliest_cr_line</th>\n",
       "      <th>pymnt_plan</th>\n",
       "      <th>purpose</th>\n",
       "      <th>emp_length</th>\n",
       "      <th>url</th>\n",
       "      <th>addr_state</th>\n",
       "      <th>desc</th>\n",
       "      <th>emp_title</th>\n",
       "      <th>zip_code</th>\n",
       "    </tr>\n",
       "  </thead>\n",
       "  <tbody>\n",
       "    <tr>\n",
       "      <th>0</th>\n",
       "      <td>Jan-2016</td>\n",
       "      <td>Verified</td>\n",
       "      <td>36 months</td>\n",
       "      <td>Dec-2011</td>\n",
       "      <td>Computer</td>\n",
       "      <td>B</td>\n",
       "      <td>INDIVIDUAL</td>\n",
       "      <td>f</td>\n",
       "      <td>Fully Paid</td>\n",
       "      <td>B2</td>\n",
       "      <td>...</td>\n",
       "      <td>Jan-2015</td>\n",
       "      <td>Jan-1985</td>\n",
       "      <td>n</td>\n",
       "      <td>credit_card</td>\n",
       "      <td>10+ years</td>\n",
       "      <td>https://www.lendingclub.com/browse/loanDetail....</td>\n",
       "      <td>AZ</td>\n",
       "      <td>Borrower added on 12/22/11 &gt; I need to upgra...</td>\n",
       "      <td>NaN</td>\n",
       "      <td>860xx</td>\n",
       "    </tr>\n",
       "    <tr>\n",
       "      <th>1</th>\n",
       "      <td>Sep-2013</td>\n",
       "      <td>Source Verified</td>\n",
       "      <td>60 months</td>\n",
       "      <td>Dec-2011</td>\n",
       "      <td>bike</td>\n",
       "      <td>C</td>\n",
       "      <td>INDIVIDUAL</td>\n",
       "      <td>f</td>\n",
       "      <td>Charged Off</td>\n",
       "      <td>C4</td>\n",
       "      <td>...</td>\n",
       "      <td>Apr-2013</td>\n",
       "      <td>Apr-1999</td>\n",
       "      <td>n</td>\n",
       "      <td>car</td>\n",
       "      <td>&lt; 1 year</td>\n",
       "      <td>https://www.lendingclub.com/browse/loanDetail....</td>\n",
       "      <td>GA</td>\n",
       "      <td>Borrower added on 12/22/11 &gt; I plan to use t...</td>\n",
       "      <td>Ryder</td>\n",
       "      <td>309xx</td>\n",
       "    </tr>\n",
       "    <tr>\n",
       "      <th>2</th>\n",
       "      <td>Jan-2016</td>\n",
       "      <td>Not Verified</td>\n",
       "      <td>36 months</td>\n",
       "      <td>Dec-2011</td>\n",
       "      <td>real estate business</td>\n",
       "      <td>C</td>\n",
       "      <td>INDIVIDUAL</td>\n",
       "      <td>f</td>\n",
       "      <td>Fully Paid</td>\n",
       "      <td>C5</td>\n",
       "      <td>...</td>\n",
       "      <td>Jun-2014</td>\n",
       "      <td>Nov-2001</td>\n",
       "      <td>n</td>\n",
       "      <td>small_business</td>\n",
       "      <td>10+ years</td>\n",
       "      <td>https://www.lendingclub.com/browse/loanDetail....</td>\n",
       "      <td>IL</td>\n",
       "      <td>NaN</td>\n",
       "      <td>NaN</td>\n",
       "      <td>606xx</td>\n",
       "    </tr>\n",
       "    <tr>\n",
       "      <th>3</th>\n",
       "      <td>Jan-2015</td>\n",
       "      <td>Source Verified</td>\n",
       "      <td>36 months</td>\n",
       "      <td>Dec-2011</td>\n",
       "      <td>personel</td>\n",
       "      <td>C</td>\n",
       "      <td>INDIVIDUAL</td>\n",
       "      <td>f</td>\n",
       "      <td>Fully Paid</td>\n",
       "      <td>C1</td>\n",
       "      <td>...</td>\n",
       "      <td>Jan-2015</td>\n",
       "      <td>Feb-1996</td>\n",
       "      <td>n</td>\n",
       "      <td>other</td>\n",
       "      <td>10+ years</td>\n",
       "      <td>https://www.lendingclub.com/browse/loanDetail....</td>\n",
       "      <td>CA</td>\n",
       "      <td>Borrower added on 12/21/11 &gt; to pay for prop...</td>\n",
       "      <td>AIR RESOURCES BOARD</td>\n",
       "      <td>917xx</td>\n",
       "    </tr>\n",
       "    <tr>\n",
       "      <th>5</th>\n",
       "      <td>Sep-2015</td>\n",
       "      <td>Source Verified</td>\n",
       "      <td>36 months</td>\n",
       "      <td>Dec-2011</td>\n",
       "      <td>My wedding loan I promise to pay back</td>\n",
       "      <td>A</td>\n",
       "      <td>INDIVIDUAL</td>\n",
       "      <td>f</td>\n",
       "      <td>Fully Paid</td>\n",
       "      <td>A4</td>\n",
       "      <td>...</td>\n",
       "      <td>Jan-2015</td>\n",
       "      <td>Nov-2004</td>\n",
       "      <td>n</td>\n",
       "      <td>wedding</td>\n",
       "      <td>3 years</td>\n",
       "      <td>https://www.lendingclub.com/browse/loanDetail....</td>\n",
       "      <td>AZ</td>\n",
       "      <td>NaN</td>\n",
       "      <td>Veolia Transportaton</td>\n",
       "      <td>852xx</td>\n",
       "    </tr>\n",
       "  </tbody>\n",
       "</table>\n",
       "<p>5 rows × 21 columns</p>\n",
       "</div>"
      ],
      "text/plain": [
       "  last_credit_pull_d verification_status        term   issue_d  \\\n",
       "0           Jan-2016            Verified   36 months  Dec-2011   \n",
       "1           Sep-2013     Source Verified   60 months  Dec-2011   \n",
       "2           Jan-2016        Not Verified   36 months  Dec-2011   \n",
       "3           Jan-2015     Source Verified   36 months  Dec-2011   \n",
       "5           Sep-2015     Source Verified   36 months  Dec-2011   \n",
       "\n",
       "                                   title grade application_type  \\\n",
       "0                               Computer     B       INDIVIDUAL   \n",
       "1                                   bike     C       INDIVIDUAL   \n",
       "2                   real estate business     C       INDIVIDUAL   \n",
       "3                               personel     C       INDIVIDUAL   \n",
       "5  My wedding loan I promise to pay back     A       INDIVIDUAL   \n",
       "\n",
       "  initial_list_status  loan_status sub_grade   ...    last_pymnt_d  \\\n",
       "0                   f   Fully Paid        B2   ...        Jan-2015   \n",
       "1                   f  Charged Off        C4   ...        Apr-2013   \n",
       "2                   f   Fully Paid        C5   ...        Jun-2014   \n",
       "3                   f   Fully Paid        C1   ...        Jan-2015   \n",
       "5                   f   Fully Paid        A4   ...        Jan-2015   \n",
       "\n",
       "  earliest_cr_line pymnt_plan         purpose emp_length  \\\n",
       "0         Jan-1985          n     credit_card  10+ years   \n",
       "1         Apr-1999          n             car   < 1 year   \n",
       "2         Nov-2001          n  small_business  10+ years   \n",
       "3         Feb-1996          n           other  10+ years   \n",
       "5         Nov-2004          n         wedding    3 years   \n",
       "\n",
       "                                                 url addr_state  \\\n",
       "0  https://www.lendingclub.com/browse/loanDetail....         AZ   \n",
       "1  https://www.lendingclub.com/browse/loanDetail....         GA   \n",
       "2  https://www.lendingclub.com/browse/loanDetail....         IL   \n",
       "3  https://www.lendingclub.com/browse/loanDetail....         CA   \n",
       "5  https://www.lendingclub.com/browse/loanDetail....         AZ   \n",
       "\n",
       "                                                desc             emp_title  \\\n",
       "0    Borrower added on 12/22/11 > I need to upgra...                   NaN   \n",
       "1    Borrower added on 12/22/11 > I plan to use t...                 Ryder   \n",
       "2                                                NaN                   NaN   \n",
       "3    Borrower added on 12/21/11 > to pay for prop...   AIR RESOURCES BOARD   \n",
       "5                                                NaN  Veolia Transportaton   \n",
       "\n",
       "  zip_code  \n",
       "0    860xx  \n",
       "1    309xx  \n",
       "2    606xx  \n",
       "3    917xx  \n",
       "5    852xx  \n",
       "\n",
       "[5 rows x 21 columns]"
      ]
     },
     "execution_count": 124,
     "metadata": {},
     "output_type": "execute_result"
    }
   ],
   "source": [
    "df_cleaned[categorical_cols].head()"
   ]
  },
  {
   "cell_type": "code",
   "execution_count": 127,
   "metadata": {
    "collapsed": false
   },
   "outputs": [
    {
     "name": "stdout",
     "output_type": "stream",
     "text": [
      "last_credit_pull_d 21\n",
      "title 12\n",
      "last_pymnt_d 536\n",
      "desc 165744\n",
      "emp_title 14007\n"
     ]
    }
   ],
   "source": [
    "for col in categorical_cols:\n",
    "    empty=sum(df_cleaned[col].isnull())\n",
    "    if empty>0:\n",
    "        print col,empty"
   ]
  },
  {
   "cell_type": "code",
   "execution_count": 128,
   "metadata": {
    "collapsed": true
   },
   "outputs": [],
   "source": [
    "df_cleaned[\"emp_title\"]=df_cleaned[\"emp_title\"].fillna(df_cleaned['emp_title'].value_counts().index[0])"
   ]
  },
  {
   "cell_type": "code",
   "execution_count": 129,
   "metadata": {
    "collapsed": true
   },
   "outputs": [],
   "source": [
    "df_cleaned[\"title\"]=df_cleaned[\"title\"].fillna('Others')"
   ]
  },
  {
   "cell_type": "code",
   "execution_count": null,
   "metadata": {
    "collapsed": true
   },
   "outputs": [],
   "source": [
    "to_be_removed=['url','desc']"
   ]
  },
  {
   "cell_type": "code",
   "execution_count": 130,
   "metadata": {
    "collapsed": true
   },
   "outputs": [],
   "source": [
    "df_cleaned=df_cleaned.drop(to_be_removed,axis=1)"
   ]
  },
  {
   "cell_type": "code",
   "execution_count": 134,
   "metadata": {
    "collapsed": true
   },
   "outputs": [],
   "source": [
    "def fun(data):\n",
    "    if data in ['Default','Charged Off']:\n",
    "        return 0\n",
    "    else:\n",
    "        return 1   "
   ]
  },
  {
   "cell_type": "code",
   "execution_count": 135,
   "metadata": {
    "collapsed": true
   },
   "outputs": [],
   "source": [
    "df_cleaned['labels']=df_cleaned['loan_status'].apply(fun)"
   ]
  },
  {
   "cell_type": "code",
   "execution_count": 137,
   "metadata": {
    "collapsed": false
   },
   "outputs": [
    {
     "data": {
      "text/html": [
       "<div>\n",
       "<table border=\"1\" class=\"dataframe\">\n",
       "  <thead>\n",
       "    <tr style=\"text-align: right;\">\n",
       "      <th></th>\n",
       "      <th>labels</th>\n",
       "      <th>loan_status</th>\n",
       "    </tr>\n",
       "  </thead>\n",
       "  <tbody>\n",
       "    <tr>\n",
       "      <th>0</th>\n",
       "      <td>1</td>\n",
       "      <td>Fully Paid</td>\n",
       "    </tr>\n",
       "    <tr>\n",
       "      <th>1</th>\n",
       "      <td>0</td>\n",
       "      <td>Charged Off</td>\n",
       "    </tr>\n",
       "    <tr>\n",
       "      <th>2</th>\n",
       "      <td>1</td>\n",
       "      <td>Fully Paid</td>\n",
       "    </tr>\n",
       "    <tr>\n",
       "      <th>3</th>\n",
       "      <td>1</td>\n",
       "      <td>Fully Paid</td>\n",
       "    </tr>\n",
       "    <tr>\n",
       "      <th>5</th>\n",
       "      <td>1</td>\n",
       "      <td>Fully Paid</td>\n",
       "    </tr>\n",
       "    <tr>\n",
       "      <th>7</th>\n",
       "      <td>1</td>\n",
       "      <td>Fully Paid</td>\n",
       "    </tr>\n",
       "    <tr>\n",
       "      <th>8</th>\n",
       "      <td>0</td>\n",
       "      <td>Charged Off</td>\n",
       "    </tr>\n",
       "    <tr>\n",
       "      <th>9</th>\n",
       "      <td>0</td>\n",
       "      <td>Charged Off</td>\n",
       "    </tr>\n",
       "    <tr>\n",
       "      <th>10</th>\n",
       "      <td>1</td>\n",
       "      <td>Fully Paid</td>\n",
       "    </tr>\n",
       "    <tr>\n",
       "      <th>11</th>\n",
       "      <td>1</td>\n",
       "      <td>Fully Paid</td>\n",
       "    </tr>\n",
       "  </tbody>\n",
       "</table>\n",
       "</div>"
      ],
      "text/plain": [
       "    labels  loan_status\n",
       "0        1   Fully Paid\n",
       "1        0  Charged Off\n",
       "2        1   Fully Paid\n",
       "3        1   Fully Paid\n",
       "5        1   Fully Paid\n",
       "7        1   Fully Paid\n",
       "8        0  Charged Off\n",
       "9        0  Charged Off\n",
       "10       1   Fully Paid\n",
       "11       1   Fully Paid"
      ]
     },
     "execution_count": 137,
     "metadata": {},
     "output_type": "execute_result"
    }
   ],
   "source": [
    "df_cleaned[['labels','loan_status']].head(10)"
   ]
  },
  {
   "cell_type": "code",
   "execution_count": 138,
   "metadata": {
    "collapsed": true
   },
   "outputs": [],
   "source": [
    "df_cleaned.to_csv('loan_cleaned.csv',index=False)"
   ]
  },
  {
   "cell_type": "code",
   "execution_count": 145,
   "metadata": {
    "collapsed": false
   },
   "outputs": [
    {
     "data": {
      "text/plain": [
       "Index([u'id', u'member_id', u'loan_amnt', u'funded_amnt', u'funded_amnt_inv',\n",
       "       u'term', u'int_rate', u'installment', u'grade', u'sub_grade',\n",
       "       u'emp_title', u'emp_length', u'home_ownership', u'annual_inc',\n",
       "       u'verification_status', u'issue_d', u'loan_status', u'pymnt_plan',\n",
       "       u'purpose', u'title', u'zip_code', u'addr_state', u'dti',\n",
       "       u'delinq_2yrs', u'earliest_cr_line', u'inq_last_6mths',\n",
       "       u'mths_since_last_delinq', u'open_acc', u'pub_rec', u'revol_bal',\n",
       "       u'revol_util', u'total_acc', u'initial_list_status', u'out_prncp',\n",
       "       u'out_prncp_inv', u'total_pymnt', u'total_pymnt_inv',\n",
       "       u'total_rec_prncp', u'total_rec_int', u'total_rec_late_fee',\n",
       "       u'recoveries', u'collection_recovery_fee', u'last_pymnt_d',\n",
       "       u'last_pymnt_amnt', u'last_credit_pull_d',\n",
       "       u'collections_12_mths_ex_med', u'policy_code', u'application_type',\n",
       "       u'acc_now_delinq', u'tot_coll_amt', u'tot_cur_bal', u'total_rev_hi_lim',\n",
       "       u'labels'],\n",
       "      dtype='object')"
      ]
     },
     "execution_count": 145,
     "metadata": {},
     "output_type": "execute_result"
    }
   ],
   "source": [
    "(df_cleaned.columns)"
   ]
  },
  {
   "cell_type": "code",
   "execution_count": 132,
   "metadata": {
    "collapsed": false
   },
   "outputs": [
    {
     "data": {
      "text/plain": [
       "254190"
      ]
     },
     "execution_count": 132,
     "metadata": {},
     "output_type": "execute_result"
    }
   ],
   "source": [
    "len(df_cleaned)"
   ]
  },
  {
   "cell_type": "code",
   "execution_count": null,
   "metadata": {
    "collapsed": true
   },
   "outputs": [],
   "source": [
    "y = df_cleaned.pop('loan_status')"
   ]
  },
  {
   "cell_type": "code",
   "execution_count": null,
   "metadata": {
    "collapsed": true
   },
   "outputs": [],
   "source": [
    "X_train, X_test, y_train, y_test = train_test_split( X, y, test_size=0.33, random_state=42)"
   ]
  },
  {
   "cell_type": "code",
   "execution_count": 133,
   "metadata": {
    "collapsed": true
   },
   "outputs": [],
   "source": [
    "from sklearn.cross_validation import train_test_split"
   ]
  },
  {
   "cell_type": "code",
   "execution_count": 30,
   "metadata": {
    "collapsed": false
   },
   "outputs": [
    {
     "name": "stdout",
     "output_type": "stream",
     "text": [
      "dti\n",
      "emp_length_num\n",
      "grade\n",
      "home_ownership\n",
      "last_delinq_none\n",
      "last_major_derog_none\n",
      "purpose\n",
      "revol_util\n",
      "short_emp\n",
      "sub_grade\n",
      "term\n",
      "total_rec_late_fee\n"
     ]
    }
   ],
   "source": [
    "good_features=['grade','sub_grade','short_emp','emp_length_num','home_ownership','dti','purpose','term','last_delinq_none','last_major_derog_none','revol_util','total_rec_late_fee']\n",
    "good_features.sort()\n",
    "print \"\\n\".join(good_features)"
   ]
  },
  {
   "cell_type": "code",
   "execution_count": null,
   "metadata": {
    "collapsed": true
   },
   "outputs": [],
   "source": []
  },
  {
   "cell_type": "code",
   "execution_count": null,
   "metadata": {
    "collapsed": true
   },
   "outputs": [],
   "source": []
  },
  {
   "cell_type": "code",
   "execution_count": null,
   "metadata": {
    "collapsed": true
   },
   "outputs": [],
   "source": []
  },
  {
   "cell_type": "code",
   "execution_count": null,
   "metadata": {
    "collapsed": true
   },
   "outputs": [],
   "source": []
  },
  {
   "cell_type": "code",
   "execution_count": null,
   "metadata": {
    "collapsed": true
   },
   "outputs": [],
   "source": []
  }
 ],
 "metadata": {
  "kernelspec": {
   "display_name": "Python 2",
   "language": "python",
   "name": "python2"
  },
  "language_info": {
   "codemirror_mode": {
    "name": "ipython",
    "version": 2
   },
   "file_extension": ".py",
   "mimetype": "text/x-python",
   "name": "python",
   "nbconvert_exporter": "python",
   "pygments_lexer": "ipython2",
   "version": "2.7.10"
  }
 },
 "nbformat": 4,
 "nbformat_minor": 1
}
