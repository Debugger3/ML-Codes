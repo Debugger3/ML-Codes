{
 "cells": [
  {
   "cell_type": "code",
   "execution_count": 1,
   "metadata": {
    "collapsed": false
   },
   "outputs": [
    {
     "name": "stderr",
     "output_type": "stream",
     "text": [
      "A newer version of GraphLab Create (v2.1) is available! Your current version is v1.9.\n",
      "\n",
      "You can use pip to upgrade the graphlab-create package. For more information see https://dato.com/products/create/upgrade.\n"
     ]
    },
    {
     "name": "stdout",
     "output_type": "stream",
     "text": [
      "This non-commercial license of GraphLab Create for academic use is assigned to freeze.francis@iiitb.org and will expire on July 06, 2017.\n"
     ]
    },
    {
     "name": "stderr",
     "output_type": "stream",
     "text": [
      "2016-11-16 15:38:36,172 [INFO] graphlab.cython.cy_server, 176: GraphLab Create v1.9 started. Logging: /tmp/graphlab_server_1479290912.log\n"
     ]
    }
   ],
   "source": [
    "import pandas as pd\n",
    "import graphlab as gb\n",
    "import matplotlib.pyplot as plt\n",
    "import numpy as np\n",
    "import seaborn as sb\n",
    "get_ipython().magic(u'matplotlib inline')\n",
    "from sklearn.preprocessing import scale\n",
    "from sklearn import metrics\n",
    "from sklearn.cluster import KMeans\n",
    "from sklearn.decomposition import PCA\n",
    "from time import time\n",
    "from utility import *"
   ]
  },
  {
   "cell_type": "code",
   "execution_count": 6,
   "metadata": {
    "collapsed": true
   },
   "outputs": [],
   "source": [
    "df=pd.read_csv('loan_cleaned.csv')"
   ]
  },
  {
   "cell_type": "code",
   "execution_count": 7,
   "metadata": {
    "collapsed": true
   },
   "outputs": [],
   "source": [
    "#replace emp_length(str) with emp_length(int)\n",
    "df.replace('n/a', np.nan,inplace=True)\n",
    "df.emp_length.fillna(value=0,inplace=True)\n",
    "df['emp_length'].replace(to_replace='[^0-9]+', value='', inplace=True, regex=True)\n",
    "df['emp_length'] = df['emp_length'].astype(int)"
   ]
  },
  {
   "cell_type": "code",
   "execution_count": 8,
   "metadata": {
    "collapsed": false
   },
   "outputs": [],
   "source": [
    "#sorted(df.columns)\n",
    "\n",
    "df.to_csv(\"loan_cleaned.csv\",sep=\",\",index=False)"
   ]
  },
  {
   "cell_type": "code",
   "execution_count": 9,
   "metadata": {
    "collapsed": false
   },
   "outputs": [],
   "source": [
    "numeric_cols=df.describe().columns"
   ]
  },
  {
   "cell_type": "code",
   "execution_count": 10,
   "metadata": {
    "collapsed": false
   },
   "outputs": [
    {
     "data": {
      "text/plain": [
       "['acc_now_delinq',\n",
       " 'annual_inc',\n",
       " 'collection_recovery_fee',\n",
       " 'collections_12_mths_ex_med',\n",
       " 'delinq_2yrs',\n",
       " 'dti',\n",
       " 'emp_length',\n",
       " 'funded_amnt',\n",
       " 'funded_amnt_inv',\n",
       " 'id',\n",
       " 'inq_last_6mths',\n",
       " 'installment',\n",
       " 'int_rate',\n",
       " 'labels',\n",
       " 'last_pymnt_amnt',\n",
       " 'loan_amnt',\n",
       " 'member_id',\n",
       " 'mths_since_last_delinq',\n",
       " 'open_acc',\n",
       " 'out_prncp',\n",
       " 'out_prncp_inv',\n",
       " 'policy_code',\n",
       " 'pub_rec',\n",
       " 'recoveries',\n",
       " 'revol_bal',\n",
       " 'revol_util',\n",
       " 'tot_coll_amt',\n",
       " 'tot_cur_bal',\n",
       " 'total_acc',\n",
       " 'total_pymnt',\n",
       " 'total_pymnt_inv',\n",
       " 'total_rec_int',\n",
       " 'total_rec_late_fee',\n",
       " 'total_rec_prncp',\n",
       " 'total_rev_hi_lim']"
      ]
     },
     "execution_count": 10,
     "metadata": {},
     "output_type": "execute_result"
    }
   ],
   "source": [
    "sorted(numeric_cols)"
   ]
  },
  {
   "cell_type": "code",
   "execution_count": 11,
   "metadata": {
    "collapsed": false
   },
   "outputs": [],
   "source": [
    "#df.info()"
   ]
  },
  {
   "cell_type": "code",
   "execution_count": 12,
   "metadata": {
    "collapsed": false
   },
   "outputs": [
    {
     "name": "stdout",
     "output_type": "stream",
     "text": [
      "id [ 1077501  1077430  1077175 ..., 36241316 36421485 36260758]\n",
      "\n",
      "member_id [ 1296599  1314167  1313524 ..., 38952731 39142898 38972123]\n",
      "\n",
      "loan_amnt [  5000.   2500.   2400. ...,  34175.  29525.  29150.]\n",
      "\n",
      "funded_amnt [  5000.   2500.   2400. ...,  34175.  29525.  29150.]\n",
      "\n",
      "funded_amnt_inv [  4975.   2500.   2400. ...,  30425.  31350.  30525.]\n",
      "\n",
      "int_rate [ 10.65  15.27  15.96  13.49   7.9   18.64  21.28  12.69  14.65   9.91\n",
      "  16.29   6.03  11.71  12.42  14.27  16.77   7.51   8.9   18.25   6.62\n",
      "  19.91  17.27  17.58  21.67  19.42  20.89  20.3   23.91  19.03  23.13\n",
      "  22.74  22.35  22.06  24.11   6.    23.52  22.11   7.49  11.99   5.99\n",
      "  10.99   9.99  18.79  11.49   8.49  15.99  16.49   6.99  12.99  15.23\n",
      "  14.79   5.42  10.59  17.49  15.62  19.29  13.99  18.39  16.89  17.99\n",
      "  20.99  22.85  19.69  20.62  20.25  21.36  23.22  21.74  22.48  23.59\n",
      "  12.62  18.07  11.63   7.91   7.42  11.14  20.2   12.12  19.39  16.11\n",
      "  17.54  22.64  13.84  16.59  17.19  12.87  20.69   9.67  21.82  19.79\n",
      "  18.49  22.94  24.4   21.48  14.82  14.17   7.29  17.88  20.11  16.02\n",
      "  13.43  14.91  13.06  15.28  15.65  17.14  11.11  10.37  17.51   7.66\n",
      "  18.62  10.74   5.79   6.92  10.     9.63  16.4   14.54  12.68  19.36\n",
      "  13.8   21.59  20.85  21.22  19.74  20.48  18.99   6.91  12.23  12.61\n",
      "  10.36   6.17   6.54   9.25  16.69  15.95   8.88  13.35   9.62  16.32\n",
      "  12.98  13.72  14.09  14.46  14.83  20.03  17.8   15.2   15.57  18.54\n",
      "  19.66  17.06  17.43  18.17  20.4   20.77  18.91  21.14  17.44  13.23\n",
      "   7.88  11.12  13.61  10.38  17.56  17.93  15.58  13.98  14.84  15.21\n",
      "   6.76   6.39  11.86   7.14  14.35  16.82  10.75  14.72  16.45  18.67\n",
      "  20.53  19.41  20.16  21.27  18.3   19.04  20.9   21.64  12.73  10.25\n",
      "  13.11  10.62  13.48  14.59  16.07  15.7    9.88  11.36  15.33  13.85\n",
      "  14.96  14.22   7.74  13.22  13.57   8.59  17.04  14.61   8.94  12.18\n",
      "  11.83  11.48  16.35  13.92  15.31  14.26  19.13  12.53  16.7   16.    17.39\n",
      "  18.09   7.4   18.43  17.74   7.05  20.52  20.86  19.47  18.78  21.21\n",
      "  19.82  20.17  13.16   8.    13.47  12.21  16.63   9.32  12.84  11.26\n",
      "  15.68  15.37  10.95  11.89  14.11  13.79   7.68  11.58   7.37  16.95\n",
      "  15.05  18.53  14.74  14.42  18.21  17.26  18.84  17.9   19.16  13.67\n",
      "   9.38  12.72  13.36  11.46  10.51   9.07  13.04  11.78  12.41  10.83\n",
      "  12.09  17.46  14.3   17.15  15.25  10.2   15.88  14.93  16.2   18.72\n",
      "  14.62   8.32  14.12  10.96  10.33  10.01  12.86  11.28  11.59   8.63\n",
      "  12.54  12.22  11.91  15.38  16.96  13.17   9.7   16.33  14.75  15.07\n",
      "  16.01  10.71  10.64   9.76  11.34  10.39  13.87  11.03  11.66  13.24\n",
      "  10.08   9.45  13.55  12.29  11.97  12.92  15.45  14.5   14.18  15.13\n",
      "  16.08  15.76  17.03  17.34  16.71   9.83  13.62  10.46   9.51   9.2   13.3\n",
      "  10.78   7.75   8.38  12.36  12.67  11.72  13.93   8.07   7.43  12.04\n",
      "  14.25  14.88  11.41  11.09  10.14  16.15  15.83   7.12  18.36   9.64\n",
      "   9.96  11.22   9.01   9.33  11.54  12.17  12.8   14.38  13.75  14.7\n",
      "  12.49  14.07  10.91  13.12  10.28   8.7   14.67  15.01  13.53  12.85\n",
      "   7.62  14.47  14.98  16.24  20.5   17.57  22.9   23.4   19.97  16.99\n",
      "  23.7   15.61  25.89  22.4   19.22  25.8   24.08  24.99  25.57  26.06\n",
      "  25.99  24.5   25.83  19.52  19.2   15.1   21.7   17.76  17.1   18.55  21.\n",
      "  23.1    6.97   8.6   13.68  11.55  22.2   14.33  16.78  21.6   24.89\n",
      "  23.5   15.22   9.71  21.15  18.85  20.8   13.05  12.35  22.7   20.31\n",
      "  25.28  19.05  23.28  10.16  18.75  17.77  15.8   19.72  23.76  20.49\n",
      "  23.83  21.98  24.7   23.63  22.95  21.49  22.47  24.83  21.97  15.81\n",
      "  22.45  22.78  23.33  19.99  24.2   24.76  24.33  23.26  24.52  14.28\n",
      "  13.66  11.44  14.99  10.49  17.86  14.31   8.19  22.99   9.49  19.24\n",
      "  15.59  12.39   8.67  21.99   6.49  23.99   8.39  11.67   7.69  18.24\n",
      "  10.15   9.17  22.15  23.43  14.49  13.65  14.64  14.16  21.18  18.92\n",
      "  12.88  19.48  14.85  15.77  13.44   9.8    6.89  13.18   7.89  14.48\n",
      "  12.59  15.41   6.24  16.55  18.2   27.31   7.26   5.32  28.99  26.77\n",
      "  27.88  12.05   8.18  13.33  25.78  11.53  19.19  28.49   5.93   6.68]\n",
      "\n",
      "installment [ 162.87   59.83   84.33 ...,  685.27  220.37  399.04]\n",
      "\n",
      "emp_length [10  1  3  9  4  5  6  2  7  8  0]\n",
      "\n",
      "annual_inc [ 24000.  30000.  12252. ...,  76584.  47784.  63078.]\n",
      "\n",
      "dti [ 27.65   1.     8.72 ...,  37.77  36.22  35.76]\n",
      "\n",
      "delinq_2yrs [  0.   2.   3.   1.   4.   6.   5.   8.   7.   9.  11.  15.  10.  17.  18.\n",
      "  12.  29.  13.  14.  22.  16.  19.]\n",
      "\n",
      "inq_last_6mths [ 1.  5.  2.  3.  0.  4.  6.  7.  8.]\n",
      "\n",
      "mths_since_last_delinq [   0.   35.   61.    8.   20.   18.   45.   38.   48.   41.   40.   74.\n",
      "   25.   53.   39.   10.   26.   77.   28.   56.   52.   24.   16.   60.\n",
      "   54.   23.    9.   11.   13.   65.   19.   22.   59.   79.   44.   57.\n",
      "   14.   63.   49.   15.   73.   70.   29.   51.    5.   75.   55.    2.\n",
      "   30.   47.   69.    4.   43.   33.   21.   46.   81.   68.   78.   82.\n",
      "   31.   64.   76.   62.   72.   42.   50.    3.   12.   27.   34.   58.\n",
      "   17.   71.   66.   32.    6.   80.   36.   37.    7.   67.    1.   83.\n",
      "   86.  115.   96.  120.  106.   89.  103.  107.   85.   97.   95.  110.\n",
      "   84.   88.   87.  122.   91.  134.   99.  101.   94.  113.  139.  131.\n",
      "  109.   90.  141.  116.  148.  100.  152.   93.   98.   92.  108.  104.\n",
      "  135.  140.  151.  133.  130.  114.  112.]\n",
      "\n",
      "open_acc [  3.   2.  10.   9.   4.  11.  14.  12.  20.   8.   7.   6.  15.  17.   5.\n",
      "  13.  16.  30.  21.  18.  19.  27.  23.  34.  25.  22.  24.  26.  32.  29.\n",
      "  28.  33.  31.  39.  35.  36.  38.  44.  41.  42.  40.   1.  49.  45.  43.\n",
      "  37.   0.  48.  50.  52.  46.  47.  55.  58.  54.  76.  51.  53.  56.]\n",
      "\n",
      "pub_rec [  0.   1.   2.   3.   4.   5.   6.   9.   8.   7.  10.  11.  15.  12.]\n",
      "\n",
      "revol_bal [ 13648.   1687.   2956. ...,  83393.  56172.  66441.]\n",
      "\n",
      "revol_util [  83.7    9.4   98.5 ...,  112.   126.3  114.5]\n",
      "\n",
      "total_acc [   9.    4.   10.   37.   12.   13.    3.   23.   34.   11.   29.   28.\n",
      "   42.   14.   22.   38.   21.   17.    7.   31.   44.   26.   16.    6.\n",
      "   18.   27.   25.   40.   35.   24.    8.   20.   15.   19.   36.   51.\n",
      "   32.   30.   33.   46.    5.   61.   56.   50.   41.   79.   43.   47.\n",
      "   53.   45.   60.   55.   39.   52.   58.   54.   57.   49.   63.   48.\n",
      "   59.   62.   77.   87.   75.   72.   64.   67.   78.   76.   74.   66.\n",
      "   81.   90.   80.   71.   69.   73.   70.   68.   65.    2.   83.   88.\n",
      "   82.   91.   99.   92.  150.   84.   95.   85.   93.   89.  100.  102.\n",
      "  116.  118.   94.   86.  104.   96.  101.   98.  110.]\n",
      "\n",
      "out_prncp [     0.     6405.39   5979.46 ...,  20047.74   7330.1   28885.46]\n",
      "\n",
      "out_prncp_inv [     0.     6396.45   5972.37 ...,  20047.74   7330.1   28885.46]\n",
      "\n",
      "total_pymnt [ 5861.07141425  1008.71        3003.65364445 ...,  7050.46        4158.02\n",
      "  2396.05      ]\n",
      "\n",
      "total_pymnt_inv [ 5831.78  1008.71  3003.65 ...,  7050.46  4158.02  2396.05]\n",
      "\n",
      "total_rec_prncp [ 5000.     456.46  2400.   ...,  1862.24  2226.49  1405.77]\n",
      "\n",
      "total_rec_int [ 861.07  435.17  603.65 ...,  231.68  296.87  990.28]\n",
      "\n",
      "total_rec_late_fee [  0.    16.97  15.   ...,  23.81  15.77  32.07]\n",
      "\n",
      "recoveries [     0.      117.08    189.06 ...,  21941.26   1413.48   5834.18]\n",
      "\n",
      "collection_recovery_fee [    0.         1.11       2.09   ...,   571.1058   254.4264  1050.1524]\n",
      "\n",
      "last_pymnt_amnt [  171.62   119.66   649.91 ...,  9439.34  4858.17  3655.51]\n",
      "\n",
      "collections_12_mths_ex_med [ 0.  1.  2.  4.  3.  6.  5.]\n",
      "\n",
      "policy_code [ 1.]\n",
      "\n",
      "acc_now_delinq [ 0.  2.  1.  3.  5.  4.]\n",
      "\n",
      "tot_coll_amt [     0.  15386.    154. ...,   2425.   4151.   2140.]\n",
      "\n",
      "tot_cur_bal [      0.   13605.   19530. ...,    4419.  207975.    8357.]\n",
      "\n",
      "total_rev_hi_lim [   9000.   13500.    8100. ...,  240300.   23609.  171400.]\n",
      "\n",
      "labels [1 0]\n",
      "\n"
     ]
    }
   ],
   "source": [
    "for col in numeric_cols:\n",
    "    print col,df[col].unique()\n",
    "    print \"\""
   ]
  },
  {
   "cell_type": "code",
   "execution_count": 13,
   "metadata": {
    "collapsed": true
   },
   "outputs": [],
   "source": [
    "to_remove=['id','member_id','policy_code']"
   ]
  },
  {
   "cell_type": "code",
   "execution_count": 14,
   "metadata": {
    "collapsed": false
   },
   "outputs": [
    {
     "name": "stderr",
     "output_type": "stream",
     "text": [
      "/usr/local/lib/python2.7/dist-packages/ipykernel/__main__.py:2: SettingWithCopyWarning: \n",
      "A value is trying to be set on a copy of a slice from a DataFrame\n",
      "\n",
      "See the caveats in the documentation: http://pandas.pydata.org/pandas-docs/stable/indexing.html#indexing-view-versus-copy\n",
      "  from ipykernel import kernelapp as app\n"
     ]
    }
   ],
   "source": [
    "df_num=df[numeric_cols]\n",
    "df_num.drop(to_remove,axis=1,inplace=True)"
   ]
  },
  {
   "cell_type": "code",
   "execution_count": 15,
   "metadata": {
    "collapsed": false
   },
   "outputs": [
    {
     "data": {
      "text/plain": [
       "Index([u'loan_amnt', u'funded_amnt', u'funded_amnt_inv', u'int_rate',\n",
       "       u'installment', u'emp_length', u'annual_inc', u'dti', u'delinq_2yrs',\n",
       "       u'inq_last_6mths', u'mths_since_last_delinq', u'open_acc', u'pub_rec',\n",
       "       u'revol_bal', u'revol_util', u'total_acc', u'out_prncp',\n",
       "       u'out_prncp_inv', u'total_pymnt', u'total_pymnt_inv',\n",
       "       u'total_rec_prncp', u'total_rec_int', u'total_rec_late_fee',\n",
       "       u'recoveries', u'collection_recovery_fee', u'last_pymnt_amnt',\n",
       "       u'collections_12_mths_ex_med', u'acc_now_delinq', u'tot_coll_amt',\n",
       "       u'tot_cur_bal', u'total_rev_hi_lim', u'labels'],\n",
       "      dtype='object')"
      ]
     },
     "execution_count": 15,
     "metadata": {},
     "output_type": "execute_result"
    }
   ],
   "source": [
    "df_num.columns"
   ]
  },
  {
   "cell_type": "code",
   "execution_count": 16,
   "metadata": {
    "collapsed": false
   },
   "outputs": [],
   "source": [
    "feature_cols=list(df_num.columns)\n",
    "feature_cols.remove('labels')"
   ]
  },
  {
   "cell_type": "code",
   "execution_count": 17,
   "metadata": {
    "collapsed": true
   },
   "outputs": [],
   "source": [
    "labels=df['labels']"
   ]
  },
  {
   "cell_type": "code",
   "execution_count": 18,
   "metadata": {
    "collapsed": false
   },
   "outputs": [],
   "source": [
    "feature_cols=['emp_length','loan_amnt','int_rate','annual_inc','dti']"
   ]
  },
  {
   "cell_type": "code",
   "execution_count": 19,
   "metadata": {
    "collapsed": true
   },
   "outputs": [],
   "source": [
    "features=df_num[feature_cols]"
   ]
  },
  {
   "cell_type": "code",
   "execution_count": 20,
   "metadata": {
    "collapsed": true
   },
   "outputs": [],
   "source": [
    "features = scale(features)"
   ]
  },
  {
   "cell_type": "code",
   "execution_count": 21,
   "metadata": {
    "collapsed": true
   },
   "outputs": [],
   "source": [
    "def bench_k_means(estimator, name, data):\n",
    "    t0 = time()\n",
    "    estimator.fit(data)\n",
    "    print('% 9s   %.2fs    %i   %.3f   %.3f   %.3f   %.3f   %.3f    %.3f'\n",
    "          % (name, (time() - t0), estimator.inertia_,\n",
    "             metrics.homogeneity_score(labels, estimator.labels_),\n",
    "             metrics.completeness_score(labels, estimator.labels_),\n",
    "             metrics.v_measure_score(labels, estimator.labels_),\n",
    "             metrics.adjusted_rand_score(labels, estimator.labels_),\n",
    "             metrics.adjusted_mutual_info_score(labels,  estimator.labels_),\n",
    "             metrics.silhouette_score(data, estimator.labels_,\n",
    "                                      metric='euclidean',\n",
    "                                      sample_size=300)))"
   ]
  },
  {
   "cell_type": "code",
   "execution_count": 22,
   "metadata": {
    "collapsed": false
   },
   "outputs": [],
   "source": [
    "#bench_k_means(KMeans(init='k-means++', n_clusters=7, n_init=10),name=\"k-means++\", data=features)\n",
    "\n",
    "#bench_k_means(KMeans(init='random', n_clusters=7, n_init=10),name=\"random\", data=features)"
   ]
  },
  {
   "cell_type": "code",
   "execution_count": 23,
   "metadata": {
    "collapsed": false
   },
   "outputs": [
    {
     "ename": "ValueError",
     "evalue": "Incorrect number of features. Got 2 features, expected 5",
     "output_type": "error",
     "traceback": [
      "\u001b[0;31m---------------------------------------------------------------------------\u001b[0m",
      "\u001b[0;31mValueError\u001b[0m                                Traceback (most recent call last)",
      "\u001b[0;32m<ipython-input-23-6323a65ce77d>\u001b[0m in \u001b[0;36m<module>\u001b[0;34m()\u001b[0m\n\u001b[1;32m     12\u001b[0m \u001b[0;34m\u001b[0m\u001b[0m\n\u001b[1;32m     13\u001b[0m \u001b[0;31m# Obtain labels for each point in mesh. Use last trained model.\u001b[0m\u001b[0;34m\u001b[0m\u001b[0;34m\u001b[0m\u001b[0m\n\u001b[0;32m---> 14\u001b[0;31m \u001b[0mZ\u001b[0m \u001b[0;34m=\u001b[0m \u001b[0mkmeans\u001b[0m\u001b[0;34m.\u001b[0m\u001b[0mpredict\u001b[0m\u001b[0;34m(\u001b[0m\u001b[0mnp\u001b[0m\u001b[0;34m.\u001b[0m\u001b[0mc_\u001b[0m\u001b[0;34m[\u001b[0m\u001b[0mxx\u001b[0m\u001b[0;34m.\u001b[0m\u001b[0mravel\u001b[0m\u001b[0;34m(\u001b[0m\u001b[0;34m)\u001b[0m\u001b[0;34m,\u001b[0m \u001b[0myy\u001b[0m\u001b[0;34m.\u001b[0m\u001b[0mravel\u001b[0m\u001b[0;34m(\u001b[0m\u001b[0;34m)\u001b[0m\u001b[0;34m]\u001b[0m\u001b[0;34m)\u001b[0m\u001b[0;34m\u001b[0m\u001b[0m\n\u001b[0m\u001b[1;32m     15\u001b[0m \u001b[0;34m\u001b[0m\u001b[0m\n\u001b[1;32m     16\u001b[0m \u001b[0;31m# Put the result into a color plot\u001b[0m\u001b[0;34m\u001b[0m\u001b[0;34m\u001b[0m\u001b[0m\n",
      "\u001b[0;32m/home/qwerty/.local/lib/python2.7/site-packages/sklearn/cluster/k_means_.pyc\u001b[0m in \u001b[0;36mpredict\u001b[0;34m(self, X)\u001b[0m\n\u001b[1;32m    887\u001b[0m         \u001b[0mcheck_is_fitted\u001b[0m\u001b[0;34m(\u001b[0m\u001b[0mself\u001b[0m\u001b[0;34m,\u001b[0m \u001b[0;34m'cluster_centers_'\u001b[0m\u001b[0;34m)\u001b[0m\u001b[0;34m\u001b[0m\u001b[0m\n\u001b[1;32m    888\u001b[0m \u001b[0;34m\u001b[0m\u001b[0m\n\u001b[0;32m--> 889\u001b[0;31m         \u001b[0mX\u001b[0m \u001b[0;34m=\u001b[0m \u001b[0mself\u001b[0m\u001b[0;34m.\u001b[0m\u001b[0m_check_test_data\u001b[0m\u001b[0;34m(\u001b[0m\u001b[0mX\u001b[0m\u001b[0;34m)\u001b[0m\u001b[0;34m\u001b[0m\u001b[0m\n\u001b[0m\u001b[1;32m    890\u001b[0m         \u001b[0mx_squared_norms\u001b[0m \u001b[0;34m=\u001b[0m \u001b[0mrow_norms\u001b[0m\u001b[0;34m(\u001b[0m\u001b[0mX\u001b[0m\u001b[0;34m,\u001b[0m \u001b[0msquared\u001b[0m\u001b[0;34m=\u001b[0m\u001b[0mTrue\u001b[0m\u001b[0;34m)\u001b[0m\u001b[0;34m\u001b[0m\u001b[0m\n\u001b[1;32m    891\u001b[0m         \u001b[0;32mreturn\u001b[0m \u001b[0m_labels_inertia\u001b[0m\u001b[0;34m(\u001b[0m\u001b[0mX\u001b[0m\u001b[0;34m,\u001b[0m \u001b[0mx_squared_norms\u001b[0m\u001b[0;34m,\u001b[0m \u001b[0mself\u001b[0m\u001b[0;34m.\u001b[0m\u001b[0mcluster_centers_\u001b[0m\u001b[0;34m)\u001b[0m\u001b[0;34m[\u001b[0m\u001b[0;36m0\u001b[0m\u001b[0;34m]\u001b[0m\u001b[0;34m\u001b[0m\u001b[0m\n",
      "\u001b[0;32m/home/qwerty/.local/lib/python2.7/site-packages/sklearn/cluster/k_means_.pyc\u001b[0m in \u001b[0;36m_check_test_data\u001b[0;34m(self, X)\u001b[0m\n\u001b[1;32m    798\u001b[0m             raise ValueError(\"Incorrect number of features. \"\n\u001b[1;32m    799\u001b[0m                              \"Got %d features, expected %d\" % (\n\u001b[0;32m--> 800\u001b[0;31m                                  n_features, expected_n_features))\n\u001b[0m\u001b[1;32m    801\u001b[0m \u001b[0;34m\u001b[0m\u001b[0m\n\u001b[1;32m    802\u001b[0m         \u001b[0;32mreturn\u001b[0m \u001b[0mX\u001b[0m\u001b[0;34m\u001b[0m\u001b[0m\n",
      "\u001b[0;31mValueError\u001b[0m: Incorrect number of features. Got 2 features, expected 5"
     ]
    }
   ],
   "source": [
    "reduced_features = PCA(n_components=5).fit_transform(features)\n",
    "kmeans = KMeans(init='k-means++', n_clusters=7, n_init=10)\n",
    "kmeans.fit(reduced_features)\n",
    "\n",
    "# Step size of the mesh. Decrease to increase the quality of the VQ.\n",
    "h = .02     # point in the mesh [x_min, x_max]x[y_min, y_max].\n",
    "\n",
    "# Plot the decision boundary. For that, we will assign a color to each\n",
    "x_min, x_max = reduced_features[:, 0].min() - 1, reduced_features[:, 0].max() + 1\n",
    "y_min, y_max = reduced_features[:, 1].min() - 1, reduced_features[:, 1].max() + 1\n",
    "xx, yy = np.meshgrid(np.arange(x_min, x_max, h), np.arange(y_min, y_max, h))\n",
    "\n",
    "# Obtain labels for each point in mesh. Use last trained model.\n",
    "Z = kmeans.predict(np.c_[xx.ravel(), yy.ravel()])\n",
    "\n",
    "# Put the result into a color plot\n",
    "Z = Z.reshape(xx.shape)\n",
    "plt.figure(1)\n",
    "plt.clf()\n",
    "plt.imshow(Z, interpolation='nearest',\n",
    "           extent=(xx.min(), xx.max(), yy.min(), yy.max()),\n",
    "           cmap=plt.cm.Paired,\n",
    "           aspect='auto', origin='lower')\n",
    "\n",
    "plt.plot(reduced_features[:, 0], reduced_features[:, 1], 'k.', markersize=2)\n",
    "# Plot the centroids as a white X\n",
    "centroids = kmeans.cluster_centers_\n",
    "plt.scatter(centroids[:, 0], centroids[:, 1],\n",
    "            marker='x', s=169, linewidths=3,\n",
    "            color='w', zorder=10)\n",
    "plt.title('K-means clustering on the digits dataset (PCA-reduced data)\\n'\n",
    "          'Centroids are marked with white cross')\n",
    "plt.xlim(x_min, x_max)\n",
    "plt.ylim(y_min, y_max)\n",
    "plt.xticks(())\n",
    "plt.yticks(())\n",
    "plt.show()"
   ]
  },
  {
   "cell_type": "code",
   "execution_count": null,
   "metadata": {
    "collapsed": true
   },
   "outputs": [],
   "source": [
    "clusterer=KMeans(n_clusters=10,init='k-means++')\n",
    "clusterer.fit(features)\n",
    "cluster_ids=clusterer.labels_"
   ]
  },
  {
   "cell_type": "code",
   "execution_count": null,
   "metadata": {
    "collapsed": false
   },
   "outputs": [],
   "source": [
    "df_num['cluster_id']=cluster_ids"
   ]
  },
  {
   "cell_type": "code",
   "execution_count": null,
   "metadata": {
    "collapsed": false
   },
   "outputs": [],
   "source": [
    "l=sorted(df_num['cluster_id'].unique())"
   ]
  },
  {
   "cell_type": "code",
   "execution_count": null,
   "metadata": {
    "collapsed": false
   },
   "outputs": [],
   "source": [
    "for i in l:\n",
    "    tmp=df_num[df_num['cluster_id']==i]\n",
    "    print \"cluster_id:\"+str(i),\"#good loan:\"+str(sum(tmp['labels']==1)),\"#bad loan:\"+str(sum(tmp['labels']==0))"
   ]
  },
  {
   "cell_type": "code",
   "execution_count": null,
   "metadata": {
    "collapsed": true
   },
   "outputs": [],
   "source": []
  }
 ],
 "metadata": {
  "kernelspec": {
   "display_name": "Python 2",
   "language": "python",
   "name": "python2"
  },
  "language_info": {
   "codemirror_mode": {
    "name": "ipython",
    "version": 2
   },
   "file_extension": ".py",
   "mimetype": "text/x-python",
   "name": "python",
   "nbconvert_exporter": "python",
   "pygments_lexer": "ipython2",
   "version": "2.7.10"
  }
 },
 "nbformat": 4,
 "nbformat_minor": 1
}
