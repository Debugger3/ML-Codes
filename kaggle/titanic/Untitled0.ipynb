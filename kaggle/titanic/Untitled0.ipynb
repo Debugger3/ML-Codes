{
 "metadata": {
  "name": "",
  "signature": "sha256:c67bc41c079211e386968ebf160ecfe53f00dd0e4eccf3de1fc02662e2297c64"
 },
 "nbformat": 3,
 "nbformat_minor": 0,
 "worksheets": [
  {
   "cells": [
    {
     "cell_type": "code",
     "collapsed": false,
     "input": [
      "import pandas as pd\n",
      "import numpy as np"
     ],
     "language": "python",
     "metadata": {},
     "outputs": [],
     "prompt_number": 15
    },
    {
     "cell_type": "code",
     "collapsed": false,
     "input": [
      "df_train=pd.read_csv(\"train.csv\")\n",
      "df_test=pd.read_csv(\"test.csv\")\n"
     ],
     "language": "python",
     "metadata": {},
     "outputs": [],
     "prompt_number": 110
    },
    {
     "cell_type": "code",
     "collapsed": false,
     "input": [
      "print \"unsurvived \",(len(df_train)-len(df_train[df_train['Survived']==1]))/float(len(df_train))\n",
      "#checking balance it is ok becoz 60 - 40 %\n",
      "#if ratio is not good we make dem equal.. take smallest one..and sample other using that much size sample"
     ],
     "language": "python",
     "metadata": {},
     "outputs": [
      {
       "output_type": "stream",
       "stream": "stdout",
       "text": [
        "unsurvived  0.616161616162\n"
       ]
      }
     ],
     "prompt_number": 48
    },
    {
     "cell_type": "code",
     "collapsed": false,
     "input": [
      "df_train.columns"
     ],
     "language": "python",
     "metadata": {},
     "outputs": [
      {
       "metadata": {},
       "output_type": "pyout",
       "prompt_number": 18,
       "text": [
        "Index([u'PassengerId', u'Survived', u'Pclass', u'Name', u'Sex', u'Age',\n",
        "       u'SibSp', u'Parch', u'Ticket', u'Fare', u'Cabin', u'Embarked'],\n",
        "      dtype='object')"
       ]
      }
     ],
     "prompt_number": 18
    },
    {
     "cell_type": "code",
     "collapsed": false,
     "input": [
      "#checking for incomplete cells\n",
      "for col in df_train.columns:\n",
      "    print col,sum(df_train[col].isnull())\n"
     ],
     "language": "python",
     "metadata": {},
     "outputs": [
      {
       "output_type": "stream",
       "stream": "stdout",
       "text": [
        "PassengerId 0\n",
        "Survived 0\n",
        "Pclass 0\n",
        "Name 0\n",
        "Sex 0\n",
        "Age 177\n",
        "SibSp 0\n",
        "Parch 0\n",
        "Ticket 0\n",
        "Fare 0\n",
        "Cabin 0\n",
        "Embarked "
       ]
      },
      {
       "output_type": "stream",
       "stream": "stdout",
       "text": [
        "0\n"
       ]
      }
     ],
     "prompt_number": 67
    },
    {
     "cell_type": "code",
     "collapsed": false,
     "input": [
      "categorical_inc=['Embarked'] #have NA\n",
      "#categorical_inc=['Embarked'] #have NA\n",
      "for cat in categorical_inc:\n",
      "    mode=df_train[cat].value_counts().idxmax()\n",
      "    df_train[cat]=df_train[cat].fillna(mode)  \n",
      "    df_test[cat]=df_test[cat].fillna(mode)  \n",
      "    #print mode  \n",
      "#cabin is imp we have to take 1 alphabet from cabin \n",
      "\n",
      "for col in df_train.columns:\n",
      "    print col,sum(df_train[col].isnull())"
     ],
     "language": "python",
     "metadata": {},
     "outputs": [
      {
       "output_type": "stream",
       "stream": "stdout",
       "text": [
        "PassengerId 0\n",
        "Survived 0\n",
        "Pclass 0\n",
        "Name 0\n",
        "Sex 0\n",
        "Age 177\n",
        "SibSp 0\n",
        "Parch 0\n",
        "Ticket 0\n",
        "Fare 0\n",
        "Cabin 687\n",
        "Embarked 0\n"
       ]
      }
     ],
     "prompt_number": 111
    },
    {
     "cell_type": "code",
     "collapsed": false,
     "input": [
      "#age is numerical : fill with meidan\n",
      "#median_age=np.median(df_train['Age'])\n",
      "df_train['Age']=df_train['Age'].fillna(df_train['Age'].median())   \n",
      "df_test['Age']=df_test['Age'].fillna(df_train['Age'].median())   \n",
      "df_train['Fare']=df_train['Fare'].fillna(df_train['Fare'].median())   \n",
      "df_test['Fare']=df_test['Fare'].fillna(df_train['Fare'].median())   "
     ],
     "language": "python",
     "metadata": {},
     "outputs": [],
     "prompt_number": 112
    },
    {
     "cell_type": "code",
     "collapsed": false,
     "input": [
      "df_train['Cabin'].unique()"
     ],
     "language": "python",
     "metadata": {},
     "outputs": [
      {
       "metadata": {},
       "output_type": "pyout",
       "prompt_number": 105,
       "text": [
        "array([nan, 'C85', 'C123', 'E46', 'G6', 'C103', 'D56', 'A6', 'C23 C25 C27',\n",
        "       'B78', 'D33', 'B30', 'C52', 'B28', 'C83', 'F33', 'F G73', 'E31',\n",
        "       'A5', 'D10 D12', 'D26', 'C110', 'B58 B60', 'E101', 'F E69', 'D47',\n",
        "       'B86', 'F2', 'C2', 'E33', 'B19', 'A7', 'C49', 'F4', 'A32', 'B4',\n",
        "       'B80', 'A31', 'D36', 'D15', 'C93', 'C78', 'D35', 'C87', 'B77',\n",
        "       'E67', 'B94', 'C125', 'C99', 'C118', 'D7', 'A19', 'B49', 'D',\n",
        "       'C22 C26', 'C106', 'C65', 'E36', 'C54', 'B57 B59 B63 B66', 'C7',\n",
        "       'E34', 'C32', 'B18', 'C124', 'C91', 'E40', 'T', 'C128', 'D37',\n",
        "       'B35', 'E50', 'C82', 'B96 B98', 'E10', 'E44', 'A34', 'C104', 'C111',\n",
        "       'C92', 'E38', 'D21', 'E12', 'E63', 'A14', 'B37', 'C30', 'D20',\n",
        "       'B79', 'E25', 'D46', 'B73', 'C95', 'B38', 'B39', 'B22', 'C86',\n",
        "       'C70', 'A16', 'C101', 'C68', 'A10', 'E68', 'B41', 'A20', 'D19',\n",
        "       'D50', 'D9', 'A23', 'B50', 'A26', 'D48', 'E58', 'C126', 'B71',\n",
        "       'B51 B53 B55', 'D49', 'B5', 'B20', 'F G63', 'C62 C64', 'E24', 'C90',\n",
        "       'C45', 'E8', 'B101', 'D45', 'C46', 'D30', 'E121', 'D11', 'E77',\n",
        "       'F38', 'B3', 'D6', 'B82 B84', 'D17', 'A36', 'B102', 'B69', 'E49',\n",
        "       'C47', 'D28', 'E17', 'A24', 'C50', 'B42', 'C148'], dtype=object)"
       ]
      }
     ],
     "prompt_number": 105
    },
    {
     "cell_type": "code",
     "collapsed": false,
     "input": [
      "df_train['Cabin']=df_train['Cabin'].fillna(\"#\")\n",
      "df_test['Cabin']=df_test['Cabin'].fillna(\"#\")"
     ],
     "language": "python",
     "metadata": {},
     "outputs": [],
     "prompt_number": 113
    },
    {
     "cell_type": "code",
     "collapsed": false,
     "input": [
      "\n",
      "#now data is clean\n",
      "train_cabin=[]\n",
      "test_cabin=[]\n",
      "#print df_train.iterrows()\n",
      "for i,row in df_train.iterrows():\n",
      "    if(row['Cabin']!='#'):\n",
      "        train_cabin.append(row['Cabin'][0])\n",
      "    else:\n",
      "        train_cabin.append('#')\n",
      "for i,row in df_test.iterrows():\n",
      "    if(row['Cabin']!='#'):\n",
      "        test_cabin.append(row['Cabin'][0])\n",
      "    else:\n",
      "        test_cabin.append('#')\n",
      "df_train['Cabin']=train_cabin\n",
      "df_test['Cabin']=test_cabin"
     ],
     "language": "python",
     "metadata": {},
     "outputs": [],
     "prompt_number": 114
    },
    {
     "cell_type": "code",
     "collapsed": false,
     "input": [
      "print sum([x=='#' for x in train_cabin ])\n",
      "print len(train_cabin)\n",
      "ss=set(train_cabin)"
     ],
     "language": "python",
     "metadata": {},
     "outputs": [
      {
       "output_type": "stream",
       "stream": "stdout",
       "text": [
        "687\n",
        "891\n"
       ]
      }
     ],
     "prompt_number": 58
    },
    {
     "cell_type": "code",
     "collapsed": false,
     "input": [
      "for val in ss:\n",
      "    print val,sum([x==val for x in train_cabin ])"
     ],
     "language": "python",
     "metadata": {},
     "outputs": [
      {
       "output_type": "stream",
       "stream": "stdout",
       "text": [
        "A 15\n",
        "# 687\n",
        "B 47\n",
        "E 32\n",
        "D 33\n",
        "G 4\n",
        "F 13\n",
        "C 59\n",
        "T 1\n"
       ]
      }
     ],
     "prompt_number": 59
    },
    {
     "cell_type": "code",
     "collapsed": false,
     "input": [
      "'''for row in train_cabin:\n",
      "    if(row!='#'):\n",
      "        df_train['Cabin']=row\n",
      "    else:    \n",
      "        df_train['Cabin']='C'\n",
      "for row in test_cabin:\n",
      "    if(row!='#'):\n",
      "        df_test['Cabin']=row\n",
      "    else:    \n",
      "        df_test['Cabin']='C'\n",
      "        '''"
     ],
     "language": "python",
     "metadata": {},
     "outputs": [],
     "prompt_number": 60
    },
    {
     "cell_type": "code",
     "collapsed": false,
     "input": [],
     "language": "python",
     "metadata": {},
     "outputs": [],
     "prompt_number": 59
    },
    {
     "cell_type": "code",
     "collapsed": false,
     "input": [],
     "language": "python",
     "metadata": {},
     "outputs": [],
     "prompt_number": 59
    },
    {
     "cell_type": "code",
     "collapsed": false,
     "input": [
      "#since scikit learn classifier need numerical features ..we need label encoding for categorial\n",
      "#categorical_feature=['Sex','Embraked']\n",
      "#will do label encoding for that have to append test data also.\n",
      "target=['Survived']\n",
      "l=df_train['Cabin']\n",
      "l.append(df_test['Cabin'])\n",
      "from sklearn import preprocessing\n",
      "le = preprocessing.LabelEncoder()\n",
      "le.fit(l)\n",
      "df_train['Cabin']=le.transform(df_train['Cabin'])\n",
      "df_test['Cabin']=le.transform(df_test['Cabin'])\n",
      "l=[]\n",
      "embarked=[]\n",
      "for i,row in df_train.iterrows():\n",
      "    l.append(row['Sex'])\n",
      "    embarked.append(row['Embarked'])\n",
      "for i,row in df_test.iterrows():\n",
      "    l.append(row['Sex'])    \n",
      "    embarked.append(row['Embarked'])\n",
      "le.fit(l)\n",
      "df_train['Sex']=le.transform(df_train['Sex'])\n",
      "df_test['Sex']=le.transform(df_test['Sex'])\n",
      "\n",
      "le.fit(embarked)\n",
      "df_train['Embarked']=le.transform(df_train['Embarked'])\n",
      "df_test['Embarked']=le.transform(df_test['Embarked'])"
     ],
     "language": "python",
     "metadata": {},
     "outputs": [],
     "prompt_number": 115
    },
    {
     "cell_type": "code",
     "collapsed": false,
     "input": [
      "#get label encoder from scikit learn\n",
      "#use fit ... provide test and train\n",
      "#use transform for both--->new columns in test and train\n",
      "#print \"trianing \",df_train[feature_need]\n",
      "#print \"Tetsing -->\",df_test[feature_need]\n",
      "\n",
      "\n",
      "import matplotlib.pyplot as plt\n",
      "%matplotlib inline\n",
      "df=pd.read_csv(\"train.csv\")\n",
      "fig = plt.figure(figsize=(18,4), dpi=1600)\n",
      "alpha_level = 0.65\n",
      "# building on the previous code, here we create an additional subset with in the gender subset \n",
      "# we created for the survived variable. I know, thats a lot of subsets. After we do that we call \n",
      "# value_counts() so it it can be easily plotted as a bar graph. this is repeated for each gender \n",
      "# class pair.\n",
      "ax1=fig.add_subplot(141)\n",
      "female_highclass = df.Survived[df.Sex == 'female'][df.Pclass != 3].value_counts()\n",
      "female_highclass.plot(kind='bar', label='female, highclass', color='#FA2479', alpha=alpha_level)\n",
      "ax1.set_xticklabels([\"Survived\", \"Died\"], rotation=0)\n",
      "ax1.set_xlim(-1, len(female_highclass))\n",
      "plt.title(\"Who Survived? with respect to Gender and Class\"); plt.legend(loc='best')\n",
      "\n",
      "ax2=fig.add_subplot(142, sharey=ax1)\n",
      "female_lowclass = df.Survived[df.Sex == 'female'][df.Pclass == 3].value_counts()\n",
      "female_lowclass.plot(kind='bar', label='female, low class', color='pink', alpha=alpha_level)\n",
      "ax2.set_xticklabels([\"Died\",\"Survived\"], rotation=0)\n",
      "ax2.set_xlim(-1, len(female_lowclass))\n",
      "plt.legend(loc='best')\n",
      "\n",
      "ax3=fig.add_subplot(143, sharey=ax1)\n",
      "male_lowclass = df.Survived[df.Sex == 'male'][df.Pclass == 3].value_counts()\n",
      "male_lowclass.plot(kind='bar', label='male, low class',color='lightblue', alpha=alpha_level)\n",
      "ax3.set_xticklabels([\"Died\",\"Survived\"], rotation=0)\n",
      "ax3.set_xlim(-1, len(male_lowclass))\n",
      "plt.legend(loc='best')\n",
      "\n",
      "ax4=fig.add_subplot(144, sharey=ax1)\n",
      "male_highclass = df.Survived[df.Sex == 'male'][df.Pclass != 3].value_counts()\n",
      "male_highclass.plot(kind='bar', label='male, highclass', alpha=alpha_level, color='steelblue')\n",
      "ax4.set_xticklabels([\"Died\",\"Survived\"], rotation=0)\n",
      "ax4.set_xlim(-1, len(male_highclass))\n",
      "plt.legend(loc='best')\n",
      "\n",
      "\n"
     ],
     "language": "python",
     "metadata": {},
     "outputs": [
      {
       "metadata": {},
       "output_type": "pyout",
       "prompt_number": 116,
       "text": [
        "<matplotlib.legend.Legend at 0x7fbdc1f0f0d0>"
       ]
      },
      {
       "metadata": {},
       "output_type": "display_data",
       "png": "[encoded data removed]",
       "text": [
        "<matplotlib.figure.Figure at 0x7fbdd022ab10>"
       ]
      }
     ],
     "prompt_number": 116
    },
    {
     "cell_type": "code",
     "collapsed": false,
     "input": [
      "# we are for training model\n",
      "from sklearn import linear_model\n",
      "from sklearn.ensemble import RandomForestClassifier\n",
      "feature_need=['Pclass','Sex','Age','Fare',#'Parch',\n",
      "              'Cabin','Embarked']\n",
      "#model= linear_model.Perceptron(fit_intercept=False, n_iter=100, shuffle=False)\n",
      "model=linear_model.LogisticRegression(C=1e5)\n",
      "#model=RandomForestClassifier(n_estimators=2)\n",
      "model.fit(df_train[feature_need], df_train[target])\n",
      "#print df_test[feature_need]\n",
      "\n",
      "predictions= model.predict(df_test[feature_need])\n",
      "\n",
      "#since we have lot of categorical inputs ---->use non-distance based classifier\n",
      "\n",
      "#see training accuracy\n",
      "\n",
      "#try xgboost \n",
      "#try seaborn for plotting"
     ],
     "language": "python",
     "metadata": {},
     "outputs": [
      {
       "output_type": "stream",
       "stream": "stderr",
       "text": [
        "/usr/local/lib/python2.7/dist-packages/sklearn/utils/validation.py:515: DataConversionWarning: A column-vector y was passed when a 1d array was expected. Please change the shape of y to (n_samples, ), for example using ravel().\n",
        "  y = column_or_1d(y, warn=True)\n"
       ]
      }
     ],
     "prompt_number": 129
    },
    {
     "cell_type": "code",
     "collapsed": false,
     "input": [
      "predictions_train= model.predict(df_train[feature_need])\n",
      "#print target\n",
      "#print sum(df_train[target].isnull())\n",
      "print \"error  \",sum(df_train['Survived']!=predictions_train)/float(len(df_train))"
     ],
     "language": "python",
     "metadata": {},
     "outputs": [
      {
       "output_type": "stream",
       "stream": "stdout",
       "text": [
        "error   0.204264870932\n"
       ]
      }
     ],
     "prompt_number": 130
    },
    {
     "cell_type": "code",
     "collapsed": false,
     "input": [
      "import pandas as pd\n",
      "submission = pd.DataFrame({\n",
      "        \"PassengerId\": df_test[\"PassengerId\"],\n",
      "        \"Survived\": predictions\n",
      "    })\n",
      "submission.to_csv(\"submission.csv\", index=False)"
     ],
     "language": "python",
     "metadata": {},
     "outputs": [],
     "prompt_number": 131
    },
    {
     "cell_type": "code",
     "collapsed": false,
     "input": [],
     "language": "python",
     "metadata": {},
     "outputs": []
    },
    {
     "cell_type": "code",
     "collapsed": false,
     "input": [],
     "language": "python",
     "metadata": {},
     "outputs": []
    }
   ],
   "metadata": {}
  }
 ]
}