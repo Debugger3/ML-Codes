{
 "cells": [
  {
   "cell_type": "code",
   "execution_count": 1,
   "metadata": {
    "collapsed": true
   },
   "outputs": [],
   "source": [
    "import pandas as pd\n",
    "import numpy as np\n",
    "import os"
   ]
  },
  {
   "cell_type": "code",
   "execution_count": 2,
   "metadata": {
    "collapsed": true
   },
   "outputs": [],
   "source": [
    "titanic_train=pd.read_csv('train.csv')\n",
    "titanic_test=pd.read_csv('test.csv')"
   ]
  },
  {
   "cell_type": "code",
   "execution_count": 3,
   "metadata": {
    "collapsed": false
   },
   "outputs": [
    {
     "name": "stdout",
     "output_type": "stream",
     "text": [
      "       PassengerId    Survived      Pclass         Age       SibSp  \\\n",
      "count   891.000000  891.000000  891.000000  714.000000  891.000000   \n",
      "mean    446.000000    0.383838    2.308642   29.699118    0.523008   \n",
      "std     257.353842    0.486592    0.836071   14.526497    1.102743   \n",
      "min       1.000000    0.000000    1.000000    0.420000    0.000000   \n",
      "25%     223.500000    0.000000    2.000000   20.125000    0.000000   \n",
      "50%     446.000000    0.000000    3.000000   28.000000    0.000000   \n",
      "75%     668.500000    1.000000    3.000000   38.000000    1.000000   \n",
      "max     891.000000    1.000000    3.000000   80.000000    8.000000   \n",
      "\n",
      "            Parch        Fare  \n",
      "count  891.000000  891.000000  \n",
      "mean     0.381594   32.204208  \n",
      "std      0.806057   49.693429  \n",
      "min      0.000000    0.000000  \n",
      "25%      0.000000    7.910400  \n",
      "50%      0.000000   14.454200  \n",
      "75%      0.000000   31.000000  \n",
      "max      6.000000  512.329200  \n",
      "       PassengerId      Pclass         Age       SibSp       Parch        Fare\n",
      "count   418.000000  418.000000  332.000000  418.000000  418.000000  417.000000\n",
      "mean   1100.500000    2.265550   30.272590    0.447368    0.392344   35.627188\n",
      "std     120.810458    0.841838   14.181209    0.896760    0.981429   55.907576\n",
      "min     892.000000    1.000000    0.170000    0.000000    0.000000    0.000000\n",
      "25%     996.250000    1.000000   21.000000    0.000000    0.000000    7.895800\n",
      "50%    1100.500000    3.000000   27.000000    0.000000    0.000000   14.454200\n",
      "75%    1204.750000    3.000000   39.000000    1.000000    0.000000   31.500000\n",
      "max    1309.000000    3.000000   76.000000    8.000000    9.000000  512.329200\n"
     ]
    }
   ],
   "source": [
    "print titanic_train.describe()#only shows numeric columns\n",
    "print titanic_test.describe()\n",
    "#print desc.columns.values\n",
    "#print titanic_train.columns.\n",
    "features=list(titanic_train.columns)"
   ]
  },
  {
   "cell_type": "code",
   "execution_count": 4,
   "metadata": {
    "collapsed": false
   },
   "outputs": [
    {
     "data": {
      "text/plain": [
       "\"print len(titanic_train.loc[titanic_train['Survived']==1])\\nprint len(titanic_train.loc[titanic_train['Survived']==0])\\nprint len(titanic_train)\\n\\n\\n# In[4]:\\n\\ntitanic_train_survived=titanic_train.loc[titanic_train['Survived']==1]\\ntitanic_train_died=titanic_train.loc[titanic_train['Survived']==0]\\npercentage = len(titanic_train_survived)/float(len(titanic_train_died))\\n\\ntitanic_train_died=titanic_train_died.sample(frac=percentage)\\ntitanic_train=titanic_train_survived.append(titanic_train_died)\\ntitanic_train=titanic_train.reindex(np.random.permutation(titanic_train.index))\\n\\n\\n# In[5]:\\n\\nprint len(titanic_train.loc[titanic_train['Survived']==1])\\nprint len(titanic_train.loc[titanic_train['Survived']==0])\\nprint len(titanic_train)\""
      ]
     },
     "execution_count": 4,
     "metadata": {},
     "output_type": "execute_result"
    }
   ],
   "source": [
    "\"\"\"print len(titanic_train.loc[titanic_train['Survived']==1])\n",
    "print len(titanic_train.loc[titanic_train['Survived']==0])\n",
    "print len(titanic_train)\n",
    "\n",
    "\n",
    "# In[4]:\n",
    "\n",
    "titanic_train_survived=titanic_train.loc[titanic_train['Survived']==1]\n",
    "titanic_train_died=titanic_train.loc[titanic_train['Survived']==0]\n",
    "percentage = len(titanic_train_survived)/float(len(titanic_train_died))\n",
    "\n",
    "titanic_train_died=titanic_train_died.sample(frac=percentage)\n",
    "titanic_train=titanic_train_survived.append(titanic_train_died)\n",
    "titanic_train=titanic_train.reindex(np.random.permutation(titanic_train.index))\n",
    "\n",
    "\n",
    "# In[5]:\n",
    "\n",
    "print len(titanic_train.loc[titanic_train['Survived']==1])\n",
    "print len(titanic_train.loc[titanic_train['Survived']==0])\n",
    "print len(titanic_train)\"\"\""
   ]
  },
  {
   "cell_type": "code",
   "execution_count": 5,
   "metadata": {
    "collapsed": false
   },
   "outputs": [],
   "source": [
    "features.remove('Survived')\n",
    "#features"
   ]
  },
  {
   "cell_type": "code",
   "execution_count": 6,
   "metadata": {
    "collapsed": false
   },
   "outputs": [
    {
     "data": {
      "text/plain": [
       "'for col in incomplete_columns:\\n    titanic_train[col]=titanic_train[col].fillna(titanic_train[col].median())'"
      ]
     },
     "execution_count": 6,
     "metadata": {},
     "output_type": "execute_result"
    }
   ],
   "source": [
    "\"\"\"for col in incomplete_columns:\n",
    "    titanic_train[col]=titanic_train[col].fillna(titanic_train[col].median())\"\"\""
   ]
  },
  {
   "cell_type": "code",
   "execution_count": 7,
   "metadata": {
    "collapsed": false
   },
   "outputs": [],
   "source": [
    "dtrain={}\n",
    "dtest={}\n",
    "for col in features:\n",
    "    dtrain[col]=titanic_train[col].value_counts().index[0]\n",
    "    dtest[col]=titanic_test[col].value_counts().index[0]\n",
    "    \n",
    "for col in features:\n",
    "    titanic_train[col]=titanic_train[col].fillna(dtrain[col])\n",
    "    titanic_test[col]=titanic_test[col].fillna(dtest[col])\n"
   ]
  },
  {
   "cell_type": "code",
   "execution_count": 8,
   "metadata": {
    "collapsed": false
   },
   "outputs": [],
   "source": [
    "titanic_train['Sex_num']=titanic_train['Sex'].apply(lambda sex:0 if sex=='male' else 1)\n",
    "titanic_test['Sex_num']=titanic_test['Sex'].apply(lambda sex:0 if sex=='male' else 1)"
   ]
  },
  {
   "cell_type": "code",
   "execution_count": 9,
   "metadata": {
    "collapsed": false
   },
   "outputs": [],
   "source": [
    "titanic_train['Embarked_num']=titanic_train['Embarked'].apply(lambda sex:0 if sex=='S' else (1 if sex=='C' else 2))\n",
    "titanic_test['Embarked_num']=titanic_test['Embarked'].apply(lambda sex:0 if sex=='S' else (1 if sex=='C' else 2))"
   ]
  },
  {
   "cell_type": "code",
   "execution_count": 10,
   "metadata": {
    "collapsed": false
   },
   "outputs": [],
   "source": [
    "features=['Pclass','Age','SibSp','Parch','Fare','Sex_num','Embarked_num']"
   ]
  },
  {
   "cell_type": "code",
   "execution_count": 11,
   "metadata": {
    "collapsed": true
   },
   "outputs": [],
   "source": [
    "from sklearn.linear_model import LogisticRegression\n",
    "from sklearn.ensemble import ExtraTreesClassifier\n",
    "from sklearn.ensemble import BaggingClassifier\n",
    "from sklearn.ensemble import RandomForestClassifier\n",
    "from sklearn.svm import SVC\n",
    "\n",
    "from sklearn.svm import NuSVC\n",
    "\n",
    "from sklearn.ensemble import GradientBoostingClassifier\n",
    "from sklearn.ensemble import AdaBoostClassifier\n",
    "from sklearn.ensemble import VotingClassifier\n",
    "\n",
    "from sklearn.tree import DecisionTreeClassifier"
   ]
  },
  {
   "cell_type": "code",
   "execution_count": 12,
   "metadata": {
    "collapsed": false
   },
   "outputs": [],
   "source": [
    "\n",
    "#model=ExtraTreesClassifier(n_estimators=100)\n",
    "#model=RandomForestClassifier(n_estimators=150)\n",
    "#model=BaggingClassifier(base_estimator=RandomForestClassifier(),n_estimators=50)\n",
    "\n",
    "#model=VotingClassifier(estimators=[('ad',AdaBoostClassifier(base_estimator=RandomForestClassifier(),n_estimators=100)),('rf', RandomForestClassifier(n_estimators=150)), ('et', ExtraTreesClassifier(n_estimators=150)), \n",
    "#                                   ('bg', BaggingClassifier(n_estimators=150)),('lg', LogisticRegression()),('gbc',GradientBoostingClassifier(n_estimators=100))], voting='hard')\n",
    "#model=GradientBoostingClassifier(n_estimators=150)\n",
    "#model=AdaBoostClassifier(base_estimator=RandomForestClassifier(),n_estimators=15)\n",
    "#model=SVC()\n",
    "model=NuSVC()\n",
    "#model=DecisionTreeClassifier()"
   ]
  },
  {
   "cell_type": "code",
   "execution_count": 13,
   "metadata": {
    "collapsed": false
   },
   "outputs": [
    {
     "data": {
      "text/plain": [
       "NuSVC(cache_size=200, class_weight=None, coef0=0.0,\n",
       "   decision_function_shape=None, degree=3, gamma='auto', kernel='rbf',\n",
       "   max_iter=-1, nu=0.5, probability=False, random_state=None,\n",
       "   shrinking=True, tol=0.001, verbose=False)"
      ]
     },
     "execution_count": 13,
     "metadata": {},
     "output_type": "execute_result"
    }
   ],
   "source": [
    "model.fit(titanic_train[features],titanic_train['Survived'])"
   ]
  },
  {
   "cell_type": "code",
   "execution_count": 14,
   "metadata": {
    "collapsed": false
   },
   "outputs": [],
   "source": [
    "predictions=model.predict(titanic_test[features])"
   ]
  },
  {
   "cell_type": "code",
   "execution_count": 15,
   "metadata": {
    "collapsed": false
   },
   "outputs": [],
   "source": [
    "titanic_test['predictions']=predictions"
   ]
  },
  {
   "cell_type": "code",
   "execution_count": 16,
   "metadata": {
    "collapsed": false
   },
   "outputs": [],
   "source": [
    "submission = pd.DataFrame({\n",
    "        \"PassengerId\": titanic_test[\"PassengerId\"],\n",
    "        \"Survived\": predictions\n",
    "    })"
   ]
  },
  {
   "cell_type": "code",
   "execution_count": 17,
   "metadata": {
    "collapsed": true
   },
   "outputs": [],
   "source": [
    "os.remove(\"kaggle.csv\")"
   ]
  },
  {
   "cell_type": "code",
   "execution_count": 18,
   "metadata": {
    "collapsed": true
   },
   "outputs": [],
   "source": [
    "submission.to_csv(\"kaggle.csv\", index=False)"
   ]
  },
  {
   "cell_type": "code",
   "execution_count": null,
   "metadata": {
    "collapsed": true
   },
   "outputs": [],
   "source": []
  }
 ],
 "metadata": {
  "kernelspec": {
   "display_name": "Python 2",
   "language": "python",
   "name": "python2"
  },
  "language_info": {
   "codemirror_mode": {
    "name": "ipython",
    "version": 2
   },
   "file_extension": ".py",
   "mimetype": "text/x-python",
   "name": "python",
   "nbconvert_exporter": "python",
   "pygments_lexer": "ipython2",
   "version": "2.7.10"
  }
 },
 "nbformat": 4,
 "nbformat_minor": 0
}
