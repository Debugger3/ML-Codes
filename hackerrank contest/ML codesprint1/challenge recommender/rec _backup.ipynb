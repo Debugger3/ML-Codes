{
 "cells": [
  {
   "cell_type": "code",
   "execution_count": 1,
   "metadata": {
    "collapsed": true
   },
   "outputs": [],
   "source": [
    "import pandas as pd\n",
    "from random import shuffle\n",
    "import numpy as np\n",
    "import pickle"
   ]
  },
  {
   "cell_type": "code",
   "execution_count": 2,
   "metadata": {
    "collapsed": true
   },
   "outputs": [],
   "source": [
    "df_ch=pd.read_csv(\"challenges.csv\")\n",
    "df_sub=pd.read_csv(\"submissions.csv\")"
   ]
  },
  {
   "cell_type": "code",
   "execution_count": 3,
   "metadata": {
    "collapsed": false
   },
   "outputs": [
    {
     "name": "stdout",
     "output_type": "stream",
     "text": [
      "Index([u'challenge_id', u'contest_id', u'domain', u'subdomain', u'difficulty',\n",
      "       u'solved_submission_count', u'total_submissions_count'],\n",
      "      dtype='object')\n",
      "Index([u'hacker_id', u'contest_id', u'challenge_id', u'language', u'solved',\n",
      "       u'created_at'],\n",
      "      dtype='object')\n"
     ]
    }
   ],
   "source": [
    "print df_ch.columns\n",
    "print df_sub.columns"
   ]
  },
  {
   "cell_type": "code",
   "execution_count": 4,
   "metadata": {
    "collapsed": true
   },
   "outputs": [],
   "source": [
    "#(challenge_id,contest_id) is pk\n",
    "df = pd.merge(df_ch, df_sub, how='inner', on=['challenge_id', 'contest_id'])"
   ]
  },
  {
   "cell_type": "code",
   "execution_count": null,
   "metadata": {
    "collapsed": true
   },
   "outputs": [],
   "source": [
    "df=df.reindex(np.random.permutation(df.index))"
   ]
  },
  {
   "cell_type": "code",
   "execution_count": 5,
   "metadata": {
    "collapsed": false
   },
   "outputs": [
    {
     "name": "stdout",
     "output_type": "stream",
     "text": [
      "Index([u'challenge_id', u'contest_id', u'domain', u'subdomain', u'difficulty',\n",
      "       u'solved_submission_count', u'total_submissions_count', u'hacker_id',\n",
      "       u'language', u'solved', u'created_at'],\n",
      "      dtype='object')\n"
     ]
    }
   ],
   "source": [
    "print df.columns"
   ]
  },
  {
   "cell_type": "code",
   "execution_count": 6,
   "metadata": {
    "collapsed": false
   },
   "outputs": [],
   "source": [
    "cols=['challenge_id', 'contest_id', 'domain', 'subdomain', 'difficulty',\n",
    "       'solved_submission_count', 'total_submissions_count', 'hacker_id',\n",
    "       'language', 'solved', 'created_at']"
   ]
  },
  {
   "cell_type": "code",
   "execution_count": 7,
   "metadata": {
    "collapsed": false,
    "scrolled": true
   },
   "outputs": [],
   "source": [
    "for col in cols:\n",
    "    #df[col]=df[col].fillna(df[col].value_counts().index[0])\n",
    "    df[col]=df[col].fillna(method='ffill')\n",
    "    #print col,sum(df[col].isnull())"
   ]
  },
  {
   "cell_type": "code",
   "execution_count": 8,
   "metadata": {
    "collapsed": true
   },
   "outputs": [],
   "source": [
    "idxmap={}\n",
    "idx=0\n",
    "for col in df['subdomain'].unique():\n",
    "    idxmap[idx]=col\n",
    "    idx+=1"
   ]
  },
  {
   "cell_type": "code",
   "execution_count": 9,
   "metadata": {
    "collapsed": false
   },
   "outputs": [
    {
     "data": {
      "text/plain": [
       "\"sdf=df.groupby(['hacker_id','subdomain'])\\nsdf_desc=sdf['solved'].describe()\\nprint sdf_desc['00004cf8b853ad0d']['Bit Manipulation']['count']\""
      ]
     },
     "execution_count": 9,
     "metadata": {},
     "output_type": "execute_result"
    }
   ],
   "source": [
    "\"\"\"sdf=df.groupby(['hacker_id','subdomain'])\n",
    "sdf_desc=sdf['solved'].describe()\n",
    "print sdf_desc['00004cf8b853ad0d']['Bit Manipulation']['count']\"\"\""
   ]
  },
  {
   "cell_type": "code",
   "execution_count": 10,
   "metadata": {
    "collapsed": false
   },
   "outputs": [
    {
     "data": {
      "text/plain": [
       "\"hpref={}\\nfor hacker in df['hacker_id'].unique():\\n    if hacker not in hpref:\\n        hpref[hacker]=[0]*num_sub\\n    for sub in subdom:\\n        if 'count' in sdf_desc[hacker][sub]:\\n            hpref[hacker][idxmap[sub]]=sdf_desc[hacker][sub]['count']\""
      ]
     },
     "execution_count": 10,
     "metadata": {},
     "output_type": "execute_result"
    }
   ],
   "source": [
    "\"\"\"hpref={}\n",
    "for hacker in df['hacker_id'].unique():\n",
    "    if hacker not in hpref:\n",
    "        hpref[hacker]=[0]*num_sub\n",
    "    for sub in subdom:\n",
    "        if 'count' in sdf_desc[hacker][sub]:\n",
    "            hpref[hacker][idxmap[sub]]=sdf_desc[hacker][sub]['count']\"\"\""
   ]
  },
  {
   "cell_type": "code",
   "execution_count": 11,
   "metadata": {
    "collapsed": false
   },
   "outputs": [],
   "source": [
    "\n",
    "def save_object(obj, filename):\n",
    "    with open(filename, 'wb') as output:\n",
    "        pickle.dump(obj, output, pickle.HIGHEST_PROTOCOL)\n",
    "    return\n",
    "\n",
    "def load_object(filename):\n",
    "    with open(filename, 'rb') as input:\n",
    "        obj=pickle.load(input)\n",
    "    return obj"
   ]
  },
  {
   "cell_type": "code",
   "execution_count": 12,
   "metadata": {
    "collapsed": false
   },
   "outputs": [
    {
     "data": {
      "text/plain": [
       "'save_object(hpref,\"hpref.pkl\")\\nsave_object(sdf_desc,\"sdf_desc.pkl\")\\nsave_object(sdf,\"sdf.pkl\")'"
      ]
     },
     "execution_count": 12,
     "metadata": {},
     "output_type": "execute_result"
    }
   ],
   "source": [
    "\"\"\"save_object(hpref,\"hpref.pkl\")\n",
    "save_object(sdf_desc,\"sdf_desc.pkl\")\n",
    "save_object(sdf,\"sdf.pkl\")\"\"\""
   ]
  },
  {
   "cell_type": "code",
   "execution_count": 13,
   "metadata": {
    "collapsed": false
   },
   "outputs": [],
   "source": [
    "hpref=load_object(\"hpref.pkl\")\n",
    "sdf_desc=load_object(\"sdf_desc.pkl\")\n",
    "sdf=load_object(\"sdf.pkl\")"
   ]
  },
  {
   "cell_type": "code",
   "execution_count": 14,
   "metadata": {
    "collapsed": false
   },
   "outputs": [
    {
     "name": "stdout",
     "output_type": "stream",
     "text": [
      "Introduction\n"
     ]
    }
   ],
   "source": [
    "mode_sub_dom=df[\"subdomain\"].value_counts().index[0]\n",
    "print mode_sub_dom"
   ]
  },
  {
   "cell_type": "code",
   "execution_count": 16,
   "metadata": {
    "collapsed": false
   },
   "outputs": [
    {
     "name": "stderr",
     "output_type": "stream",
     "text": [
      "/usr/local/lib/python2.7/dist-packages/ipykernel/__main__.py:1: FutureWarning: sort(columns=....) is deprecated, use sort_values(by=.....)\n",
      "  if __name__ == '__main__':\n"
     ]
    }
   ],
   "source": [
    "df.sort(['solved_submission_count','total_submissions_count'], ascending=[False, False], inplace=True)"
   ]
  },
  {
   "cell_type": "code",
   "execution_count": 17,
   "metadata": {
    "collapsed": false
   },
   "outputs": [],
   "source": [
    "subdom={}\n",
    "for col in df['subdomain'].unique():\n",
    "    subdom[col]=df.loc[df['subdomain']==col]\n",
    "    "
   ]
  },
  {
   "cell_type": "code",
   "execution_count": 18,
   "metadata": {
    "collapsed": false
   },
   "outputs": [
    {
     "data": {
      "text/plain": [
       "\"hacker_solved={}\\n#hackers=df['hacker_id'].unique()\\nfor i,row in df.iterrows():\\n    if row['solved']==1:\\n        if row['hacker_id'] not in hacker_solved:\\n            hacker_solved[row['hacker_id']]=set()\\n        hacker_solved[row['hacker_id']].add(row['challenge_id'])\""
      ]
     },
     "execution_count": 18,
     "metadata": {},
     "output_type": "execute_result"
    }
   ],
   "source": [
    "\"\"\"hacker_solved={}\n",
    "#hackers=df['hacker_id'].unique()\n",
    "for i,row in df.iterrows():\n",
    "    if row['solved']==1:\n",
    "        if row['hacker_id'] not in hacker_solved:\n",
    "            hacker_solved[row['hacker_id']]=set()\n",
    "        hacker_solved[row['hacker_id']].add(row['challenge_id'])\"\"\""
   ]
  },
  {
   "cell_type": "code",
   "execution_count": 19,
   "metadata": {
    "collapsed": false
   },
   "outputs": [
    {
     "name": "stdout",
     "output_type": "stream",
     "text": [
      "9289\n"
     ]
    }
   ],
   "source": [
    "#save_object(hacker_solved,\"hacker_solved.pkl\")\n",
    "hacker_solved=load_object(\"hacker_solved.pkl\")\n",
    "print len(hacker_solved)"
   ]
  },
  {
   "cell_type": "code",
   "execution_count": 20,
   "metadata": {
    "collapsed": false
   },
   "outputs": [],
   "source": [
    "#print subdom['Dynamic Programming'].head()"
   ]
  },
  {
   "cell_type": "code",
   "execution_count": 21,
   "metadata": {
    "collapsed": false
   },
   "outputs": [
    {
     "name": "stdout",
     "output_type": "stream",
     "text": [
      "Sorting\n"
     ]
    }
   ],
   "source": [
    "l=hpref[\"00004cf8b853ad0d\"]\n",
    "print idxmap[l.index(max(l))] #sorting"
   ]
  },
  {
   "cell_type": "code",
   "execution_count": 22,
   "metadata": {
    "collapsed": false
   },
   "outputs": [
    {
     "name": "stdout",
     "output_type": "stream",
     "text": [
      "user 9999:cd48fcb1f422ead5\n"
     ]
    }
   ],
   "source": [
    "#to do : before adding challenge to set check whether hacker has done it\n",
    "rec={}\n",
    "iter=0\n",
    "hackers=df['hacker_id'].unique()\n",
    "#hackers=[\"00004cf8b853ad0d\",\"3827969344861ac8\",\"b630307ea7151c3a\"]\n",
    "for hacker in hackers:\n",
    "    print \"\\ruser \"+str(iter)+\":\"+hacker,\n",
    "    l=hpref[hacker]\n",
    "    pref=[]\n",
    "    for i in range(len(l)) :\n",
    "        #if l[i]!=0:\n",
    "        pref.append((l[i],i))\n",
    "    pref.sort(reverse=True)\n",
    "    hrec=set()\n",
    "    size=3\n",
    "    num=12\n",
    "    for t in pref:\n",
    "        tdf=subdom[idxmap[t[1]]]\n",
    "        if len(hrec)>=num:\n",
    "                break\n",
    "        count=0\n",
    "        for ii,row in tdf.iterrows():\n",
    "            if ((row['hacker_id']!=hacker) or (row['hacker_id']==hacker and row['solved']==0)) and row['contest_id']=='c8ff662c97d345d2':\n",
    "                if row['challenge_id'] not in hrec:\n",
    "                    if hacker not in hacker_solved:\n",
    "                        hrec.add(row['challenge_id'])\n",
    "                        ss=set()\n",
    "                        ss.add(row['challenge_id'])\n",
    "                        hacker_solved[hacker]=ss\n",
    "                        count+=1\n",
    "                    elif row['challenge_id'] not in hacker_solved[hacker]:\n",
    "                        hrec.add(row['challenge_id'])\n",
    "                        hacker_solved[hacker].add(row['challenge_id'])\n",
    "                        count+=1\n",
    "                    if count==size:\n",
    "                        break\n",
    "            if len(hrec)>=num:\n",
    "                break\n",
    "        #print idxmap[t[1]],len(hrec)\n",
    "    l=list(hrec)\n",
    "    shuffle(l)\n",
    "    rec[hacker]=l\n",
    "    iter+=1\n",
    "#print rec"
   ]
  },
  {
   "cell_type": "code",
   "execution_count": 23,
   "metadata": {
    "collapsed": false
   },
   "outputs": [],
   "source": [
    "import os\n",
    "os.remove(\"recommendation.csv\")\n",
    "f = open('recommendation.csv','w')\n",
    "for key in rec:\n",
    "    ans=''\n",
    "    l=rec[key]\n",
    "    l=l[0:10]\n",
    "    shuffle(l)\n",
    "    for c in l:\n",
    "        ans+=','+c    \n",
    "    f.write(key+ans+'\\n')    \n",
    "f.close()"
   ]
  },
  {
   "cell_type": "code",
   "execution_count": null,
   "metadata": {
    "collapsed": true
   },
   "outputs": [],
   "source": []
  }
 ],
 "metadata": {
  "kernelspec": {
   "display_name": "Python 2",
   "language": "python",
   "name": "python2"
  },
  "language_info": {
   "codemirror_mode": {
    "name": "ipython",
    "version": 2
   },
   "file_extension": ".py",
   "mimetype": "text/x-python",
   "name": "python",
   "nbconvert_exporter": "python",
   "pygments_lexer": "ipython2",
   "version": "2.7.10"
  }
 },
 "nbformat": 4,
 "nbformat_minor": 0
}
