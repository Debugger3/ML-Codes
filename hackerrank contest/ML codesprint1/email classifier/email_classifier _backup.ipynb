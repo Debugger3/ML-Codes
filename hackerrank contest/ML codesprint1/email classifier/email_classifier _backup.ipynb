{
 "cells": [
  {
   "cell_type": "code",
   "execution_count": 1,
   "metadata": {
    "collapsed": true
   },
   "outputs": [],
   "source": [
    "import pandas as pd\n",
    "import string\n",
    "import numpy as np\n",
    "import os\n",
    "import pickle\n",
    "from sklearn.preprocessing import LabelEncoder"
   ]
  },
  {
   "cell_type": "code",
   "execution_count": 2,
   "metadata": {
    "collapsed": false
   },
   "outputs": [],
   "source": [
    "df=pd.read_csv(\"training_dataset.csv\")\n",
    "df_test=pd.read_csv('test_dataset.csv')\n",
    "df=df.reindex(np.random.permutation(df.index))"
   ]
  },
  {
   "cell_type": "code",
   "execution_count": 3,
   "metadata": {
    "collapsed": false
   },
   "outputs": [
    {
     "name": "stdout",
     "output_type": "stream",
     "text": [
      "161347\n",
      "324701\n",
      "486048\n"
     ]
    }
   ],
   "source": [
    "print len(df.loc[df['opened']==True])\n",
    "print len(df.loc[df['opened']==False])\n",
    "print len(df)"
   ]
  },
  {
   "cell_type": "code",
   "execution_count": 4,
   "metadata": {
    "collapsed": false
   },
   "outputs": [],
   "source": [
    "df_opened=df.loc[df['opened']==True]\n",
    "df_closed=df.loc[df['opened']==False]\n",
    "percentage = len(df_opened)/float(len(df_closed))\n",
    "df_closed=df_closed.sample(frac=percentage)\n",
    "df=df_opened.append(df_closed)\n",
    "df=df.reindex(np.random.permutation(df.index))"
   ]
  },
  {
   "cell_type": "code",
   "execution_count": 5,
   "metadata": {
    "collapsed": false
   },
   "outputs": [
    {
     "name": "stdout",
     "output_type": "stream",
     "text": [
      "161347\n",
      "161347\n",
      "322694\n"
     ]
    }
   ],
   "source": [
    "print len(df.loc[df['opened']==True])\n",
    "print len(df.loc[df['opened']==False])\n",
    "print len(df)"
   ]
  },
  {
   "cell_type": "code",
   "execution_count": 6,
   "metadata": {
    "collapsed": false
   },
   "outputs": [],
   "source": [
    "features=['mail_category','mail_type']\n",
    "dtrain={}\n",
    "dtest={}\n",
    "for col in features:\n",
    "    dtrain[col]=df[col].value_counts().index[0]\n",
    "    dtest[col]=df_test[col].value_counts().index[0]\n",
    "    #dtrain[col]=df[col].value_counts().index[0]\n",
    "    #dtest[col]=df_test[col].value_counts().index[0]\n",
    "    #df_test = df_test.fillna(df_test[col].value_counts().index[0])\n",
    "    #df[col]=df[col].fillna(df[col].median())\n",
    "    #df_test[col]=df_test[col].fillna(df_test[col].median())\n",
    "    #print col,len(df[df[col].isnull()]),len(df_test[df_test[col].isnull()])\n",
    "    \n",
    "for col in features:\n",
    "    df[col]=df[col].fillna(method='ffill')\n",
    "    df_test[col]=df_test[col].fillna(method='ffill')\n",
    "    #df[col]=df[col].fillna(df[col].value_counts().index[0])\n",
    "    #df[col]=df[col].fillna(dtrain[col])\n",
    "    #df_test[col]=df_test[col].fillna(dtest[col])\n",
    "\n",
    "    \"\"\"df['mail_type']=df['mail_type'].fillna(dtrain['mail_type'])\n",
    "df['mail_category']=df['mail_category'].fillna(dtrain['mail_category'])\n",
    "df_test['mail_type']=df_test['mail_type'].fillna(dtrain['mail_type'])\n",
    "df_test['mail_category']=df_test['mail_category'].fillna(dtest['mail_category'])\"\"\""
   ]
  },
  {
   "cell_type": "code",
   "execution_count": 7,
   "metadata": {
    "collapsed": true
   },
   "outputs": [],
   "source": [
    "features=['sent_time','last_online','hacker_created_at','hacker_timezone','contest_login_count','contest_login_count_1_days','contest_login_count_30_days','contest_login_count_365_days','contest_login_count_7_days','contest_participation_count','contest_participation_count_1_days','contest_participation_count_30_days','contest_participation_count_365_days','contest_participation_count_7_days','forum_comments_count','forum_count','forum_expert_count','forum_questions_count','hacker_confirmation','ipn_count','ipn_count_1_days','ipn_count_30_days','ipn_count_365_days','ipn_count_7_days','ipn_read','ipn_read_1_days','ipn_read_30_days','ipn_read_365_days','ipn_read_7_days','submissions_count','submissions_count_1_days','submissions_count_30_days','submissions_count_365_days','submissions_count_7_days','submissions_count_contest','submissions_count_contest_1_days','submissions_count_contest_30_days','submissions_count_contest_365_days','submissions_count_contest_7_days','submissions_count_master','submissions_count_master_1_days','submissions_count_master_30_days','submissions_count_master_365_days','submissions_count_master_7_days']\n",
    "for col in features:\n",
    "    df[col]=df[col].fillna(method='ffill')\n",
    "    df_test[col]=df_test[col].fillna(method='ffill')\n",
    "    #df[col]=df[col].fillna(df[col].median())\n",
    "    #df_test[col]=df_test[col].fillna(df_test[col].median())"
   ]
  },
  {
   "cell_type": "code",
   "execution_count": 8,
   "metadata": {
    "collapsed": false
   },
   "outputs": [
    {
     "data": {
      "text/plain": [
       "\"print len(df[df['mail_type'].isnull()])\\nprint len(df[df['mail_category'].isnull()])\\nprint len(df_test[df_test['mail_type'].isnull()])\\nprint len(df_test[df_test['mail_category'].isnull()])\""
      ]
     },
     "execution_count": 8,
     "metadata": {},
     "output_type": "execute_result"
    }
   ],
   "source": [
    "enc1 = LabelEncoder()\n",
    "t_mail_train=enc1.fit_transform(df['mail_type'])\n",
    "t_mail_test=enc1.transform(df_test['mail_type'])\n",
    "df['mail_type_label']=t_mail_train\n",
    "df_test['mail_type_label']=t_mail_test\n",
    "enc2 = LabelEncoder()\n",
    "t_cat_train=enc2.fit_transform(df['mail_category'])\n",
    "t_cat_test=enc2.transform(df_test['mail_category'])\n",
    "df['mail_category_label']=t_cat_train\n",
    "df_test['mail_category_label']=t_cat_test\n",
    "\n",
    "\"\"\"print len(df[df['mail_type'].isnull()])\n",
    "print len(df[df['mail_category'].isnull()])\n",
    "print len(df_test[df_test['mail_type'].isnull()])\n",
    "print len(df_test[df_test['mail_category'].isnull()])\"\"\"\n"
   ]
  },
  {
   "cell_type": "code",
   "execution_count": 9,
   "metadata": {
    "collapsed": true
   },
   "outputs": [],
   "source": [
    "features=['mail_category_label','mail_type_label','sent_time','last_online','hacker_created_at','hacker_timezone','contest_login_count','contest_login_count_1_days','contest_login_count_30_days','contest_login_count_365_days','contest_login_count_7_days','contest_participation_count','contest_participation_count_1_days','contest_participation_count_30_days','contest_participation_count_365_days','contest_participation_count_7_days','forum_comments_count','forum_count','forum_expert_count','forum_questions_count','hacker_confirmation','ipn_count','ipn_count_1_days','ipn_count_30_days','ipn_count_365_days','ipn_count_7_days','ipn_read','ipn_read_1_days','ipn_read_30_days','ipn_read_365_days','ipn_read_7_days','submissions_count','submissions_count_1_days','submissions_count_30_days','submissions_count_365_days','submissions_count_7_days','submissions_count_contest','submissions_count_contest_1_days','submissions_count_contest_30_days','submissions_count_contest_365_days','submissions_count_contest_7_days','submissions_count_master','submissions_count_master_1_days','submissions_count_master_30_days','submissions_count_master_365_days','submissions_count_master_7_days']\n",
    "#features=['mail_category_label','sent_time','last_online','hacker_created_at','hacker_timezone','contest_login_count','contest_login_count_1_days','contest_login_count_30_days','contest_login_count_365_days','contest_login_count_7_days','contest_participation_count','contest_participation_count_1_days','contest_participation_count_30_days','contest_participation_count_365_days','contest_participation_count_7_days','forum_comments_count','forum_count','forum_expert_count','forum_questions_count','hacker_confirmation','ipn_count','ipn_count_1_days','ipn_count_30_days','ipn_count_365_days','ipn_count_7_days','ipn_read','ipn_read_1_days','ipn_read_30_days','ipn_read_365_days','ipn_read_7_days','submissions_count','submissions_count_1_days','submissions_count_30_days','submissions_count_365_days','submissions_count_7_days','submissions_count_contest','submissions_count_contest_1_days','submissions_count_contest_30_days','submissions_count_contest_365_days','submissions_count_contest_7_days','submissions_count_master','submissions_count_master_1_days','submissions_count_master_30_days','submissions_count_master_365_days','submissions_count_master_7_days']"
   ]
  },
  {
   "cell_type": "code",
   "execution_count": 10,
   "metadata": {
    "collapsed": false
   },
   "outputs": [
    {
     "data": {
      "text/plain": [
       "\"\\ndf = df.fillna(df['mail_type'].value_counts().index[0])\\ndf = df.fillna(df['mail_category'].value_counts().index[0])\\ndf_test = df_test.fillna(df_test['mail_type'].value_counts().index[0])\\ndf_test = df_test.fillna(df_test['mail_category'].value_counts().index[0])\\n\\ndf['mail_type']=df['mail_type'].fillna(method='ffill')\\ndf['mail_category']=df['mail_category'].fillna(method='ffill')\\ndf_test['mail_type']=df_test['mail_type'].fillna(method='ffill')\\ndf_test['mail_category']=df_test['mail_category'].fillna(method='ffill')\\n\\nprint len(df[df['mail_type'].isnull()])\\nprint len(df[df['mail_category'].isnull()])\\nprint len(df_test[df_test['mail_type'].isnull()])\\nprint len(df_test[df_test['mail_category'].isnull()])\\n\\n\""
      ]
     },
     "execution_count": 10,
     "metadata": {},
     "output_type": "execute_result"
    }
   ],
   "source": [
    "\"\"\"\n",
    "df = df.fillna(df['mail_type'].value_counts().index[0])\n",
    "df = df.fillna(df['mail_category'].value_counts().index[0])\n",
    "df_test = df_test.fillna(df_test['mail_type'].value_counts().index[0])\n",
    "df_test = df_test.fillna(df_test['mail_category'].value_counts().index[0])\n",
    "\n",
    "df['mail_type']=df['mail_type'].fillna(method='ffill')\n",
    "df['mail_category']=df['mail_category'].fillna(method='ffill')\n",
    "df_test['mail_type']=df_test['mail_type'].fillna(method='ffill')\n",
    "df_test['mail_category']=df_test['mail_category'].fillna(method='ffill')\n",
    "\n",
    "print len(df[df['mail_type'].isnull()])\n",
    "print len(df[df['mail_category'].isnull()])\n",
    "print len(df_test[df_test['mail_type'].isnull()])\n",
    "print len(df_test[df_test['mail_category'].isnull()])\n",
    "\n",
    "\"\"\""
   ]
  },
  {
   "cell_type": "code",
   "execution_count": 11,
   "metadata": {
    "collapsed": false
   },
   "outputs": [],
   "source": [
    "#from sklearn.ensemble import ExtraTreesClassifier\n",
    "#from sklearn.ensemble import BaggingClassifier\n",
    "from sklearn.ensemble import RandomForestClassifier\n",
    "#from sklearn.tree import DecisionTreeClassifier\n"
   ]
  },
  {
   "cell_type": "code",
   "execution_count": null,
   "metadata": {
    "collapsed": false
   },
   "outputs": [],
   "source": [
    "model=RandomForestClassifier(n_estimators=250)\n",
    "#model=BaggingClassifier(n_estimators=50)\n",
    "#model=DecisionTreeClassifier()\n",
    "#model=ExtraTreesClassifier(n_estimators=150)\n"
   ]
  },
  {
   "cell_type": "code",
   "execution_count": null,
   "metadata": {
    "collapsed": false
   },
   "outputs": [],
   "source": [
    "model.fit(df[features],df['opened'])"
   ]
  },
  {
   "cell_type": "code",
   "execution_count": null,
   "metadata": {
    "collapsed": false
   },
   "outputs": [],
   "source": [
    "predictions=model.predict(df_test[features])"
   ]
  },
  {
   "cell_type": "code",
   "execution_count": null,
   "metadata": {
    "collapsed": false
   },
   "outputs": [],
   "source": [
    "os.remove('predictions.csv')\n",
    "f = open('predictions.csv','w')\n",
    "for val in predictions:\n",
    "    f.write(str(val*1)+'\\n')    \n",
    "f.close()"
   ]
  },
  {
   "cell_type": "code",
   "execution_count": null,
   "metadata": {
    "collapsed": true
   },
   "outputs": [],
   "source": []
  },
  {
   "cell_type": "code",
   "execution_count": null,
   "metadata": {
    "collapsed": true
   },
   "outputs": [],
   "source": [
    "def save_object(obj, filename):\n",
    "    with open(filename, 'wb') as output:\n",
    "        pickle.dump(obj, output, pickle.HIGHEST_PROTOCOL)\n",
    "    return\n",
    "\n",
    "def load_object(filename):\n",
    "    with open(filename, 'rb') as input:\n",
    "        obj=pickle.load(input)\n",
    "    return obj"
   ]
  },
  {
   "cell_type": "code",
   "execution_count": null,
   "metadata": {
    "collapsed": false
   },
   "outputs": [],
   "source": [
    "#save_object(df,\"df.pkl\")\n",
    "#save_object(model,\"model.pkl\")"
   ]
  },
  {
   "cell_type": "code",
   "execution_count": 2,
   "metadata": {
    "collapsed": false
   },
   "outputs": [
    {
     "name": "stdout",
     "output_type": "stream",
     "text": [
      "[NbConvertApp] Converting notebook email_classifier.ipynb to script\n",
      "[NbConvertApp] Writing 7957 bytes to email_classifier.py\n"
     ]
    }
   ],
   "source": [
    "!jupyter nbconvert --to script email_classifier.ipynb"
   ]
  },
  {
   "cell_type": "code",
   "execution_count": null,
   "metadata": {
    "collapsed": true
   },
   "outputs": [],
   "source": []
  }
 ],
 "metadata": {
  "kernelspec": {
   "display_name": "Python 2",
   "language": "python",
   "name": "python2"
  },
  "language_info": {
   "codemirror_mode": {
    "name": "ipython",
    "version": 2
   },
   "file_extension": ".py",
   "mimetype": "text/x-python",
   "name": "python",
   "nbconvert_exporter": "python",
   "pygments_lexer": "ipython2",
   "version": "2.7.10"
  }
 },
 "nbformat": 4,
 "nbformat_minor": 0
}
