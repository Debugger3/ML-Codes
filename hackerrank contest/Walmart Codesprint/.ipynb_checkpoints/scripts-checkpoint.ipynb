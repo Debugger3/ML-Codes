{
 "cells": [
  {
   "cell_type": "code",
   "execution_count": 1,
   "metadata": {
    "collapsed": true
   },
   "outputs": [],
   "source": [
    "import pandas as pd\n",
    "from scipy.sparse import vstack,csr_matrix,bsr_matrix,hstack\n",
    "import string\n",
    "import numpy as np\n",
    "import os\n",
    "import pickle\n",
    "import operator\n",
    "from random import random,shuffle\n",
    "import nltk\n",
    "from nltk.stem.porter import PorterStemmer\n",
    "from sklearn.preprocessing import LabelEncoder\n",
    "from sklearn.preprocessing import MultiLabelBinarizer"
   ]
  },
  {
   "cell_type": "code",
   "execution_count": 2,
   "metadata": {
    "collapsed": true
   },
   "outputs": [],
   "source": [
    "df_train=pd.read_csv(\"dataset/train.tsv\",sep=\"\\t\")\n",
    "df_test=pd.read_csv(\"dataset/test.tsv\",sep=\"\\t\")"
   ]
  },
  {
   "cell_type": "code",
   "execution_count": 3,
   "metadata": {
    "collapsed": false
   },
   "outputs": [],
   "source": [
    "empty_cols={}\n",
    "for col in df_train.columns:\n",
    "    if sum(df_train[col].isnull())>0:\n",
    "        if col not in empty_cols:\n",
    "            empty_cols[col]=100*sum(df_train[col].isnull())/float(len(df_train))\n",
    "#print (empty_cols.items())"
   ]
  },
  {
   "cell_type": "code",
   "execution_count": 4,
   "metadata": {
    "collapsed": true
   },
   "outputs": [],
   "source": [
    "df_train['Item Class ID']=df_train['Item Class ID'].fillna(df_train['Item Class ID'].mode().values[0])\n",
    "df_test['Item Class ID']=df_test['Item Class ID'].fillna(df_test['Item Class ID'].mode().values[0])"
   ]
  },
  {
   "cell_type": "code",
   "execution_count": 5,
   "metadata": {
    "collapsed": false
   },
   "outputs": [],
   "source": [
    "test_category=(df_test['Item Class ID'].values)\n",
    "train_category=(df_train['Item Class ID'].values)"
   ]
  },
  {
   "cell_type": "code",
   "execution_count": 6,
   "metadata": {
    "collapsed": true
   },
   "outputs": [],
   "source": [
    "df_category_test=df_test['Item Class ID']"
   ]
  },
  {
   "cell_type": "code",
   "execution_count": 7,
   "metadata": {
    "collapsed": true
   },
   "outputs": [],
   "source": [
    "shelf_tags=set(['1071165','127175','529295','106546','3304195','4538','645319','4536','4537','1084835','1229818','1229819','1229817','5065','95987','1085065','1070524','1229820','447913','650659','522484','648819','1225174','62056','1180168','1229825','1229823','133270','1229821','4483','4457','581514'])"
   ]
  },
  {
   "cell_type": "code",
   "execution_count": 8,
   "metadata": {
    "collapsed": false
   },
   "outputs": [
    {
     "data": {
      "text/plain": [
       "32"
      ]
     },
     "execution_count": 8,
     "metadata": {},
     "output_type": "execute_result"
    }
   ],
   "source": [
    "len(shelf_tags)"
   ]
  },
  {
   "cell_type": "code",
   "execution_count": 9,
   "metadata": {
    "collapsed": true
   },
   "outputs": [],
   "source": [
    "categories=df_train['Item Class ID'].unique()\n",
    "category_shelf_count={}\n",
    "for category in categories:\n",
    "    category_shelf_count[category]={}\n",
    "    for shelf in shelf_tags:\n",
    "        category_shelf_count[category][shelf]=0\n",
    "for i,row in df_train.iterrows():\n",
    "    temp=(row['tag'].strip('[]').strip().split(','))\n",
    "    shelves=[x.strip() for x in temp]\n",
    "    category=row['Item Class ID']\n",
    "    for shelf in shelves:\n",
    "        category_shelf_count[category][shelf]+=1"
   ]
  },
  {
   "cell_type": "code",
   "execution_count": 10,
   "metadata": {
    "collapsed": false
   },
   "outputs": [],
   "source": [
    "for category in category_shelf_count:\n",
    "    category_shelf_count[category]=sorted(category_shelf_count[category].items(), key=operator.itemgetter(1),reverse=True)"
   ]
  },
  {
   "cell_type": "code",
   "execution_count": 11,
   "metadata": {
    "collapsed": false
   },
   "outputs": [],
   "source": [
    "#category_shelf_count"
   ]
  },
  {
   "cell_type": "code",
   "execution_count": 12,
   "metadata": {
    "collapsed": false
   },
   "outputs": [],
   "source": [
    "#category_shelf_count\n",
    "#total count of '4537' = 2803"
   ]
  },
  {
   "cell_type": "code",
   "execution_count": 13,
   "metadata": {
    "collapsed": false
   },
   "outputs": [
    {
     "name": "stdout",
     "output_type": "stream",
     "text": [
      "('Product Short Description', 60.398376286226757)\n",
      "('Publisher', 98.215802888700082)\n",
      "('Recommended Room', 99.952799018219579)\n",
      "('Literary Genre', 98.73501368828471)\n",
      "('ISBN', 97.564429340130275)\n",
      "('Recommended Use', 96.3560842065515)\n",
      "('Color', 99.839516661946575)\n",
      "('Short Description', 39.686585480978003)\n",
      "('actual_color', 99.669593127537055)\n",
      "('Actual Color', 54.69649768715189)\n",
      "('Artist ID', 99.169262720664591)\n",
      "('Item Class ID', 0.14160294534126311)\n",
      "('Seller', 52.572453507032947)\n",
      "('Genre ID', 99.178702917020672)\n",
      "('Synopsis', 97.536108751062017)\n",
      "('Actors', 97.706032285471537)\n",
      "('Product Name', 0.084961767204757857)\n",
      "('Recommended Location', 98.942698008118569)\n",
      "('MPAA Rating', 91.777588973850655)\n",
      "('Aspect Ratio', 90.191635986028516)\n",
      "('Product Long Description', 0.084961767204757857)\n"
     ]
    }
   ],
   "source": [
    "# unfilled columns vs % emptiness\n",
    "for item in empty_cols.items():\n",
    "    print item"
   ]
  },
  {
   "cell_type": "code",
   "execution_count": 14,
   "metadata": {
    "collapsed": false
   },
   "outputs": [],
   "source": [
    "columns_to_be_removed=[]\n",
    "for item in empty_cols.items():\n",
    "    if item[1]<=65:\n",
    "        df_train[item[0]]=df_train[item[0]].fillna(df_train[item[0]].mode().values[0])\n",
    "        df_test[item[0]]=df_test[item[0]].fillna(df_test[item[0]].mode().values[0])\n",
    "        #columns_to_be_removed.append(item[0])"
   ]
  },
  {
   "cell_type": "code",
   "execution_count": 15,
   "metadata": {
    "collapsed": false
   },
   "outputs": [
    {
     "name": "stdout",
     "output_type": "stream",
     "text": [
      "[]\n"
     ]
    }
   ],
   "source": [
    "print columns_to_be_removed"
   ]
  },
  {
   "cell_type": "code",
   "execution_count": 16,
   "metadata": {
    "collapsed": false
   },
   "outputs": [],
   "source": [
    "df_train=df_train.drop(columns_to_be_removed,axis=1)\n",
    "df_test=df_test.drop(columns_to_be_removed,axis=1)"
   ]
  },
  {
   "cell_type": "code",
   "execution_count": 17,
   "metadata": {
    "collapsed": false
   },
   "outputs": [
    {
     "name": "stdout",
     "output_type": "stream",
     "text": [
      "set(['Product Short Description', 'Publisher', 'actual_color', 'Literary Genre', 'ISBN', 'Recommended Use', 'Color', 'Short Description', 'Actual Color', 'Artist ID', 'Item Class ID', 'Seller', 'Genre ID', 'Synopsis', 'Actors', 'Product Name', 'Recommended Location', 'Recommended Room', 'MPAA Rating', 'Aspect Ratio', 'Product Long Description'])\n"
     ]
    }
   ],
   "source": [
    "columns_to_processed=set(empty_cols.keys())-set(columns_to_be_removed)\n",
    "print columns_to_processed"
   ]
  },
  {
   "cell_type": "code",
   "execution_count": 18,
   "metadata": {
    "collapsed": true
   },
   "outputs": [],
   "source": [
    "description_columns=[\"Product Short Description\",\"Product Long Description\",\"Short Description\",\"Product Name\"]\n",
    "other_columns=[\"Seller\",\"Actual Color\",\"Item Class ID\"]"
   ]
  },
  {
   "cell_type": "code",
   "execution_count": 19,
   "metadata": {
    "collapsed": true
   },
   "outputs": [],
   "source": [
    "#description_columns+=other_columns\n",
    "description_columns=columns_to_processed"
   ]
  },
  {
   "cell_type": "code",
   "execution_count": 20,
   "metadata": {
    "collapsed": false
   },
   "outputs": [
    {
     "data": {
      "text/plain": [
       "'for col in other_columns:\\n    df_train[col]=df_train[col].fillna(df_train[col].mode().values[0])\\n    df_test[col]=df_test[col].fillna(df_test[col].mode().values[0])'"
      ]
     },
     "execution_count": 20,
     "metadata": {},
     "output_type": "execute_result"
    }
   ],
   "source": [
    "for col in description_columns:\n",
    "    df_train[col]=df_train[col].fillna(\" \")\n",
    "    df_test[col]=df_test[col].fillna(\" \")\n",
    "\"\"\"for col in other_columns:\n",
    "    df_train[col]=df_train[col].fillna(df_train[col].mode().values[0])\n",
    "    df_test[col]=df_test[col].fillna(df_test[col].mode().values[0])\"\"\""
   ]
  },
  {
   "cell_type": "code",
   "execution_count": 21,
   "metadata": {
    "collapsed": true
   },
   "outputs": [],
   "source": [
    "#description_columns+=other_columns"
   ]
  },
  {
   "cell_type": "code",
   "execution_count": 22,
   "metadata": {
    "collapsed": false
   },
   "outputs": [],
   "source": [
    "df_train['Description']=[\"\"]*len(df_train)\n",
    "df_test['Description']=[\"\"]*len(df_test)\n",
    "for col in description_columns:\n",
    "    df_train['Description']+=\" \"+df_train[col].apply(str)\n",
    "    df_test['Description']+=\" \"+df_test[col].apply(str)"
   ]
  },
  {
   "cell_type": "code",
   "execution_count": 23,
   "metadata": {
    "collapsed": false
   },
   "outputs": [
    {
     "name": "stdout",
     "output_type": "stream",
     "text": [
      "0\n",
      "0\n"
     ]
    }
   ],
   "source": [
    "print sum(df_train['Description'].isnull())\n",
    "print sum(df_test['Description'].isnull())"
   ]
  },
  {
   "cell_type": "code",
   "execution_count": 24,
   "metadata": {
    "collapsed": true
   },
   "outputs": [],
   "source": [
    "import re\n",
    "import string\n",
    "def striphtml(data):\n",
    "    replace_punctuation = string.maketrans(string.punctuation, ' '*len(string.punctuation))\n",
    "    p = re.compile(r'<.*?>')\n",
    "    #pp= re.compile(r'short description is not available')\n",
    "    text = p.sub(' ', data).translate(replace_punctuation)\n",
    "    return text"
   ]
  },
  {
   "cell_type": "code",
   "execution_count": 25,
   "metadata": {
    "collapsed": true
   },
   "outputs": [],
   "source": [
    "stemmer = PorterStemmer()\n",
    "def stem_tokens(tokens, stemmer):\n",
    "    stemmed = []\n",
    "    for item in tokens:\n",
    "        stemmed.append(stemmer.stem(item))\n",
    "    return \" \".join(stemmed)\n",
    "\n",
    "def pre_process(text):\n",
    "    text=text.decode('utf-8').strip()\n",
    "    text = \"\".join([ch for ch in text if ch not in string.punctuation])\n",
    "    tokens = nltk.word_tokenize(text)\n",
    "    stems = stem_tokens(tokens, stemmer)\n",
    "    return stems"
   ]
  },
  {
   "cell_type": "code",
   "execution_count": 26,
   "metadata": {
    "collapsed": false
   },
   "outputs": [],
   "source": [
    "#print striphtml(\"i<li>love getting</li>loved and the get loving to seeing the seen\")\n",
    "#print pre_process(striphtml(\"i<li>love getting</li>loved and the get loving to seeing the seen\"))"
   ]
  },
  {
   "cell_type": "code",
   "execution_count": 27,
   "metadata": {
    "collapsed": false
   },
   "outputs": [],
   "source": [
    "df_train[\"Description\"]=df_train['Description'].apply(striphtml)\n",
    "df_test[\"Description\"]=df_test['Description'].apply(striphtml)"
   ]
  },
  {
   "cell_type": "code",
   "execution_count": 28,
   "metadata": {
    "collapsed": false
   },
   "outputs": [],
   "source": [
    "#df_train[\"Description\"]=df_train['Description'].apply(pre_process)\n",
    "#df_test[\"Description\"]=df_test['Description'].apply(pre_process)"
   ]
  },
  {
   "cell_type": "code",
   "execution_count": null,
   "metadata": {
    "collapsed": true
   },
   "outputs": [],
   "source": []
  },
  {
   "cell_type": "code",
   "execution_count": 29,
   "metadata": {
    "collapsed": false
   },
   "outputs": [],
   "source": [
    "df_train=df_train.drop(description_columns,axis=1)\n",
    "df_test=df_test.drop(description_columns,axis=1)"
   ]
  },
  {
   "cell_type": "code",
   "execution_count": 30,
   "metadata": {
    "collapsed": false
   },
   "outputs": [],
   "source": [
    "columns_to_processed=set(columns_to_processed)-set(description_columns)"
   ]
  },
  {
   "cell_type": "code",
   "execution_count": 31,
   "metadata": {
    "collapsed": false
   },
   "outputs": [
    {
     "name": "stdout",
     "output_type": "stream",
     "text": [
      "set([])\n"
     ]
    }
   ],
   "source": [
    "print columns_to_processed"
   ]
  },
  {
   "cell_type": "code",
   "execution_count": 32,
   "metadata": {
    "collapsed": false
   },
   "outputs": [],
   "source": [
    "for col in columns_to_processed:\n",
    "    #print col,df_train[col].mode().values[0]\n",
    "    df_train[col]=df_train[col].fillna(df_train[col].mode().values[0])\n",
    "    df_test[col]=df_test[col].fillna(df_test[col].mode().values[0])"
   ]
  },
  {
   "cell_type": "code",
   "execution_count": 33,
   "metadata": {
    "collapsed": true
   },
   "outputs": [],
   "source": [
    "from sklearn.feature_extraction.text import TfidfVectorizer,CountVectorizer,HashingVectorizer"
   ]
  },
  {
   "cell_type": "code",
   "execution_count": 34,
   "metadata": {
    "collapsed": false
   },
   "outputs": [],
   "source": [
    "#vectorizer=TfidfVectorizer(stop_words='english',ngram_range=(1,2),sublinear_tf=True)\n",
    "vectorizer=CountVectorizer(stop_words='english',ngram_range=(1,2))\n",
    "#vectorizer=HashingVectorizer(stop_words='english',ngram_range=(1,2))"
   ]
  },
  {
   "cell_type": "code",
   "execution_count": 35,
   "metadata": {
    "collapsed": false
   },
   "outputs": [
    {
     "data": {
      "text/plain": [
       "CountVectorizer(analyzer=u'word', binary=False, decode_error=u'strict',\n",
       "        dtype=<type 'numpy.int64'>, encoding=u'utf-8', input=u'content',\n",
       "        lowercase=True, max_df=1.0, max_features=None, min_df=1,\n",
       "        ngram_range=(1, 2), preprocessor=None, stop_words='english',\n",
       "        strip_accents=None, token_pattern=u'(?u)\\\\b\\\\w\\\\w+\\\\b',\n",
       "        tokenizer=None, vocabulary=None)"
      ]
     },
     "execution_count": 35,
     "metadata": {},
     "output_type": "execute_result"
    }
   ],
   "source": [
    "vectorizer.fit(df_train['Description'].append(df_test['Description']))"
   ]
  },
  {
   "cell_type": "code",
   "execution_count": 36,
   "metadata": {
    "collapsed": true
   },
   "outputs": [],
   "source": [
    "bow_train=vectorizer.transform(df_train['Description'])\n",
    "bow_test=vectorizer.transform(df_test['Description'])"
   ]
  },
  {
   "cell_type": "code",
   "execution_count": 37,
   "metadata": {
    "collapsed": false
   },
   "outputs": [
    {
     "data": {
      "text/plain": [
       "'print bow_train.shape\\nprint bow_test.shape\\ntrain_category=np.reshape(train_category,(10593,1))\\ntest_category=np.reshape(test_category,(10593,1))\\nprint test_category.shape\\nprint train_category.shape'"
      ]
     },
     "execution_count": 37,
     "metadata": {},
     "output_type": "execute_result"
    }
   ],
   "source": [
    "\"\"\"print bow_train.shape\n",
    "print bow_test.shape\n",
    "train_category=np.reshape(train_category,(10593,1))\n",
    "test_category=np.reshape(test_category,(10593,1))\n",
    "print test_category.shape\n",
    "print train_category.shape\"\"\""
   ]
  },
  {
   "cell_type": "code",
   "execution_count": 38,
   "metadata": {
    "collapsed": false
   },
   "outputs": [
    {
     "data": {
      "text/plain": [
       "'enc=LabelEncoder()\\nenc.fit(list(train_category)+list(test_category))\\ntrain_category=enc.transform(train_category)\\ntest_category=enc.transform(test_category)'"
      ]
     },
     "execution_count": 38,
     "metadata": {},
     "output_type": "execute_result"
    }
   ],
   "source": [
    "\"\"\"enc=LabelEncoder()\n",
    "enc.fit(list(train_category)+list(test_category))\n",
    "train_category=enc.transform(train_category)\n",
    "test_category=enc.transform(test_category)\"\"\""
   ]
  },
  {
   "cell_type": "code",
   "execution_count": 39,
   "metadata": {
    "collapsed": false
   },
   "outputs": [],
   "source": [
    "#bow_train=hstack((bow_train,train_category.astype(float)),format='csr')\n",
    "#bow_test=hstack((bow_test,test_category.astype(float)),format='csr')\n",
    "#hstack((bow_train, train_category),format='csr')"
   ]
  },
  {
   "cell_type": "code",
   "execution_count": 40,
   "metadata": {
    "collapsed": false
   },
   "outputs": [],
   "source": [
    "labels=[]\n",
    "for i,row in df_train.iterrows():\n",
    "    temp=(row['tag'].strip('[]').strip().split(','))\n",
    "    #print temp\n",
    "    t=[x.strip() for x in temp]\n",
    "    #print t\n",
    "    labels.append(t)\n",
    "#labels"
   ]
  },
  {
   "cell_type": "code",
   "execution_count": 41,
   "metadata": {
    "collapsed": false
   },
   "outputs": [],
   "source": [
    "binarizer=MultiLabelBinarizer()\n",
    "bin_multilabels=binarizer.fit_transform(labels)"
   ]
  },
  {
   "cell_type": "code",
   "execution_count": 42,
   "metadata": {
    "collapsed": false
   },
   "outputs": [
    {
     "name": "stdout",
     "output_type": "stream",
     "text": [
      "[[0 0 0 0 0 0 0 0 0 0 0 0 0 0 0 0 0 0 0 1 0 0 0 0 0 0 0 0 0 0 0 0]\n",
      " [0 0 0 0 0 0 0 0 0 0 0 0 0 0 0 0 0 0 0 0 0 0 0 0 0 0 1 0 0 0 0 0]\n",
      " [0 0 0 0 0 0 0 0 0 0 0 0 0 0 0 0 0 0 0 1 0 0 0 0 0 0 0 0 0 0 0 0]\n",
      " [0 0 0 0 0 0 0 0 0 0 0 0 0 0 0 0 0 0 0 0 0 1 0 0 0 0 0 0 0 0 0 0]\n",
      " [0 0 0 0 0 0 0 1 0 0 0 1 0 0 0 0 0 0 0 0 0 0 0 0 0 0 0 0 0 0 0 0]]\n",
      "[['4483'], ['581514'], ['4483'], ['4537'], ['1229817', '1229821']]\n"
     ]
    }
   ],
   "source": [
    "print bin_multilabels[0:5]\n",
    "print labels[0:5]"
   ]
  },
  {
   "cell_type": "code",
   "execution_count": 43,
   "metadata": {
    "collapsed": true
   },
   "outputs": [],
   "source": [
    "from sklearn.multiclass import OneVsRestClassifier\n",
    "from sklearn.naive_bayes import MultinomialNB,BernoulliNB,GaussianNB\n",
    "from sklearn.svm import SVC,LinearSVC\n",
    "from xgboost.sklearn import XGBClassifier\n",
    "from sklearn.linear_model import LogisticRegression,SGDClassifier,LassoCV\n",
    "from sklearn.ensemble import RandomForestClassifier,AdaBoostClassifier,GradientBoostingClassifier\n",
    "from sklearn.linear_model.perceptron import Perceptron\n",
    "from sklearn.semi_supervised import LabelPropagation\n",
    "from sklearn.feature_selection import chi2,SelectFromModel,SelectKBest"
   ]
  },
  {
   "cell_type": "code",
   "execution_count": 44,
   "metadata": {
    "collapsed": false
   },
   "outputs": [
    {
     "data": {
      "text/plain": [
       "'semi_sup_labels=np.zeros(shape=(len(df_test),32))\\nsemi_sup_labels.fill(-1)\\nbow_full=vstack((bow_train,bow_test))\\nlabels_full=np.vstack((bin_multilabels,semi_sup_labels))'"
      ]
     },
     "execution_count": 44,
     "metadata": {},
     "output_type": "execute_result"
    }
   ],
   "source": [
    "\"\"\"semi_sup_labels=np.zeros(shape=(len(df_test),32))\n",
    "semi_sup_labels.fill(-1)\n",
    "bow_full=vstack((bow_train,bow_test))\n",
    "labels_full=np.vstack((bin_multilabels,semi_sup_labels))\"\"\""
   ]
  },
  {
   "cell_type": "code",
   "execution_count": 45,
   "metadata": {
    "collapsed": false
   },
   "outputs": [
    {
     "data": {
      "text/plain": [
       "OneVsRestClassifier(estimator=MultinomialNB(alpha=1.0, class_prior=None, fit_prior=True),\n",
       "          n_jobs=1)"
      ]
     },
     "execution_count": 45,
     "metadata": {},
     "output_type": "execute_result"
    }
   ],
   "source": [
    "#model = OneVsRestClassifier(LinearSVC(multi_class='ovr',max_iter=1000,random_state=9701)) #769\n",
    "#model = OneVsRestClassifier(GaussianNB())\n",
    "model = OneVsRestClassifier(LogisticRegression(multi_class='ovr'))\n",
    "#model = OneVsRestClassifier(MultinomialNB()) #610\n",
    "#model = OneVsRestClassifier(AdaBoostClassifier())\n",
    "#model = OneVsRestClassifier(SGDClassifier(n_iter=100,loss='log')) #689\n",
    "#model = OneVsRestClassifier(Perceptron(n_iter=1000)) #756\n",
    "#model = OneVsRestClassifier(RandomForestClassifier(n_estimators=150)) #611\n",
    "#model= OneVsRestClassifier(XGBClassifier())\n",
    "model.fit(bow_train,bin_multilabels)"
   ]
  },
  {
   "cell_type": "code",
   "execution_count": 46,
   "metadata": {
    "collapsed": true
   },
   "outputs": [],
   "source": [
    "predictions=model.predict(bow_test)"
   ]
  },
  {
   "cell_type": "code",
   "execution_count": 47,
   "metadata": {
    "collapsed": false
   },
   "outputs": [
    {
     "data": {
      "text/plain": [
       "numpy.ndarray"
      ]
     },
     "execution_count": 47,
     "metadata": {},
     "output_type": "execute_result"
    }
   ],
   "source": [
    "type(predictions)"
   ]
  },
  {
   "cell_type": "code",
   "execution_count": 48,
   "metadata": {
    "collapsed": false
   },
   "outputs": [
    {
     "data": {
      "text/plain": [
       "'from scipy.sparse import vstack\\nbow_full=vstack((bow_train,bow_test))\\nprint type(bin_multilabels),type(predictions)\\nlabels_full=np.vstack((bin_multilabels,predictions))'"
      ]
     },
     "execution_count": 48,
     "metadata": {},
     "output_type": "execute_result"
    }
   ],
   "source": [
    "\"\"\"from scipy.sparse import vstack\n",
    "bow_full=vstack((bow_train,bow_test))\n",
    "print type(bin_multilabels),type(predictions)\n",
    "labels_full=np.vstack((bin_multilabels,predictions))\"\"\""
   ]
  },
  {
   "cell_type": "code",
   "execution_count": 49,
   "metadata": {
    "collapsed": false
   },
   "outputs": [
    {
     "data": {
      "text/plain": [
       "\"model = OneVsRestClassifier(LogisticRegression(multi_class='ovr'))\\nmodel.fit(bow_full,labels_full)\\npredictions=model.predict(bow_test)\""
      ]
     },
     "execution_count": 49,
     "metadata": {},
     "output_type": "execute_result"
    }
   ],
   "source": [
    "#semi supervised approach \n",
    "\"\"\"model = OneVsRestClassifier(LogisticRegression(multi_class='ovr'))\n",
    "model.fit(bow_full,labels_full)\n",
    "predictions=model.predict(bow_test)\"\"\""
   ]
  },
  {
   "cell_type": "code",
   "execution_count": 50,
   "metadata": {
    "collapsed": false
   },
   "outputs": [],
   "source": [
    "predictions=binarizer.inverse_transform(predictions)"
   ]
  },
  {
   "cell_type": "code",
   "execution_count": 51,
   "metadata": {
    "collapsed": false
   },
   "outputs": [
    {
     "name": "stdout",
     "output_type": "stream",
     "text": [
      "1081\n"
     ]
    }
   ],
   "source": [
    "#some products are not assigned a shelf\n",
    "count=0\n",
    "for t in predictions:\n",
    "    count+=(len(t)==0)\n",
    "print count"
   ]
  },
  {
   "cell_type": "code",
   "execution_count": 52,
   "metadata": {
    "collapsed": false
   },
   "outputs": [
    {
     "name": "stdout",
     "output_type": "stream",
     "text": [
      "{'1071165': 52, '127175': 510, '529295': 520, '106546': 827, '3304195': 345, '4538': 250, '645319': 3, '4536': 229, '4537': 2803, '1084835': 21, '1229818': 16, '1229819': 60, '1229817': 389, '5065': 80, '95987': 619, '1085065': 51, '1229823': 3, '1070524': 169, '1229820': 175, '447913': 608, '650659': 195, '522484': 603, '648819': 11, '1225174': 53, '62056': 29, '1180168': 271, '1229825': 50, '133270': 3, '1229821': 763, '4483': 2115, '4457': 22, '581514': 772}\n"
     ]
    }
   ],
   "source": [
    "shelf_popularity_count={}\n",
    "for i in range(len(labels)):\n",
    "    for shelf in labels[i]:\n",
    "        if shelf not in shelf_popularity_count:\n",
    "            shelf_popularity_count[shelf]=0\n",
    "        shelf_popularity_count[shelf]+=1\n",
    "print shelf_popularity_count"
   ]
  },
  {
   "cell_type": "code",
   "execution_count": 53,
   "metadata": {
    "collapsed": false
   },
   "outputs": [],
   "source": [
    "shelf_popularity_count = sorted(shelf_popularity_count.items(), key=operator.itemgetter(1),reverse=True)"
   ]
  },
  {
   "cell_type": "code",
   "execution_count": 54,
   "metadata": {
    "collapsed": false
   },
   "outputs": [
    {
     "data": {
      "text/plain": [
       "[('4537', 2803), ('4483', 2115), ('106546', 827)]"
      ]
     },
     "execution_count": 54,
     "metadata": {},
     "output_type": "execute_result"
    }
   ],
   "source": [
    "shelf_popularity_count[0:3]"
   ]
  },
  {
   "cell_type": "code",
   "execution_count": 55,
   "metadata": {
    "collapsed": false
   },
   "outputs": [
    {
     "name": "stdout",
     "output_type": "stream",
     "text": [
      "['[581514]', '[4537]', '[4483]', '[4483]', '[4537]', '[4537,581514]', '[4483]', '[4537]', '[581514]', '[4537]', '[581514]', '[106546,127175,522484,95987]', '[4537]', '[106546]', '[4483]', '[529295]', '[4483]', '[1229821,447913]', '[581514]', '[4483]']\n",
      "[('581514',), ('4537',), ('4483',), ('4483',), ('4537',), ('4537', '581514'), ('4483',), ('4537',), ('581514',), ('4537',), ('581514',), ('106546', '127175', '522484', '95987'), (), ('106546',), ('4483',), ('529295',), ('4483',), ('1229821', '447913'), ('581514',), ('4483',)]\n"
     ]
    }
   ],
   "source": [
    "#row_num=0\n",
    "final=[]\n",
    "for i,category in df_category_test.iteritems():\n",
    "    t=predictions[i]\n",
    "    if len(t)==0:\n",
    "        if category in category_shelf_count:\n",
    "            #final.append('['+category_shelf_count[category][0][0]+',4537]')\n",
    "            final.append('['+category_shelf_count[category][0][0]+']')\n",
    "        else:\n",
    "            final.append('[4537]')     \n",
    "    else:\n",
    "        temp='['+\",\".join(t)+']'\n",
    "        final.append(temp)\n",
    "print final[0:20]\n",
    "print predictions[0:20]"
   ]
  },
  {
   "cell_type": "code",
   "execution_count": 56,
   "metadata": {
    "collapsed": true
   },
   "outputs": [],
   "source": [
    "df_test['tag']=final"
   ]
  },
  {
   "cell_type": "code",
   "execution_count": 57,
   "metadata": {
    "collapsed": false
   },
   "outputs": [],
   "source": [
    "#df_test.head()"
   ]
  },
  {
   "cell_type": "code",
   "execution_count": 58,
   "metadata": {
    "collapsed": true
   },
   "outputs": [],
   "source": [
    "df_submission=df_test[['item_id','tag']]"
   ]
  },
  {
   "cell_type": "code",
   "execution_count": 59,
   "metadata": {
    "collapsed": false
   },
   "outputs": [],
   "source": [
    "df_submission.to_csv(\"submission.tsv\",sep=\"\\t\",index=False)"
   ]
  },
  {
   "cell_type": "code",
   "execution_count": 60,
   "metadata": {
    "collapsed": false
   },
   "outputs": [],
   "source": [
    "#vectorizer.vocabulary_"
   ]
  },
  {
   "cell_type": "code",
   "execution_count": 61,
   "metadata": {
    "collapsed": false
   },
   "outputs": [],
   "source": [
    "#for category in category_shelf_count:\n",
    "    #print category,category_shelf_count[category][0:3]\n",
    "#temp=striphtml('<table class=\"nomobile\" style=\"width: 254px;\" border=\"0\" cellspacing=\"4\" align=\"right\"><tbody><tr><td><img title=\"Surge Suppressor\" alt=\"Surge Suppressor\" src=\"http://images.highspeedbackbone.net/itemdetails/logos/badge-surge-suppressor.gif\" /></td><td><img title=\"12 Outlets\" alt=\"12 Outlets\" src=\"http://images.highspeedbackbone.net/itemdetails/logos/badge-12-outlets.gif\" /></td></tr></tbody></table><p><strong>Tripp Lite TLP1208TEL Protect It! Surge Suppressor</strong> <br />Provide high level security for your home and workplace with the Tripp Lite Protect It! Surge Suppressor. The advanced design elements of this 12 Outlet Surge Suppressor gives total protection for your all modern electronic devices from power surges, and spikes. It also provides a right-angle plug, an 8-inch cord, and diagnostic LEDs that helps organize your cables. It also offers powerful surge suppression with 2160 Joules of protection and has 4 transformer-spaced outlet. The RJ11 jacks takes supreme control of your your modem/fax/phone equipments. Ensure the protection of all connected electronics using the Tripp Lite Protect It! Surge Suppressor.</p><p><strong>What It Is and Why You Need It:</strong></p><ul><li>12 Outlet; gives total protection for your all modern electronic devices</li><li>8-inch cord; helps organize your cables</li><li>2160 joules; protects equipment from line noise and the strongest surges</li><li>RJ11 jacks; secures your modem/fax/phone equipment from damages</li></ul><center class=\"nomobile\"><p><img src=\"http://images.highspeedbackbone.net/SKUimages/enhanced/TLP1208TEL.jpg\"></p></center>')"
   ]
  },
  {
   "cell_type": "code",
   "execution_count": 62,
   "metadata": {
    "collapsed": false
   },
   "outputs": [],
   "source": [
    "#print vectorizer.transform(temp)"
   ]
  }
 ],
 "metadata": {
  "kernelspec": {
   "display_name": "Python 2",
   "language": "python",
   "name": "python2"
  },
  "language_info": {
   "codemirror_mode": {
    "name": "ipython",
    "version": 2
   },
   "file_extension": ".py",
   "mimetype": "text/x-python",
   "name": "python",
   "nbconvert_exporter": "python",
   "pygments_lexer": "ipython2",
   "version": "2.7.10"
  }
 },
 "nbformat": 4,
 "nbformat_minor": 1
}
